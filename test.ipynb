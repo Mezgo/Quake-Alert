{
 "cells": [
  {
   "attachments": {},
   "cell_type": "markdown",
   "metadata": {},
   "source": [
    "## PROFUNDIDAD"
   ]
  },
  {
   "cell_type": "code",
   "execution_count": 32,
   "metadata": {},
   "outputs": [],
   "source": [
    "# Crear un DataFrame de ejemplo\n",
    "data = pd.read_csv('chile.csv')\n",
    "df = pd.DataFrame(data)    \n",
    "df = df.drop('Unnamed: 0', axis=1)"
   ]
  },
  {
   "cell_type": "code",
   "execution_count": 33,
   "metadata": {},
   "outputs": [
    {
     "data": {
      "text/html": [
       "<div>\n",
       "<style scoped>\n",
       "    .dataframe tbody tr th:only-of-type {\n",
       "        vertical-align: middle;\n",
       "    }\n",
       "\n",
       "    .dataframe tbody tr th {\n",
       "        vertical-align: top;\n",
       "    }\n",
       "\n",
       "    .dataframe thead th {\n",
       "        text-align: right;\n",
       "    }\n",
       "</style>\n",
       "<table border=\"1\" class=\"dataframe\">\n",
       "  <thead>\n",
       "    <tr style=\"text-align: right;\">\n",
       "      <th></th>\n",
       "      <th>magnitud</th>\n",
       "      <th>longitud</th>\n",
       "      <th>latitud</th>\n",
       "      <th>profundidad</th>\n",
       "      <th>fecha_local</th>\n",
       "      <th>hora_local</th>\n",
       "    </tr>\n",
       "  </thead>\n",
       "  <tbody>\n",
       "    <tr>\n",
       "      <th>0</th>\n",
       "      <td>4.1</td>\n",
       "      <td>-66.0750</td>\n",
       "      <td>-22.5145</td>\n",
       "      <td>295.673</td>\n",
       "      <td>2023-05-09</td>\n",
       "      <td>09:15</td>\n",
       "    </tr>\n",
       "    <tr>\n",
       "      <th>1</th>\n",
       "      <td>4.4</td>\n",
       "      <td>-66.7440</td>\n",
       "      <td>-21.0683</td>\n",
       "      <td>236.151</td>\n",
       "      <td>2023-05-09</td>\n",
       "      <td>00:56</td>\n",
       "    </tr>\n",
       "    <tr>\n",
       "      <th>2</th>\n",
       "      <td>4.6</td>\n",
       "      <td>-71.3262</td>\n",
       "      <td>-28.6913</td>\n",
       "      <td>37.684</td>\n",
       "      <td>2023-05-08</td>\n",
       "      <td>02:34</td>\n",
       "    </tr>\n",
       "    <tr>\n",
       "      <th>3</th>\n",
       "      <td>4.4</td>\n",
       "      <td>-66.8884</td>\n",
       "      <td>-23.3425</td>\n",
       "      <td>235.300</td>\n",
       "      <td>2023-05-07</td>\n",
       "      <td>07:30</td>\n",
       "    </tr>\n",
       "    <tr>\n",
       "      <th>4</th>\n",
       "      <td>5.2</td>\n",
       "      <td>-70.5066</td>\n",
       "      <td>-25.3571</td>\n",
       "      <td>40.047</td>\n",
       "      <td>2023-05-07</td>\n",
       "      <td>06:29</td>\n",
       "    </tr>\n",
       "  </tbody>\n",
       "</table>\n",
       "</div>"
      ],
      "text/plain": [
       "   magnitud  longitud  latitud  profundidad fecha_local hora_local\n",
       "0       4.1  -66.0750 -22.5145      295.673  2023-05-09      09:15\n",
       "1       4.4  -66.7440 -21.0683      236.151  2023-05-09      00:56\n",
       "2       4.6  -71.3262 -28.6913       37.684  2023-05-08      02:34\n",
       "3       4.4  -66.8884 -23.3425      235.300  2023-05-07      07:30\n",
       "4       5.2  -70.5066 -25.3571       40.047  2023-05-07      06:29"
      ]
     },
     "execution_count": 33,
     "metadata": {},
     "output_type": "execute_result"
    }
   ],
   "source": [
    "df.head(5)"
   ]
  },
  {
   "cell_type": "code",
   "execution_count": 34,
   "metadata": {},
   "outputs": [],
   "source": [
    "import pandas as pd\n",
    "\n",
    "# Definir los límites de los rangos\n",
    "bins = [0, 70.000, 300.000, float('inf')]\n",
    "\n",
    "# Definir las etiquetas de los rangos\n",
    "labels = ['Superficial', 'Intermedio', 'Profundo']\n",
    "\n",
    "# Aplicar la discretización a la columna de profundidad\n",
    "df['profundidad_categoria'] = pd.cut(df['profundidad'], bins=bins, labels=labels, right=False)\n"
   ]
  },
  {
   "cell_type": "code",
   "execution_count": 35,
   "metadata": {},
   "outputs": [
    {
     "data": {
      "text/html": [
       "<div>\n",
       "<style scoped>\n",
       "    .dataframe tbody tr th:only-of-type {\n",
       "        vertical-align: middle;\n",
       "    }\n",
       "\n",
       "    .dataframe tbody tr th {\n",
       "        vertical-align: top;\n",
       "    }\n",
       "\n",
       "    .dataframe thead th {\n",
       "        text-align: right;\n",
       "    }\n",
       "</style>\n",
       "<table border=\"1\" class=\"dataframe\">\n",
       "  <thead>\n",
       "    <tr style=\"text-align: right;\">\n",
       "      <th></th>\n",
       "      <th>magnitud</th>\n",
       "      <th>longitud</th>\n",
       "      <th>latitud</th>\n",
       "      <th>profundidad</th>\n",
       "      <th>fecha_local</th>\n",
       "      <th>hora_local</th>\n",
       "      <th>profundidad_categoria</th>\n",
       "    </tr>\n",
       "  </thead>\n",
       "  <tbody>\n",
       "    <tr>\n",
       "      <th>0</th>\n",
       "      <td>4.1</td>\n",
       "      <td>-66.0750</td>\n",
       "      <td>-22.5145</td>\n",
       "      <td>295.673</td>\n",
       "      <td>2023-05-09</td>\n",
       "      <td>09:15</td>\n",
       "      <td>Intermedio</td>\n",
       "    </tr>\n",
       "    <tr>\n",
       "      <th>1</th>\n",
       "      <td>4.4</td>\n",
       "      <td>-66.7440</td>\n",
       "      <td>-21.0683</td>\n",
       "      <td>236.151</td>\n",
       "      <td>2023-05-09</td>\n",
       "      <td>00:56</td>\n",
       "      <td>Intermedio</td>\n",
       "    </tr>\n",
       "    <tr>\n",
       "      <th>2</th>\n",
       "      <td>4.6</td>\n",
       "      <td>-71.3262</td>\n",
       "      <td>-28.6913</td>\n",
       "      <td>37.684</td>\n",
       "      <td>2023-05-08</td>\n",
       "      <td>02:34</td>\n",
       "      <td>Superficial</td>\n",
       "    </tr>\n",
       "    <tr>\n",
       "      <th>3</th>\n",
       "      <td>4.4</td>\n",
       "      <td>-66.8884</td>\n",
       "      <td>-23.3425</td>\n",
       "      <td>235.300</td>\n",
       "      <td>2023-05-07</td>\n",
       "      <td>07:30</td>\n",
       "      <td>Intermedio</td>\n",
       "    </tr>\n",
       "    <tr>\n",
       "      <th>4</th>\n",
       "      <td>5.2</td>\n",
       "      <td>-70.5066</td>\n",
       "      <td>-25.3571</td>\n",
       "      <td>40.047</td>\n",
       "      <td>2023-05-07</td>\n",
       "      <td>06:29</td>\n",
       "      <td>Superficial</td>\n",
       "    </tr>\n",
       "  </tbody>\n",
       "</table>\n",
       "</div>"
      ],
      "text/plain": [
       "   magnitud  longitud  latitud  profundidad fecha_local hora_local  \\\n",
       "0       4.1  -66.0750 -22.5145      295.673  2023-05-09      09:15   \n",
       "1       4.4  -66.7440 -21.0683      236.151  2023-05-09      00:56   \n",
       "2       4.6  -71.3262 -28.6913       37.684  2023-05-08      02:34   \n",
       "3       4.4  -66.8884 -23.3425      235.300  2023-05-07      07:30   \n",
       "4       5.2  -70.5066 -25.3571       40.047  2023-05-07      06:29   \n",
       "\n",
       "  profundidad_categoria  \n",
       "0            Intermedio  \n",
       "1            Intermedio  \n",
       "2           Superficial  \n",
       "3            Intermedio  \n",
       "4           Superficial  "
      ]
     },
     "execution_count": 35,
     "metadata": {},
     "output_type": "execute_result"
    }
   ],
   "source": [
    "df.head(5)"
   ]
  },
  {
   "cell_type": "code",
   "execution_count": 42,
   "metadata": {},
   "outputs": [
    {
     "name": "stdout",
     "output_type": "stream",
     "text": [
      "magnitud                  float64\n",
      "longitud                  float64\n",
      "latitud                   float64\n",
      "profundidad               float64\n",
      "fecha_local                object\n",
      "hora_local                 object\n",
      "profundidad_categoria    category\n",
      "dtype: object\n"
     ]
    }
   ],
   "source": [
    "print(df.dtypes)"
   ]
  },
  {
   "cell_type": "code",
   "execution_count": 48,
   "metadata": {},
   "outputs": [
    {
     "name": "stdout",
     "output_type": "stream",
     "text": [
      "Series([], Name: latitud, dtype: object)\n"
     ]
    }
   ],
   "source": [
    "df['latitud'] = df['latitud'].astype(str)\n",
    "df_latitud_problema = df[~df['latitud'].str.match(r'^-?\\d+\\.\\d+$')]\n",
    "print(df_latitud_problema['latitud'])\n"
   ]
  },
  {
   "cell_type": "code",
   "execution_count": 49,
   "metadata": {},
   "outputs": [],
   "source": [
    "df['latitud'] = df['latitud'].astype(float)"
   ]
  },
  {
   "cell_type": "code",
   "execution_count": 50,
   "metadata": {},
   "outputs": [
    {
     "name": "stdout",
     "output_type": "stream",
     "text": [
      "Index(['magnitud', 'longitud', 'latitud', 'profundidad', 'fecha_local',\n",
      "       'hora_local', 'profundidad_categoria'],\n",
      "      dtype='object')\n"
     ]
    }
   ],
   "source": [
    "print(df.columns)"
   ]
  },
  {
   "cell_type": "code",
   "execution_count": 36,
   "metadata": {},
   "outputs": [],
   "source": [
    "# Exportar el DataFrame a un archivo CSV\n",
    "df.to_csv('regiones_chile_categorias.csv', index=False)"
   ]
  },
  {
   "attachments": {},
   "cell_type": "markdown",
   "metadata": {},
   "source": [
    "## REGIONES"
   ]
  },
  {
   "cell_type": "code",
   "execution_count": 28,
   "metadata": {},
   "outputs": [],
   "source": [
    "data = pd.read_csv('regiones_chile.csv', encoding='latin1', delimiter=';')\n",
    "df_po = pd.DataFrame(data)"
   ]
  },
  {
   "cell_type": "code",
   "execution_count": 29,
   "metadata": {},
   "outputs": [
    {
     "data": {
      "text/html": [
       "<div>\n",
       "<style scoped>\n",
       "    .dataframe tbody tr th:only-of-type {\n",
       "        vertical-align: middle;\n",
       "    }\n",
       "\n",
       "    .dataframe tbody tr th {\n",
       "        vertical-align: top;\n",
       "    }\n",
       "\n",
       "    .dataframe thead th {\n",
       "        text-align: right;\n",
       "    }\n",
       "</style>\n",
       "<table border=\"1\" class=\"dataframe\">\n",
       "  <thead>\n",
       "    <tr style=\"text-align: right;\">\n",
       "      <th></th>\n",
       "      <th>Región</th>\n",
       "      <th>Habitantes</th>\n",
       "      <th>Latitud</th>\n",
       "      <th>Longitud</th>\n",
       "    </tr>\n",
       "  </thead>\n",
       "  <tbody>\n",
       "    <tr>\n",
       "      <th>0</th>\n",
       "      <td>Santiago</td>\n",
       "      <td>7.116.706</td>\n",
       "      <td>-33.437.776</td>\n",
       "      <td>-70.650.450</td>\n",
       "    </tr>\n",
       "    <tr>\n",
       "      <th>1</th>\n",
       "      <td>Valparaíso</td>\n",
       "      <td>1.054.253</td>\n",
       "      <td>-33.045.846</td>\n",
       "      <td>-71.619.675</td>\n",
       "    </tr>\n",
       "    <tr>\n",
       "      <th>2</th>\n",
       "      <td>Biobío</td>\n",
       "      <td>1.036.142</td>\n",
       "      <td>-37.339.141</td>\n",
       "      <td>-72.410.682</td>\n",
       "    </tr>\n",
       "    <tr>\n",
       "      <th>3</th>\n",
       "      <td>Coquimbo</td>\n",
       "      <td>534.239</td>\n",
       "      <td>-30.754.665</td>\n",
       "      <td>-70.900.554</td>\n",
       "    </tr>\n",
       "    <tr>\n",
       "      <th>4</th>\n",
       "      <td>Antofagasta</td>\n",
       "      <td>441.211</td>\n",
       "      <td>-23.646.374</td>\n",
       "      <td>-70.398.003</td>\n",
       "    </tr>\n",
       "  </tbody>\n",
       "</table>\n",
       "</div>"
      ],
      "text/plain": [
       "        Región Habitantes       Latitud     Longitud\n",
       "0     Santiago   7.116.706  -33.437.776  -70.650.450\n",
       "1   Valparaíso   1.054.253  -33.045.846  -71.619.675\n",
       "2       Biobío   1.036.142  -37.339.141  -72.410.682\n",
       "3     Coquimbo     534.239  -30.754.665  -70.900.554\n",
       "4  Antofagasta     441.211  -23.646.374  -70.398.003"
      ]
     },
     "execution_count": 29,
     "metadata": {},
     "output_type": "execute_result"
    }
   ],
   "source": [
    "df_po.head(5)"
   ]
  },
  {
   "cell_type": "code",
   "execution_count": 39,
   "metadata": {},
   "outputs": [],
   "source": [
    "# Cambiar el nombre del campo \"Región\" a \"Region\"\n",
    "df_po = df_po.rename(columns={'Región': 'Region'})"
   ]
  },
  {
   "cell_type": "code",
   "execution_count": 40,
   "metadata": {},
   "outputs": [
    {
     "data": {
      "text/html": [
       "<div>\n",
       "<style scoped>\n",
       "    .dataframe tbody tr th:only-of-type {\n",
       "        vertical-align: middle;\n",
       "    }\n",
       "\n",
       "    .dataframe tbody tr th {\n",
       "        vertical-align: top;\n",
       "    }\n",
       "\n",
       "    .dataframe thead th {\n",
       "        text-align: right;\n",
       "    }\n",
       "</style>\n",
       "<table border=\"1\" class=\"dataframe\">\n",
       "  <thead>\n",
       "    <tr style=\"text-align: right;\">\n",
       "      <th></th>\n",
       "      <th>Region</th>\n",
       "      <th>Habitantes</th>\n",
       "      <th>Latitud</th>\n",
       "      <th>Longitud</th>\n",
       "    </tr>\n",
       "  </thead>\n",
       "  <tbody>\n",
       "    <tr>\n",
       "      <th>0</th>\n",
       "      <td>Santiago</td>\n",
       "      <td>7.116.706</td>\n",
       "      <td>-33.437.776</td>\n",
       "      <td>-70.650.450</td>\n",
       "    </tr>\n",
       "    <tr>\n",
       "      <th>1</th>\n",
       "      <td>Valparaíso</td>\n",
       "      <td>1.054.253</td>\n",
       "      <td>-33.045.846</td>\n",
       "      <td>-71.619.675</td>\n",
       "    </tr>\n",
       "    <tr>\n",
       "      <th>2</th>\n",
       "      <td>Biobío</td>\n",
       "      <td>1.036.142</td>\n",
       "      <td>-37.339.141</td>\n",
       "      <td>-72.410.682</td>\n",
       "    </tr>\n",
       "    <tr>\n",
       "      <th>3</th>\n",
       "      <td>Coquimbo</td>\n",
       "      <td>534.239</td>\n",
       "      <td>-30.754.665</td>\n",
       "      <td>-70.900.554</td>\n",
       "    </tr>\n",
       "    <tr>\n",
       "      <th>4</th>\n",
       "      <td>Antofagasta</td>\n",
       "      <td>441.211</td>\n",
       "      <td>-23.646.374</td>\n",
       "      <td>-70.398.003</td>\n",
       "    </tr>\n",
       "  </tbody>\n",
       "</table>\n",
       "</div>"
      ],
      "text/plain": [
       "        Region Habitantes       Latitud     Longitud\n",
       "0     Santiago   7.116.706  -33.437.776  -70.650.450\n",
       "1   Valparaíso   1.054.253  -33.045.846  -71.619.675\n",
       "2       Biobío   1.036.142  -37.339.141  -72.410.682\n",
       "3     Coquimbo     534.239  -30.754.665  -70.900.554\n",
       "4  Antofagasta     441.211  -23.646.374  -70.398.003"
      ]
     },
     "execution_count": 40,
     "metadata": {},
     "output_type": "execute_result"
    }
   ],
   "source": [
    "df_po.head(5)"
   ]
  },
  {
   "cell_type": "code",
   "execution_count": 43,
   "metadata": {},
   "outputs": [
    {
     "name": "stdout",
     "output_type": "stream",
     "text": [
      "magnitud                  float64\n",
      "longitud                  float64\n",
      "latitud                   float64\n",
      "profundidad               float64\n",
      "fecha_local                object\n",
      "hora_local                 object\n",
      "profundidad_categoria    category\n",
      "dtype: object\n"
     ]
    }
   ],
   "source": [
    "print(df.dtypes)"
   ]
  },
  {
   "cell_type": "code",
   "execution_count": 41,
   "metadata": {},
   "outputs": [],
   "source": [
    "# Exportar el DataFrame a un archivo CSV\n",
    "df_po.to_csv('regiones_chile.csv', index=False)"
   ]
  },
  {
   "cell_type": "code",
   "execution_count": 38,
   "metadata": {},
   "outputs": [
    {
     "name": "stdout",
     "output_type": "stream",
     "text": [
      "<class 'pandas.core.frame.DataFrame'>\n",
      "RangeIndex: 10 entries, 0 to 9\n",
      "Data columns (total 4 columns):\n",
      " #   Column       Non-Null Count  Dtype \n",
      "---  ------       --------------  ----- \n",
      " 0   Región       10 non-null     object\n",
      " 1   Habitantes   10 non-null     object\n",
      " 2   Latitud      10 non-null     object\n",
      " 3   Longitud     10 non-null     object\n",
      "dtypes: object(4)\n",
      "memory usage: 448.0+ bytes\n"
     ]
    }
   ],
   "source": [
    "df_po.info()"
   ]
  },
  {
   "cell_type": "code",
   "execution_count": null,
   "metadata": {},
   "outputs": [],
   "source": [
    "import pandas as pd\n",
    "\n",
    "# Definir los rangos de magnitud\n",
    "rangos_magnitud = [0, 2.0, 3.9, 4.9, 5.9, 6.9, 7.9, float('inf')]\n",
    "etiquetas_magnitud = ['Micro', 'Menor', 'Ligero', 'Moderado', 'Fuerte', 'Mayor', 'Gran']\n",
    "\n",
    "# Discretizar los valores de magnitud\n",
    "df['magnitud_categoria'] = pd.cut(df['magnitud'], bins=rangos_magnitud, labels=etiquetas_magnitud, right=False)\n",
    "\n",
    "# Verificar el resultado\n",
    "print(df[['magnitud', 'magnitud_categoria']].head())\n"
   ]
  }
 ],
 "metadata": {
  "kernelspec": {
   "display_name": "Python 3",
   "language": "python",
   "name": "python3"
  },
  "language_info": {
   "codemirror_mode": {
    "name": "ipython",
    "version": 3
   },
   "file_extension": ".py",
   "mimetype": "text/x-python",
   "name": "python",
   "nbconvert_exporter": "python",
   "pygments_lexer": "ipython3",
   "version": "3.10.4"
  },
  "orig_nbformat": 4
 },
 "nbformat": 4,
 "nbformat_minor": 2
}
