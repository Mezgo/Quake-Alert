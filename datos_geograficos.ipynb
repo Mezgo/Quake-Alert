{
 "cells": [
  {
   "cell_type": "code",
   "execution_count": 1,
   "metadata": {},
   "outputs": [],
   "source": [
    "import streamlit as st\n",
    "import matplotlib.pyplot as plt\n",
    "import pydeck as pdk\n",
    "import pandas as pd\n",
    "import folium\n",
    "from streamlit_folium import folium_static"
   ]
  },
  {
   "cell_type": "code",
   "execution_count": 2,
   "metadata": {},
   "outputs": [],
   "source": [
    "# Cargar los dataframes\n",
    "df = pd.read_csv('regiones_chile_categorias.csv')\n",
    "df_po = pd.read_csv('regiones_chile.csv')"
   ]
  },
  {
   "cell_type": "code",
   "execution_count": 9,
   "metadata": {},
   "outputs": [
    {
     "name": "stdout",
     "output_type": "stream",
     "text": [
      "        Region Habitantes       Latitud     Longitud  \\\n",
      "0     Santiago   7.116.706  -33.437.776  -70.650.450   \n",
      "1   Valparaíso   1.054.253  -33.045.846  -71.619.675   \n",
      "2       Biobío   1.036.142  -37.339.141  -72.410.682   \n",
      "3     Coquimbo     534.239  -30.754.665  -70.900.554   \n",
      "4  Antofagasta     441.211  -23.646.374  -70.398.003   \n",
      "5    Araucanía     392.794  -38.667.896  -72.261.007   \n",
      "6     Tarapacá     370.877  -20.163.667  -69.546.345   \n",
      "7    O'Higgins     335.932  -34.534.538  -71.035.482   \n",
      "8    Los Lagos     328.924  -42.300.844  -73.105.387   \n",
      "9        Maule     307.931  -35.597.228  -71.488.680   \n",
      "\n",
      "                                            poligono  \n",
      "0  POLYGON ((-33.64646 -70.35859, -33.28942 -70.5...  \n",
      "1                                               None  \n",
      "2                                               None  \n",
      "3                                               None  \n",
      "4                                               None  \n",
      "5                                               None  \n",
      "6                                               None  \n",
      "7                                               None  \n",
      "8                                               None  \n",
      "9                                               None  \n"
     ]
    }
   ],
   "source": [
    "# Importar la biblioteca geopandas\n",
    "import geopandas as gpd\n",
    "from shapely.geometry import Point, Polygon\n",
    "\n",
    "# Crear la columna 'poligono' si no existe\n",
    "if 'poligono' not in df_po.columns:\n",
    "    df_po['poligono'] = None\n",
    "\n",
    "# Crear un diccionario con los nombres de las regiones y sus respectivos polígonos\n",
    "regiones_poligonos = {\n",
    "    'Santiago': [Point(-33.64646, -70.35859), Point(-33.28942, -70.52589), Point(-33.42345, -70.89657), Point(-33.81492, -70.82515)],\n",
    "    'Valparaíso': [Point(-32.89724, -71.23726), Point(-32.76508, -71.48232), Point(-33.09199, -71.73442), Point(-33.41091, -71.56827)],\n",
    "    'Biobío': [Point(-37.48767, -73.49439), Point(-37.25768, -73.54544), Point(-37.14317, -73.81155), Point(-37.32026, -74.16051), Point(-37.65698, -74.02063), Point(-37.65337, -73.64363)],\n",
    "    'Coquimbo': [Point(-29.93563, -71.29991), Point(-29.70867, -71.34013), Point(-29.40916, -71.84748), Point(-29.47099, -71.94349), Point(-30.06419, -71.80027), Point(-30.18999, -71.55373), Point(-30.01605, -71.36907)],\n",
    "    'Antofagasta': [Point(-22.45747, -68.91592), Point(-21.95692, -69.64823), Point(-22.56473, -70.06448), Point(-23.06427, -69.60283), Point(-22.66352, -69.04194)],\n",
    "    'Araucania': [Point(-37.41322, -71.98062), Point(-37.03343, -72.26923), Point(-37.43475, -72.57036), Point(-38.14267, -72.54185), Point(-38.09877, -72.23243), Point(-37.80926, -71.90573)],\n",
    "    'Tarapaca': [Point(-18.23225, -69.31103), Point(-18.15322, -69.59843), Point(-19.22502, -69.66244), Point(-19.28016, -69.31259)],\n",
    "    'Ohiggins': [Point(-34.72176, -71.44531), Point(-34.27469, -71.60747), Point(-34.09106, -71.95857), Point(-34.38147, -72.16819), Point(-34.94934, -71.88697)],\n",
    "    'Loslagos': [Point(-40.41507, -73.02480), Point(-40.29014, -73.50764), Point(-40.61871, -73.78356), Point(-41.14624, -73.23051), Point(-40.71930, -72.76694)],\n",
    "    'Maule': [Point(-35.57198, -70.40304), Point(-34.84908, -70.63885), Point(-34.97961, -71.11651), Point(-35.36945, -71.21353), Point(-35.70706, -71.04620)]\n",
    " }\n",
    "\n",
    "# Iterar sobre el diccionario y agregar los polígonos al DataFrame df_po\n",
    "for region, points in regiones_poligonos.items():\n",
    "    polygon = Polygon(points)\n",
    "    df_po.loc[df_po['Region'] == region, 'poligono'] = gpd.GeoSeries([polygon])\n",
    "\n",
    "# Imprimir el DataFrame actualizado\n",
    "print(df_po)\n",
    "\n"
   ]
  }
 ],
 "metadata": {
  "kernelspec": {
   "display_name": "Python 3",
   "language": "python",
   "name": "python3"
  },
  "language_info": {
   "codemirror_mode": {
    "name": "ipython",
    "version": 3
   },
   "file_extension": ".py",
   "mimetype": "text/x-python",
   "name": "python",
   "nbconvert_exporter": "python",
   "pygments_lexer": "ipython3",
   "version": "3.10.4"
  },
  "orig_nbformat": 4
 },
 "nbformat": 4,
 "nbformat_minor": 2
}
