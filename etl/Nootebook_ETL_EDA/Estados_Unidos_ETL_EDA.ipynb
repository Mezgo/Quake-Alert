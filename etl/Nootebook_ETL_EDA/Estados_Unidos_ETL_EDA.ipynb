{
 "cells": [
  {
   "cell_type": "code",
   "execution_count": 1,
   "metadata": {},
   "outputs": [],
   "source": [
    "# Importar librerias\n",
    "import requests                    \n",
    "import pandas as pd\n",
    "import time             \n",
    "import matplotlib.pyplot as plt    \n",
    "import seaborn as sns               \n",
    "import numpy as np                  \n",
    "import datetime\n",
    "import json\n",
    "from bs4 import BeautifulSoup\n",
    "from selenium import webdriver\n",
    "import re\n",
    "import geopandas as gpd                     \n",
    "from geopandas import GeoDataFrame\n",
    "from shapely.geometry import Point\n",
    "import matplotlib.colors as colors"
   ]
  },
  {
   "attachments": {},
   "cell_type": "markdown",
   "metadata": {},
   "source": [
    "## \"Estados Unidos.\""
   ]
  },
  {
   "attachments": {},
   "cell_type": "markdown",
   "metadata": {},
   "source": [
    "Los datos sísmicos se descargaron a través de [USGS](https://earthquake.usgs.gov/fdsnws/event/1/) (El Servicio Geologico de los Estados Unidos ).\n",
    "\n",
    "El analisis se realiza en un intervalo de inicio el 01 de enero de 2023 y fin el 11 de mayo de 2023, o sea en un periodo de 130 días."
   ]
  },
  {
   "cell_type": "code",
   "execution_count": null,
   "metadata": {},
   "outputs": [
    {
     "name": "stdout",
     "output_type": "stream",
     "text": [
      "El periodo en días es igual a 130 días\n"
     ]
    }
   ],
   "source": [
    "\n",
    "periodo_en_dias = (datetime.datetime(2023,5,11) - datetime.datetime(2023,1,1)).days\n",
    "print('El periodo en días es igual a',periodo_en_dias,'días')"
   ]
  },
  {
   "attachments": {},
   "cell_type": "markdown",
   "metadata": {},
   "source": [
    "Realizar la extraccion y creacion del DataFrame desde el enlace."
   ]
  },
  {
   "cell_type": "code",
   "execution_count": 77,
   "metadata": {},
   "outputs": [],
   "source": [
    "    \n",
    "def extraccion_eeuu():\n",
    "    \n",
    "    eeuu = 'https://earthquake.usgs.gov/fdsnws/event/1/query.geojson?starttime=2023-01-01%2000:00:00&endtime=2023-05-11%2023:59:59&maxlatitude=50&minlatitude=24.6&maxlongitude=-65&minlongitude=-125&minmagnitude=1&orderby=time-asc'\n",
    "\n",
    "    # Hacemos un request porque hay json anidados\n",
    "    eeuu = requests.get(eeuu).json()\n",
    "    # el diccionario de features es el que tiene la infomación\n",
    "    eeuu = pd.json_normalize(eeuu, record_path =['features'])\n",
    "    return eeuu\n",
    "\n",
    "eeuu = extraccion_eeuu()"
   ]
  },
  {
   "attachments": {},
   "cell_type": "markdown",
   "metadata": {},
   "source": [
    "Visualizar los primeros elementos del DataFrame."
   ]
  },
  {
   "cell_type": "code",
   "execution_count": 73,
   "metadata": {},
   "outputs": [
    {
     "data": {
      "text/html": [
       "<div>\n",
       "<style scoped>\n",
       "    .dataframe tbody tr th:only-of-type {\n",
       "        vertical-align: middle;\n",
       "    }\n",
       "\n",
       "    .dataframe tbody tr th {\n",
       "        vertical-align: top;\n",
       "    }\n",
       "\n",
       "    .dataframe thead th {\n",
       "        text-align: right;\n",
       "    }\n",
       "</style>\n",
       "<table border=\"1\" class=\"dataframe\">\n",
       "  <thead>\n",
       "    <tr style=\"text-align: right;\">\n",
       "      <th></th>\n",
       "      <th>date</th>\n",
       "      <th>time</th>\n",
       "      <th>magnitude</th>\n",
       "      <th>depth</th>\n",
       "      <th>latitude</th>\n",
       "      <th>longitude</th>\n",
       "    </tr>\n",
       "  </thead>\n",
       "  <tbody>\n",
       "    <tr>\n",
       "      <th>10947</th>\n",
       "      <td>2023-05-11</td>\n",
       "      <td>20:30:17</td>\n",
       "      <td>2.57</td>\n",
       "      <td>6.64</td>\n",
       "      <td>40.212500</td>\n",
       "      <td>-121.086500</td>\n",
       "    </tr>\n",
       "    <tr>\n",
       "      <th>10948</th>\n",
       "      <td>2023-05-11</td>\n",
       "      <td>20:34:53</td>\n",
       "      <td>2.43</td>\n",
       "      <td>3.36</td>\n",
       "      <td>40.205667</td>\n",
       "      <td>-121.117500</td>\n",
       "    </tr>\n",
       "    <tr>\n",
       "      <th>10949</th>\n",
       "      <td>2023-05-11</td>\n",
       "      <td>20:38:30</td>\n",
       "      <td>2.66</td>\n",
       "      <td>7.39</td>\n",
       "      <td>40.204167</td>\n",
       "      <td>-121.106167</td>\n",
       "    </tr>\n",
       "    <tr>\n",
       "      <th>10950</th>\n",
       "      <td>2023-05-11</td>\n",
       "      <td>20:45:15</td>\n",
       "      <td>2.51</td>\n",
       "      <td>5.58</td>\n",
       "      <td>40.222000</td>\n",
       "      <td>-121.161833</td>\n",
       "    </tr>\n",
       "    <tr>\n",
       "      <th>10951</th>\n",
       "      <td>2023-05-11</td>\n",
       "      <td>20:49:15</td>\n",
       "      <td>2.20</td>\n",
       "      <td>6.04</td>\n",
       "      <td>37.990000</td>\n",
       "      <td>-118.663833</td>\n",
       "    </tr>\n",
       "  </tbody>\n",
       "</table>\n",
       "</div>"
      ],
      "text/plain": [
       "             date      time  magnitude  depth   latitude   longitude\n",
       "10947  2023-05-11  20:30:17       2.57   6.64  40.212500 -121.086500\n",
       "10948  2023-05-11  20:34:53       2.43   3.36  40.205667 -121.117500\n",
       "10949  2023-05-11  20:38:30       2.66   7.39  40.204167 -121.106167\n",
       "10950  2023-05-11  20:45:15       2.51   5.58  40.222000 -121.161833\n",
       "10951  2023-05-11  20:49:15       2.20   6.04  37.990000 -118.663833"
      ]
     },
     "execution_count": 73,
     "metadata": {},
     "output_type": "execute_result"
    }
   ],
   "source": [
    "eeuu.tail()"
   ]
  },
  {
   "attachments": {},
   "cell_type": "markdown",
   "metadata": {},
   "source": [
    "_Transformacion._"
   ]
  },
  {
   "attachments": {},
   "cell_type": "markdown",
   "metadata": {},
   "source": [
    "Cambiar el nombre de las columnas y quitar properties de los nombres de columnas."
   ]
  },
  {
   "cell_type": "code",
   "execution_count": 54,
   "metadata": {},
   "outputs": [],
   "source": [
    "def cambiar_quitar(pais):\n",
    "\n",
    "    columnas = [p.replace('properties.', '') for p in pais.columns.to_list()]\n",
    "    new_names = dict(zip(pais.columns.to_list(), columnas))\n",
    "\n",
    "    pais = pais.rename(new_names, axis='columns')\n",
    "\n",
    "    return pais\n",
    "\n",
    "eeuu = cambiar_quitar(eeuu)"
   ]
  },
  {
   "attachments": {},
   "cell_type": "markdown",
   "metadata": {},
   "source": [
    "Determinar el significado de cada variable."
   ]
  },
  {
   "attachments": {},
   "cell_type": "markdown",
   "metadata": {},
   "source": [
    "El significado de las 30 variables se ubica en el siguiente [link](https://earthquake.usgs.gov/data/comcat/data-eventterms.php)."
   ]
  },
  {
   "attachments": {},
   "cell_type": "markdown",
   "metadata": {},
   "source": [
    "La siguiente grafica determina que existen valores faltantes para las variables __tz__, __felt__, __cdi__, __mmi__ y __alert__."
   ]
  },
  {
   "cell_type": "code",
   "execution_count": 55,
   "metadata": {},
   "outputs": [
    {
     "data": {
      "text/plain": [
       "Text(0.5, 1.0, 'Porcentaje de datos por variable')"
      ]
     },
     "execution_count": 55,
     "metadata": {},
     "output_type": "execute_result"
    },
    {
     "data": {
      "image/png": "[encoded data removed]",
      "text/plain": [
       "<Figure size 640x480 with 1 Axes>"
      ]
     },
     "metadata": {},
     "output_type": "display_data"
    }
   ],
   "source": [
    "def datos_faltantes(pais):\n",
    "    ax = sns.barplot(x = (pais.notnull().sum()*100/pais.shape[0]).values, y = pais.columns)\n",
    "    ax.bar_label(ax.containers[0])\n",
    "    return plt.title('Porcentaje de datos por variable')\n",
    "\n",
    "datos_faltantes(eeuu)"
   ]
  },
  {
   "cell_type": "code",
   "execution_count": 58,
   "metadata": {},
   "outputs": [
    {
     "name": "stdout",
     "output_type": "stream",
     "text": [
      "El total de sismos en 130 días de Estados Unidos es 10952\n",
      "La menor magnitud registrada es 1.0\n",
      "La mayor magnitud registrada es 5.48\n"
     ]
    }
   ],
   "source": [
    "print('El total de sismos en 130 días de Estados Unidos es', eeuu.shape[0])\n",
    "print('La menor magnitud registrada es', eeuu.mag.min())\n",
    "print('La mayor magnitud registrada es',eeuu.mag.max())"
   ]
  },
  {
   "attachments": {},
   "cell_type": "markdown",
   "metadata": {},
   "source": [
    "Eliminar variables innecesarias para el modelo."
   ]
  },
  {
   "cell_type": "code",
   "execution_count": 59,
   "metadata": {},
   "outputs": [
    {
     "ename": "KeyError",
     "evalue": "\"['type', 'id', 'updated', 'tz', 'url', 'detail', 'felt', 'cdi', 'mmi', 'alert', 'status', 'tsunami', 'sig', 'net', 'code', 'ids', 'sources', 'types', 'nst', 'dmin', 'rms', 'gap', 'magType', 'type', 'title', 'geometry.type'] not found in axis\"",
     "output_type": "error",
     "traceback": [
      "\u001b[1;31m---------------------------------------------------------------------------\u001b[0m",
      "\u001b[1;31mKeyError\u001b[0m                                  Traceback (most recent call last)",
      "Cell \u001b[1;32mIn[59], line 10\u001b[0m\n\u001b[0;32m      6\u001b[0m     pais \u001b[39m=\u001b[39m pais\u001b[39m.\u001b[39mdrop(variables, axis\u001b[39m=\u001b[39m\u001b[39m'\u001b[39m\u001b[39mcolumns\u001b[39m\u001b[39m'\u001b[39m)\n\u001b[0;32m      8\u001b[0m     \u001b[39mreturn\u001b[39;00m pais\n\u001b[1;32m---> 10\u001b[0m eeuu \u001b[39m=\u001b[39m eliminar_variables(eeuu)\n",
      "Cell \u001b[1;32mIn[59], line 6\u001b[0m, in \u001b[0;36meliminar_variables\u001b[1;34m(pais)\u001b[0m\n\u001b[0;32m      1\u001b[0m \u001b[39mdef\u001b[39;00m \u001b[39meliminar_variables\u001b[39m(pais):\n\u001b[0;32m      2\u001b[0m     variables \u001b[39m=\u001b[39m [\u001b[39m'\u001b[39m\u001b[39mtype\u001b[39m\u001b[39m'\u001b[39m, \u001b[39m'\u001b[39m\u001b[39mid\u001b[39m\u001b[39m'\u001b[39m, \u001b[39m'\u001b[39m\u001b[39mupdated\u001b[39m\u001b[39m'\u001b[39m, \u001b[39m'\u001b[39m\u001b[39mtz\u001b[39m\u001b[39m'\u001b[39m, \u001b[39m'\u001b[39m\u001b[39murl\u001b[39m\u001b[39m'\u001b[39m, \u001b[39m'\u001b[39m\u001b[39mdetail\u001b[39m\u001b[39m'\u001b[39m, \u001b[39m'\u001b[39m\u001b[39mfelt\u001b[39m\u001b[39m'\u001b[39m, \u001b[39m'\u001b[39m\u001b[39mcdi\u001b[39m\u001b[39m'\u001b[39m, \u001b[39m'\u001b[39m\u001b[39mmmi\u001b[39m\u001b[39m'\u001b[39m, \u001b[39m'\u001b[39m\u001b[39malert\u001b[39m\u001b[39m'\u001b[39m, \u001b[39m'\u001b[39m\u001b[39mstatus\u001b[39m\u001b[39m'\u001b[39m, \n\u001b[0;32m      3\u001b[0m             \u001b[39m'\u001b[39m\u001b[39mtsunami\u001b[39m\u001b[39m'\u001b[39m, \u001b[39m'\u001b[39m\u001b[39msig\u001b[39m\u001b[39m'\u001b[39m, \u001b[39m'\u001b[39m\u001b[39mnet\u001b[39m\u001b[39m'\u001b[39m, \u001b[39m'\u001b[39m\u001b[39mcode\u001b[39m\u001b[39m'\u001b[39m, \u001b[39m'\u001b[39m\u001b[39mids\u001b[39m\u001b[39m'\u001b[39m, \u001b[39m'\u001b[39m\u001b[39msources\u001b[39m\u001b[39m'\u001b[39m, \u001b[39m'\u001b[39m\u001b[39mtypes\u001b[39m\u001b[39m'\u001b[39m , \u001b[39m'\u001b[39m\u001b[39mnst\u001b[39m\u001b[39m'\u001b[39m, \u001b[39m'\u001b[39m\u001b[39mdmin\u001b[39m\u001b[39m'\u001b[39m, \u001b[39m'\u001b[39m\u001b[39mrms\u001b[39m\u001b[39m'\u001b[39m, \n\u001b[0;32m      4\u001b[0m             \u001b[39m'\u001b[39m\u001b[39mgap\u001b[39m\u001b[39m'\u001b[39m, \u001b[39m'\u001b[39m\u001b[39mmagType\u001b[39m\u001b[39m'\u001b[39m, \u001b[39m'\u001b[39m\u001b[39mtype\u001b[39m\u001b[39m'\u001b[39m, \u001b[39m'\u001b[39m\u001b[39mtitle\u001b[39m\u001b[39m'\u001b[39m, \u001b[39m'\u001b[39m\u001b[39mgeometry.type\u001b[39m\u001b[39m'\u001b[39m] \n\u001b[1;32m----> 6\u001b[0m     pais \u001b[39m=\u001b[39m pais\u001b[39m.\u001b[39;49mdrop(variables, axis\u001b[39m=\u001b[39;49m\u001b[39m'\u001b[39;49m\u001b[39mcolumns\u001b[39;49m\u001b[39m'\u001b[39;49m)\n\u001b[0;32m      8\u001b[0m     \u001b[39mreturn\u001b[39;00m pais\n",
      "File \u001b[1;32mc:\\Users\\Edwar\\OneDrive\\Educacion\\Soy Henry\\Proyecto Final\\proyecto_final_henry\\Lib\\site-packages\\pandas\\core\\frame.py:5268\u001b[0m, in \u001b[0;36mDataFrame.drop\u001b[1;34m(self, labels, axis, index, columns, level, inplace, errors)\u001b[0m\n\u001b[0;32m   5120\u001b[0m \u001b[39mdef\u001b[39;00m \u001b[39mdrop\u001b[39m(\n\u001b[0;32m   5121\u001b[0m     \u001b[39mself\u001b[39m,\n\u001b[0;32m   5122\u001b[0m     labels: IndexLabel \u001b[39m=\u001b[39m \u001b[39mNone\u001b[39;00m,\n\u001b[1;32m   (...)\u001b[0m\n\u001b[0;32m   5129\u001b[0m     errors: IgnoreRaise \u001b[39m=\u001b[39m \u001b[39m\"\u001b[39m\u001b[39mraise\u001b[39m\u001b[39m\"\u001b[39m,\n\u001b[0;32m   5130\u001b[0m ) \u001b[39m-\u001b[39m\u001b[39m>\u001b[39m DataFrame \u001b[39m|\u001b[39m \u001b[39mNone\u001b[39;00m:\n\u001b[0;32m   5131\u001b[0m \u001b[39m    \u001b[39m\u001b[39m\"\"\"\u001b[39;00m\n\u001b[0;32m   5132\u001b[0m \u001b[39m    Drop specified labels from rows or columns.\u001b[39;00m\n\u001b[0;32m   5133\u001b[0m \n\u001b[1;32m   (...)\u001b[0m\n\u001b[0;32m   5266\u001b[0m \u001b[39m            weight  1.0     0.8\u001b[39;00m\n\u001b[0;32m   5267\u001b[0m \u001b[39m    \"\"\"\u001b[39;00m\n\u001b[1;32m-> 5268\u001b[0m     \u001b[39mreturn\u001b[39;00m \u001b[39msuper\u001b[39;49m()\u001b[39m.\u001b[39;49mdrop(\n\u001b[0;32m   5269\u001b[0m         labels\u001b[39m=\u001b[39;49mlabels,\n\u001b[0;32m   5270\u001b[0m         axis\u001b[39m=\u001b[39;49maxis,\n\u001b[0;32m   5271\u001b[0m         index\u001b[39m=\u001b[39;49mindex,\n\u001b[0;32m   5272\u001b[0m         columns\u001b[39m=\u001b[39;49mcolumns,\n\u001b[0;32m   5273\u001b[0m         level\u001b[39m=\u001b[39;49mlevel,\n\u001b[0;32m   5274\u001b[0m         inplace\u001b[39m=\u001b[39;49minplace,\n\u001b[0;32m   5275\u001b[0m         errors\u001b[39m=\u001b[39;49merrors,\n\u001b[0;32m   5276\u001b[0m     )\n",
      "File \u001b[1;32mc:\\Users\\Edwar\\OneDrive\\Educacion\\Soy Henry\\Proyecto Final\\proyecto_final_henry\\Lib\\site-packages\\pandas\\core\\generic.py:4549\u001b[0m, in \u001b[0;36mNDFrame.drop\u001b[1;34m(self, labels, axis, index, columns, level, inplace, errors)\u001b[0m\n\u001b[0;32m   4547\u001b[0m \u001b[39mfor\u001b[39;00m axis, labels \u001b[39min\u001b[39;00m axes\u001b[39m.\u001b[39mitems():\n\u001b[0;32m   4548\u001b[0m     \u001b[39mif\u001b[39;00m labels \u001b[39mis\u001b[39;00m \u001b[39mnot\u001b[39;00m \u001b[39mNone\u001b[39;00m:\n\u001b[1;32m-> 4549\u001b[0m         obj \u001b[39m=\u001b[39m obj\u001b[39m.\u001b[39;49m_drop_axis(labels, axis, level\u001b[39m=\u001b[39;49mlevel, errors\u001b[39m=\u001b[39;49merrors)\n\u001b[0;32m   4551\u001b[0m \u001b[39mif\u001b[39;00m inplace:\n\u001b[0;32m   4552\u001b[0m     \u001b[39mself\u001b[39m\u001b[39m.\u001b[39m_update_inplace(obj)\n",
      "File \u001b[1;32mc:\\Users\\Edwar\\OneDrive\\Educacion\\Soy Henry\\Proyecto Final\\proyecto_final_henry\\Lib\\site-packages\\pandas\\core\\generic.py:4591\u001b[0m, in \u001b[0;36mNDFrame._drop_axis\u001b[1;34m(self, labels, axis, level, errors, only_slice)\u001b[0m\n\u001b[0;32m   4589\u001b[0m         new_axis \u001b[39m=\u001b[39m axis\u001b[39m.\u001b[39mdrop(labels, level\u001b[39m=\u001b[39mlevel, errors\u001b[39m=\u001b[39merrors)\n\u001b[0;32m   4590\u001b[0m     \u001b[39melse\u001b[39;00m:\n\u001b[1;32m-> 4591\u001b[0m         new_axis \u001b[39m=\u001b[39m axis\u001b[39m.\u001b[39;49mdrop(labels, errors\u001b[39m=\u001b[39;49merrors)\n\u001b[0;32m   4592\u001b[0m     indexer \u001b[39m=\u001b[39m axis\u001b[39m.\u001b[39mget_indexer(new_axis)\n\u001b[0;32m   4594\u001b[0m \u001b[39m# Case for non-unique axis\u001b[39;00m\n\u001b[0;32m   4595\u001b[0m \u001b[39melse\u001b[39;00m:\n",
      "File \u001b[1;32mc:\\Users\\Edwar\\OneDrive\\Educacion\\Soy Henry\\Proyecto Final\\proyecto_final_henry\\Lib\\site-packages\\pandas\\core\\indexes\\base.py:6696\u001b[0m, in \u001b[0;36mIndex.drop\u001b[1;34m(self, labels, errors)\u001b[0m\n\u001b[0;32m   6694\u001b[0m \u001b[39mif\u001b[39;00m mask\u001b[39m.\u001b[39many():\n\u001b[0;32m   6695\u001b[0m     \u001b[39mif\u001b[39;00m errors \u001b[39m!=\u001b[39m \u001b[39m\"\u001b[39m\u001b[39mignore\u001b[39m\u001b[39m\"\u001b[39m:\n\u001b[1;32m-> 6696\u001b[0m         \u001b[39mraise\u001b[39;00m \u001b[39mKeyError\u001b[39;00m(\u001b[39mf\u001b[39m\u001b[39m\"\u001b[39m\u001b[39m{\u001b[39;00m\u001b[39mlist\u001b[39m(labels[mask])\u001b[39m}\u001b[39;00m\u001b[39m not found in axis\u001b[39m\u001b[39m\"\u001b[39m)\n\u001b[0;32m   6697\u001b[0m     indexer \u001b[39m=\u001b[39m indexer[\u001b[39m~\u001b[39mmask]\n\u001b[0;32m   6698\u001b[0m \u001b[39mreturn\u001b[39;00m \u001b[39mself\u001b[39m\u001b[39m.\u001b[39mdelete(indexer)\n",
      "\u001b[1;31mKeyError\u001b[0m: \"['type', 'id', 'updated', 'tz', 'url', 'detail', 'felt', 'cdi', 'mmi', 'alert', 'status', 'tsunami', 'sig', 'net', 'code', 'ids', 'sources', 'types', 'nst', 'dmin', 'rms', 'gap', 'magType', 'type', 'title', 'geometry.type'] not found in axis\""
     ]
    }
   ],
   "source": [
    "def eliminar_variables(pais):\n",
    "    variables = ['type', 'id', 'updated', 'tz', 'url', 'detail', 'felt', 'cdi', 'mmi', 'alert', 'status', \n",
    "            'tsunami', 'sig', 'net', 'code', 'ids', 'sources', 'types' , 'nst', 'dmin', 'rms', \n",
    "            'gap', 'magType', 'type', 'title', 'geometry.type'] \n",
    "\n",
    "    pais = pais.drop(variables, axis='columns')\n",
    "\n",
    "    return pais\n",
    "\n",
    "eeuu = eliminar_variables(eeuu)"
   ]
  },
  {
   "attachments": {},
   "cell_type": "markdown",
   "metadata": {},
   "source": [
    "Separar las variables de coordenadas en longitud, latitud y profundidad."
   ]
  },
  {
   "cell_type": "code",
   "execution_count": 60,
   "metadata": {},
   "outputs": [
    {
     "data": {
      "text/html": [
       "<div>\n",
       "<style scoped>\n",
       "    .dataframe tbody tr th:only-of-type {\n",
       "        vertical-align: middle;\n",
       "    }\n",
       "\n",
       "    .dataframe tbody tr th {\n",
       "        vertical-align: top;\n",
       "    }\n",
       "\n",
       "    .dataframe thead th {\n",
       "        text-align: right;\n",
       "    }\n",
       "</style>\n",
       "<table border=\"1\" class=\"dataframe\">\n",
       "  <thead>\n",
       "    <tr style=\"text-align: right;\">\n",
       "      <th></th>\n",
       "      <th>mag</th>\n",
       "      <th>place</th>\n",
       "      <th>time</th>\n",
       "      <th>longitude</th>\n",
       "      <th>latitude</th>\n",
       "      <th>depth</th>\n",
       "    </tr>\n",
       "  </thead>\n",
       "  <tbody>\n",
       "    <tr>\n",
       "      <th>0</th>\n",
       "      <td>1.93</td>\n",
       "      <td>8km ESE of Piru, CA</td>\n",
       "      <td>1672534824860</td>\n",
       "      <td>-118.712500</td>\n",
       "      <td>34.401500</td>\n",
       "      <td>6.66</td>\n",
       "    </tr>\n",
       "    <tr>\n",
       "      <th>1</th>\n",
       "      <td>1.00</td>\n",
       "      <td>18km ESE of Julian, CA</td>\n",
       "      <td>1672539025560</td>\n",
       "      <td>-116.428667</td>\n",
       "      <td>33.012833</td>\n",
       "      <td>6.70</td>\n",
       "    </tr>\n",
       "    <tr>\n",
       "      <th>2</th>\n",
       "      <td>2.50</td>\n",
       "      <td>26 km NW of Stanley, Idaho</td>\n",
       "      <td>1672539177668</td>\n",
       "      <td>-115.200800</td>\n",
       "      <td>44.369500</td>\n",
       "      <td>10.00</td>\n",
       "    </tr>\n",
       "    <tr>\n",
       "      <th>3</th>\n",
       "      <td>1.18</td>\n",
       "      <td>16km N of Borrego Springs, CA</td>\n",
       "      <td>1672539505790</td>\n",
       "      <td>-116.384500</td>\n",
       "      <td>33.400500</td>\n",
       "      <td>3.63</td>\n",
       "    </tr>\n",
       "    <tr>\n",
       "      <th>4</th>\n",
       "      <td>1.04</td>\n",
       "      <td>1km NNW of The Geysers, CA</td>\n",
       "      <td>1672542090120</td>\n",
       "      <td>-122.761498</td>\n",
       "      <td>38.789001</td>\n",
       "      <td>2.51</td>\n",
       "    </tr>\n",
       "    <tr>\n",
       "      <th>...</th>\n",
       "      <td>...</td>\n",
       "      <td>...</td>\n",
       "      <td>...</td>\n",
       "      <td>...</td>\n",
       "      <td>...</td>\n",
       "      <td>...</td>\n",
       "    </tr>\n",
       "    <tr>\n",
       "      <th>10947</th>\n",
       "      <td>2.57</td>\n",
       "      <td>3km SSW of East Shore, CA</td>\n",
       "      <td>1683847817670</td>\n",
       "      <td>-121.086500</td>\n",
       "      <td>40.212500</td>\n",
       "      <td>6.64</td>\n",
       "    </tr>\n",
       "    <tr>\n",
       "      <th>10948</th>\n",
       "      <td>2.43</td>\n",
       "      <td>3km E of Prattville, CA</td>\n",
       "      <td>1683848093630</td>\n",
       "      <td>-121.117500</td>\n",
       "      <td>40.205667</td>\n",
       "      <td>3.36</td>\n",
       "    </tr>\n",
       "    <tr>\n",
       "      <th>10949</th>\n",
       "      <td>2.66</td>\n",
       "      <td>4km E of Prattville, CA</td>\n",
       "      <td>1683848310210</td>\n",
       "      <td>-121.106167</td>\n",
       "      <td>40.204167</td>\n",
       "      <td>7.39</td>\n",
       "    </tr>\n",
       "    <tr>\n",
       "      <th>10950</th>\n",
       "      <td>2.51</td>\n",
       "      <td>1km ENE of Almanor, CA</td>\n",
       "      <td>1683848715410</td>\n",
       "      <td>-121.161833</td>\n",
       "      <td>40.222000</td>\n",
       "      <td>5.58</td>\n",
       "    </tr>\n",
       "    <tr>\n",
       "      <th>10951</th>\n",
       "      <td>2.20</td>\n",
       "      <td>37km SSW of Qualeys Camp, NV</td>\n",
       "      <td>1683848955020</td>\n",
       "      <td>-118.663833</td>\n",
       "      <td>37.990000</td>\n",
       "      <td>6.04</td>\n",
       "    </tr>\n",
       "  </tbody>\n",
       "</table>\n",
       "<p>10952 rows × 6 columns</p>\n",
       "</div>"
      ],
      "text/plain": [
       "        mag                          place           time   longitude   \n",
       "0      1.93            8km ESE of Piru, CA  1672534824860 -118.712500  \\\n",
       "1      1.00         18km ESE of Julian, CA  1672539025560 -116.428667   \n",
       "2      2.50     26 km NW of Stanley, Idaho  1672539177668 -115.200800   \n",
       "3      1.18  16km N of Borrego Springs, CA  1672539505790 -116.384500   \n",
       "4      1.04     1km NNW of The Geysers, CA  1672542090120 -122.761498   \n",
       "...     ...                            ...            ...         ...   \n",
       "10947  2.57      3km SSW of East Shore, CA  1683847817670 -121.086500   \n",
       "10948  2.43        3km E of Prattville, CA  1683848093630 -121.117500   \n",
       "10949  2.66        4km E of Prattville, CA  1683848310210 -121.106167   \n",
       "10950  2.51         1km ENE of Almanor, CA  1683848715410 -121.161833   \n",
       "10951  2.20   37km SSW of Qualeys Camp, NV  1683848955020 -118.663833   \n",
       "\n",
       "        latitude  depth  \n",
       "0      34.401500   6.66  \n",
       "1      33.012833   6.70  \n",
       "2      44.369500  10.00  \n",
       "3      33.400500   3.63  \n",
       "4      38.789001   2.51  \n",
       "...          ...    ...  \n",
       "10947  40.212500   6.64  \n",
       "10948  40.205667   3.36  \n",
       "10949  40.204167   7.39  \n",
       "10950  40.222000   5.58  \n",
       "10951  37.990000   6.04  \n",
       "\n",
       "[10952 rows x 6 columns]"
      ]
     },
     "execution_count": 60,
     "metadata": {},
     "output_type": "execute_result"
    }
   ],
   "source": [
    "def sep_coordenadas(pais):\n",
    "    pais.rename({'geometry.coordinates':'coordinates'}, axis='columns', inplace=True)\n",
    "    pais[['longitude','latitude', 'depth']] = pd.DataFrame(pais.coordinates.tolist(), index= pais.index)\n",
    "    pais.drop('coordinates',axis=1, inplace= True)\n",
    "    return pais\n",
    "\n",
    "sep_coordenadas(eeuu)"
   ]
  },
  {
   "cell_type": "code",
   "execution_count": 61,
   "metadata": {},
   "outputs": [
    {
     "data": {
      "text/html": [
       "<div>\n",
       "<style scoped>\n",
       "    .dataframe tbody tr th:only-of-type {\n",
       "        vertical-align: middle;\n",
       "    }\n",
       "\n",
       "    .dataframe tbody tr th {\n",
       "        vertical-align: top;\n",
       "    }\n",
       "\n",
       "    .dataframe thead th {\n",
       "        text-align: right;\n",
       "    }\n",
       "</style>\n",
       "<table border=\"1\" class=\"dataframe\">\n",
       "  <thead>\n",
       "    <tr style=\"text-align: right;\">\n",
       "      <th></th>\n",
       "      <th>mag</th>\n",
       "      <th>place</th>\n",
       "      <th>time</th>\n",
       "      <th>longitude</th>\n",
       "      <th>latitude</th>\n",
       "      <th>depth</th>\n",
       "    </tr>\n",
       "  </thead>\n",
       "  <tbody>\n",
       "    <tr>\n",
       "      <th>0</th>\n",
       "      <td>1.93</td>\n",
       "      <td>8km ESE of Piru, CA</td>\n",
       "      <td>2022-12-31 22:00:24.860</td>\n",
       "      <td>-118.712500</td>\n",
       "      <td>34.401500</td>\n",
       "      <td>6.66</td>\n",
       "    </tr>\n",
       "    <tr>\n",
       "      <th>1</th>\n",
       "      <td>1.00</td>\n",
       "      <td>18km ESE of Julian, CA</td>\n",
       "      <td>2022-12-31 23:10:25.560</td>\n",
       "      <td>-116.428667</td>\n",
       "      <td>33.012833</td>\n",
       "      <td>6.70</td>\n",
       "    </tr>\n",
       "    <tr>\n",
       "      <th>2</th>\n",
       "      <td>2.50</td>\n",
       "      <td>26 km NW of Stanley, Idaho</td>\n",
       "      <td>2022-12-31 23:12:57.668</td>\n",
       "      <td>-115.200800</td>\n",
       "      <td>44.369500</td>\n",
       "      <td>10.00</td>\n",
       "    </tr>\n",
       "    <tr>\n",
       "      <th>3</th>\n",
       "      <td>1.18</td>\n",
       "      <td>16km N of Borrego Springs, CA</td>\n",
       "      <td>2022-12-31 23:18:25.790</td>\n",
       "      <td>-116.384500</td>\n",
       "      <td>33.400500</td>\n",
       "      <td>3.63</td>\n",
       "    </tr>\n",
       "    <tr>\n",
       "      <th>4</th>\n",
       "      <td>1.04</td>\n",
       "      <td>1km NNW of The Geysers, CA</td>\n",
       "      <td>2023-01-01 00:01:30.120</td>\n",
       "      <td>-122.761498</td>\n",
       "      <td>38.789001</td>\n",
       "      <td>2.51</td>\n",
       "    </tr>\n",
       "    <tr>\n",
       "      <th>...</th>\n",
       "      <td>...</td>\n",
       "      <td>...</td>\n",
       "      <td>...</td>\n",
       "      <td>...</td>\n",
       "      <td>...</td>\n",
       "      <td>...</td>\n",
       "    </tr>\n",
       "    <tr>\n",
       "      <th>10947</th>\n",
       "      <td>2.57</td>\n",
       "      <td>3km SSW of East Shore, CA</td>\n",
       "      <td>2023-05-11 20:30:17.670</td>\n",
       "      <td>-121.086500</td>\n",
       "      <td>40.212500</td>\n",
       "      <td>6.64</td>\n",
       "    </tr>\n",
       "    <tr>\n",
       "      <th>10948</th>\n",
       "      <td>2.43</td>\n",
       "      <td>3km E of Prattville, CA</td>\n",
       "      <td>2023-05-11 20:34:53.630</td>\n",
       "      <td>-121.117500</td>\n",
       "      <td>40.205667</td>\n",
       "      <td>3.36</td>\n",
       "    </tr>\n",
       "    <tr>\n",
       "      <th>10949</th>\n",
       "      <td>2.66</td>\n",
       "      <td>4km E of Prattville, CA</td>\n",
       "      <td>2023-05-11 20:38:30.210</td>\n",
       "      <td>-121.106167</td>\n",
       "      <td>40.204167</td>\n",
       "      <td>7.39</td>\n",
       "    </tr>\n",
       "    <tr>\n",
       "      <th>10950</th>\n",
       "      <td>2.51</td>\n",
       "      <td>1km ENE of Almanor, CA</td>\n",
       "      <td>2023-05-11 20:45:15.410</td>\n",
       "      <td>-121.161833</td>\n",
       "      <td>40.222000</td>\n",
       "      <td>5.58</td>\n",
       "    </tr>\n",
       "    <tr>\n",
       "      <th>10951</th>\n",
       "      <td>2.20</td>\n",
       "      <td>37km SSW of Qualeys Camp, NV</td>\n",
       "      <td>2023-05-11 20:49:15.020</td>\n",
       "      <td>-118.663833</td>\n",
       "      <td>37.990000</td>\n",
       "      <td>6.04</td>\n",
       "    </tr>\n",
       "  </tbody>\n",
       "</table>\n",
       "<p>10952 rows × 6 columns</p>\n",
       "</div>"
      ],
      "text/plain": [
       "        mag                          place                    time   \n",
       "0      1.93            8km ESE of Piru, CA 2022-12-31 22:00:24.860  \\\n",
       "1      1.00         18km ESE of Julian, CA 2022-12-31 23:10:25.560   \n",
       "2      2.50     26 km NW of Stanley, Idaho 2022-12-31 23:12:57.668   \n",
       "3      1.18  16km N of Borrego Springs, CA 2022-12-31 23:18:25.790   \n",
       "4      1.04     1km NNW of The Geysers, CA 2023-01-01 00:01:30.120   \n",
       "...     ...                            ...                     ...   \n",
       "10947  2.57      3km SSW of East Shore, CA 2023-05-11 20:30:17.670   \n",
       "10948  2.43        3km E of Prattville, CA 2023-05-11 20:34:53.630   \n",
       "10949  2.66        4km E of Prattville, CA 2023-05-11 20:38:30.210   \n",
       "10950  2.51         1km ENE of Almanor, CA 2023-05-11 20:45:15.410   \n",
       "10951  2.20   37km SSW of Qualeys Camp, NV 2023-05-11 20:49:15.020   \n",
       "\n",
       "        longitude   latitude  depth  \n",
       "0     -118.712500  34.401500   6.66  \n",
       "1     -116.428667  33.012833   6.70  \n",
       "2     -115.200800  44.369500  10.00  \n",
       "3     -116.384500  33.400500   3.63  \n",
       "4     -122.761498  38.789001   2.51  \n",
       "...           ...        ...    ...  \n",
       "10947 -121.086500  40.212500   6.64  \n",
       "10948 -121.117500  40.205667   3.36  \n",
       "10949 -121.106167  40.204167   7.39  \n",
       "10950 -121.161833  40.222000   5.58  \n",
       "10951 -118.663833  37.990000   6.04  \n",
       "\n",
       "[10952 rows x 6 columns]"
      ]
     },
     "execution_count": 61,
     "metadata": {},
     "output_type": "execute_result"
    }
   ],
   "source": [
    "def formato_tiempo(pais):\n",
    "    def formatear_time(x):\n",
    "\n",
    "        time = x/1000\n",
    "        return datetime.datetime.fromtimestamp(time)\n",
    "\n",
    "    pais.time = pais.time.apply(formatear_time)\n",
    "\n",
    "    return pais\n",
    "\n",
    "formato_tiempo(eeuu)"
   ]
  },
  {
   "attachments": {},
   "cell_type": "markdown",
   "metadata": {},
   "source": [
    "Crear variables __date__ y __time_hour__."
   ]
  },
  {
   "cell_type": "code",
   "execution_count": 62,
   "metadata": {},
   "outputs": [
    {
     "data": {
      "text/html": [
       "<div>\n",
       "<style scoped>\n",
       "    .dataframe tbody tr th:only-of-type {\n",
       "        vertical-align: middle;\n",
       "    }\n",
       "\n",
       "    .dataframe tbody tr th {\n",
       "        vertical-align: top;\n",
       "    }\n",
       "\n",
       "    .dataframe thead th {\n",
       "        text-align: right;\n",
       "    }\n",
       "</style>\n",
       "<table border=\"1\" class=\"dataframe\">\n",
       "  <thead>\n",
       "    <tr style=\"text-align: right;\">\n",
       "      <th></th>\n",
       "      <th>mag</th>\n",
       "      <th>place</th>\n",
       "      <th>time</th>\n",
       "      <th>longitude</th>\n",
       "      <th>latitude</th>\n",
       "      <th>depth</th>\n",
       "      <th>date</th>\n",
       "      <th>time_hour</th>\n",
       "    </tr>\n",
       "  </thead>\n",
       "  <tbody>\n",
       "    <tr>\n",
       "      <th>0</th>\n",
       "      <td>1.93</td>\n",
       "      <td>8km ESE of Piru, CA</td>\n",
       "      <td>2022-12-31 22:00:24.860</td>\n",
       "      <td>-118.712500</td>\n",
       "      <td>34.401500</td>\n",
       "      <td>6.66</td>\n",
       "      <td>2022-12-31</td>\n",
       "      <td>22:00:24</td>\n",
       "    </tr>\n",
       "    <tr>\n",
       "      <th>1</th>\n",
       "      <td>1.00</td>\n",
       "      <td>18km ESE of Julian, CA</td>\n",
       "      <td>2022-12-31 23:10:25.560</td>\n",
       "      <td>-116.428667</td>\n",
       "      <td>33.012833</td>\n",
       "      <td>6.70</td>\n",
       "      <td>2022-12-31</td>\n",
       "      <td>23:10:25</td>\n",
       "    </tr>\n",
       "    <tr>\n",
       "      <th>2</th>\n",
       "      <td>2.50</td>\n",
       "      <td>26 km NW of Stanley, Idaho</td>\n",
       "      <td>2022-12-31 23:12:57.668</td>\n",
       "      <td>-115.200800</td>\n",
       "      <td>44.369500</td>\n",
       "      <td>10.00</td>\n",
       "      <td>2022-12-31</td>\n",
       "      <td>23:12:57</td>\n",
       "    </tr>\n",
       "    <tr>\n",
       "      <th>3</th>\n",
       "      <td>1.18</td>\n",
       "      <td>16km N of Borrego Springs, CA</td>\n",
       "      <td>2022-12-31 23:18:25.790</td>\n",
       "      <td>-116.384500</td>\n",
       "      <td>33.400500</td>\n",
       "      <td>3.63</td>\n",
       "      <td>2022-12-31</td>\n",
       "      <td>23:18:25</td>\n",
       "    </tr>\n",
       "    <tr>\n",
       "      <th>4</th>\n",
       "      <td>1.04</td>\n",
       "      <td>1km NNW of The Geysers, CA</td>\n",
       "      <td>2023-01-01 00:01:30.120</td>\n",
       "      <td>-122.761498</td>\n",
       "      <td>38.789001</td>\n",
       "      <td>2.51</td>\n",
       "      <td>2023-01-01</td>\n",
       "      <td>00:01:30</td>\n",
       "    </tr>\n",
       "    <tr>\n",
       "      <th>...</th>\n",
       "      <td>...</td>\n",
       "      <td>...</td>\n",
       "      <td>...</td>\n",
       "      <td>...</td>\n",
       "      <td>...</td>\n",
       "      <td>...</td>\n",
       "      <td>...</td>\n",
       "      <td>...</td>\n",
       "    </tr>\n",
       "    <tr>\n",
       "      <th>10947</th>\n",
       "      <td>2.57</td>\n",
       "      <td>3km SSW of East Shore, CA</td>\n",
       "      <td>2023-05-11 20:30:17.670</td>\n",
       "      <td>-121.086500</td>\n",
       "      <td>40.212500</td>\n",
       "      <td>6.64</td>\n",
       "      <td>2023-05-11</td>\n",
       "      <td>20:30:17</td>\n",
       "    </tr>\n",
       "    <tr>\n",
       "      <th>10948</th>\n",
       "      <td>2.43</td>\n",
       "      <td>3km E of Prattville, CA</td>\n",
       "      <td>2023-05-11 20:34:53.630</td>\n",
       "      <td>-121.117500</td>\n",
       "      <td>40.205667</td>\n",
       "      <td>3.36</td>\n",
       "      <td>2023-05-11</td>\n",
       "      <td>20:34:53</td>\n",
       "    </tr>\n",
       "    <tr>\n",
       "      <th>10949</th>\n",
       "      <td>2.66</td>\n",
       "      <td>4km E of Prattville, CA</td>\n",
       "      <td>2023-05-11 20:38:30.210</td>\n",
       "      <td>-121.106167</td>\n",
       "      <td>40.204167</td>\n",
       "      <td>7.39</td>\n",
       "      <td>2023-05-11</td>\n",
       "      <td>20:38:30</td>\n",
       "    </tr>\n",
       "    <tr>\n",
       "      <th>10950</th>\n",
       "      <td>2.51</td>\n",
       "      <td>1km ENE of Almanor, CA</td>\n",
       "      <td>2023-05-11 20:45:15.410</td>\n",
       "      <td>-121.161833</td>\n",
       "      <td>40.222000</td>\n",
       "      <td>5.58</td>\n",
       "      <td>2023-05-11</td>\n",
       "      <td>20:45:15</td>\n",
       "    </tr>\n",
       "    <tr>\n",
       "      <th>10951</th>\n",
       "      <td>2.20</td>\n",
       "      <td>37km SSW of Qualeys Camp, NV</td>\n",
       "      <td>2023-05-11 20:49:15.020</td>\n",
       "      <td>-118.663833</td>\n",
       "      <td>37.990000</td>\n",
       "      <td>6.04</td>\n",
       "      <td>2023-05-11</td>\n",
       "      <td>20:49:15</td>\n",
       "    </tr>\n",
       "  </tbody>\n",
       "</table>\n",
       "<p>10952 rows × 8 columns</p>\n",
       "</div>"
      ],
      "text/plain": [
       "        mag                          place                    time   \n",
       "0      1.93            8km ESE of Piru, CA 2022-12-31 22:00:24.860  \\\n",
       "1      1.00         18km ESE of Julian, CA 2022-12-31 23:10:25.560   \n",
       "2      2.50     26 km NW of Stanley, Idaho 2022-12-31 23:12:57.668   \n",
       "3      1.18  16km N of Borrego Springs, CA 2022-12-31 23:18:25.790   \n",
       "4      1.04     1km NNW of The Geysers, CA 2023-01-01 00:01:30.120   \n",
       "...     ...                            ...                     ...   \n",
       "10947  2.57      3km SSW of East Shore, CA 2023-05-11 20:30:17.670   \n",
       "10948  2.43        3km E of Prattville, CA 2023-05-11 20:34:53.630   \n",
       "10949  2.66        4km E of Prattville, CA 2023-05-11 20:38:30.210   \n",
       "10950  2.51         1km ENE of Almanor, CA 2023-05-11 20:45:15.410   \n",
       "10951  2.20   37km SSW of Qualeys Camp, NV 2023-05-11 20:49:15.020   \n",
       "\n",
       "        longitude   latitude  depth        date time_hour  \n",
       "0     -118.712500  34.401500   6.66  2022-12-31  22:00:24  \n",
       "1     -116.428667  33.012833   6.70  2022-12-31  23:10:25  \n",
       "2     -115.200800  44.369500  10.00  2022-12-31  23:12:57  \n",
       "3     -116.384500  33.400500   3.63  2022-12-31  23:18:25  \n",
       "4     -122.761498  38.789001   2.51  2023-01-01  00:01:30  \n",
       "...           ...        ...    ...         ...       ...  \n",
       "10947 -121.086500  40.212500   6.64  2023-05-11  20:30:17  \n",
       "10948 -121.117500  40.205667   3.36  2023-05-11  20:34:53  \n",
       "10949 -121.106167  40.204167   7.39  2023-05-11  20:38:30  \n",
       "10950 -121.161833  40.222000   5.58  2023-05-11  20:45:15  \n",
       "10951 -118.663833  37.990000   6.04  2023-05-11  20:49:15  \n",
       "\n",
       "[10952 rows x 8 columns]"
      ]
     },
     "execution_count": 62,
     "metadata": {},
     "output_type": "execute_result"
    }
   ],
   "source": [
    "def crear_variables_time(pais):\n",
    "    pais['date'] = pais.time.dt.date\n",
    "    pais['time_hour'] = pais.time.dt.time\n",
    "    pais['time_hour'] = pais['time_hour'].apply(lambda x: x.replace(microsecond=0))\n",
    "\n",
    "    return pais\n",
    "\n",
    "crear_variables_time(eeuu)"
   ]
  },
  {
   "attachments": {},
   "cell_type": "markdown",
   "metadata": {},
   "source": [
    "Eliminar variable __time__."
   ]
  },
  {
   "cell_type": "code",
   "execution_count": 63,
   "metadata": {},
   "outputs": [],
   "source": [
    "eeuu.drop('time', axis='columns', inplace=True)"
   ]
  },
  {
   "attachments": {},
   "cell_type": "markdown",
   "metadata": {},
   "source": [
    "Renombrar las variables."
   ]
  },
  {
   "cell_type": "code",
   "execution_count": 64,
   "metadata": {},
   "outputs": [],
   "source": [
    "eeuu.rename({'mag':'magnitude', 'time_hour':'time'}, axis='columns', inplace=True)"
   ]
  },
  {
   "attachments": {},
   "cell_type": "markdown",
   "metadata": {},
   "source": [
    "Analizar el formato."
   ]
  },
  {
   "cell_type": "code",
   "execution_count": 65,
   "metadata": {},
   "outputs": [
    {
     "name": "stdout",
     "output_type": "stream",
     "text": [
      "<class 'pandas.core.frame.DataFrame'>\n",
      "RangeIndex: 10952 entries, 0 to 10951\n",
      "Data columns (total 7 columns):\n",
      " #   Column     Non-Null Count  Dtype  \n",
      "---  ------     --------------  -----  \n",
      " 0   magnitude  10952 non-null  float64\n",
      " 1   place      10783 non-null  object \n",
      " 2   longitude  10952 non-null  float64\n",
      " 3   latitude   10952 non-null  float64\n",
      " 4   depth      10952 non-null  float64\n",
      " 5   date       10952 non-null  object \n",
      " 6   time       10952 non-null  object \n",
      "dtypes: float64(4), object(3)\n",
      "memory usage: 599.1+ KB\n"
     ]
    }
   ],
   "source": [
    "eeuu.info()"
   ]
  },
  {
   "cell_type": "code",
   "execution_count": 66,
   "metadata": {},
   "outputs": [
    {
     "data": {
      "text/plain": [
       "Text(0.5, 1.0, 'Cantidad de valores únicos por variable')"
      ]
     },
     "execution_count": 66,
     "metadata": {},
     "output_type": "execute_result"
    },
    {
     "data": {
      "image/png": "[encoded data removed]",
      "text/plain": [
       "<Figure size 640x480 with 1 Axes>"
      ]
     },
     "metadata": {},
     "output_type": "display_data"
    }
   ],
   "source": [
    "def valor_unico(pais):\n",
    "    ax = sns.barplot(x = pais.nunique().values, y = pais.columns)\n",
    "    ax.bar_label(ax.containers[0])\n",
    "    return plt.title('Cantidad de valores únicos por variable')\n",
    "\n",
    "valor_unico(eeuu)"
   ]
  },
  {
   "attachments": {},
   "cell_type": "markdown",
   "metadata": {},
   "source": [
    "El mapa de correlaciones determina que no existe correlacion lineal entre variables."
   ]
  },
  {
   "cell_type": "code",
   "execution_count": 42,
   "metadata": {},
   "outputs": [
    {
     "data": {
      "text/plain": [
       "Text(0.5, 1.0, 'Mapa de correlacion')"
      ]
     },
     "execution_count": 42,
     "metadata": {},
     "output_type": "execute_result"
    },
    {
     "data": {
      "image/png": "[encoded data removed]",
      "text/plain": [
       "<Figure size 640x480 with 2 Axes>"
      ]
     },
     "metadata": {},
     "output_type": "display_data"
    }
   ],
   "source": [
    "def mapa_correlacion(pais):\n",
    "\n",
    "    sns.heatmap(pais.corr(numeric_only=True))\n",
    "    return plt.title('Mapa de correlacion')\n",
    "\n",
    "mapa_correlacion(eeuu)"
   ]
  },
  {
   "attachments": {},
   "cell_type": "markdown",
   "metadata": {},
   "source": [
    "Los siguientes graficos determinan la distribucion sismica por region y la magnitude predominante: alrededor de 4.3 grados."
   ]
  },
  {
   "cell_type": "code",
   "execution_count": 43,
   "metadata": {},
   "outputs": [
    {
     "name": "stderr",
     "output_type": "stream",
     "text": [
      "C:\\Users\\Edwar\\AppData\\Local\\Temp\\ipykernel_9728\\1994935748.py:4: FutureWarning: The geopandas.dataset module is deprecated and will be removed in GeoPandas 1.0. You can get the original 'naturalearth_lowres' data from https://www.naturalearthdata.com/downloads/110m-cultural-vectors/.\n",
      "  world = gpd.read_file(gpd.datasets.get_path('naturalearth_lowres'))\n"
     ]
    },
    {
     "data": {
      "image/png": "[encoded data removed]",
      "text/plain": [
       "<Figure size 1200x1000 with 2 Axes>"
      ]
     },
     "metadata": {},
     "output_type": "display_data"
    }
   ],
   "source": [
    "\n",
    "def mapa_sismo(pais):\n",
    "    # https://towardsdatascience.com/plotting-maps-with-geopandas-428c97295a73\n",
    "    # Escogemos el mapa\n",
    "    world = gpd.read_file(gpd.datasets.get_path('naturalearth_lowres'))\n",
    "    # Creamos el objeto geodataframe\n",
    "    crs = 'EPSG:4326'\n",
    "    geometry = [Point(xy) for xy in zip(pais['longitude'], pais['latitude'])]\n",
    "    geo_df = gpd.GeoDataFrame(pais, \n",
    "                            crs = crs, \n",
    "                            geometry = geometry)\n",
    "\n",
    "    # por magnitud\n",
    "    fig, ax = plt.subplots(figsize = (12,10))\n",
    "\n",
    "    world.to_crs(epsg=4326).plot(ax=ax, color='lightgrey')\n",
    "\n",
    "    geo_df.plot(column = 'magnitude', ax=ax, cmap = 'rainbow',\n",
    "                legend = True, legend_kwds={'shrink': 0.3}, \n",
    "                markersize = 5, alpha=0.5)\n",
    "                \n",
    "    ax.set_title('Sismo por magnitud')\n",
    "\n",
    "mapa_sismo(eeuu)"
   ]
  },
  {
   "cell_type": "code",
   "execution_count": 44,
   "metadata": {},
   "outputs": [
    {
     "name": "stderr",
     "output_type": "stream",
     "text": [
      "C:\\Users\\Edwar\\AppData\\Local\\Temp\\ipykernel_9728\\4281014579.py:3: UserWarning: \n",
      "The palette list has fewer values (10) than needed (6105) and will cycle, which may produce an uninterpretable plot.\n",
      "  return sns.displot(pais, x=\"magnitude\",hue='place',multiple=\"stack\",kde=True,palette=sns.color_palette('bright')[:13])\n"
     ]
    },
    {
     "ename": "KeyboardInterrupt",
     "evalue": "",
     "output_type": "error",
     "traceback": [
      "\u001b[1;31m---------------------------------------------------------------------------\u001b[0m",
      "\u001b[1;31mKeyboardInterrupt\u001b[0m                         Traceback (most recent call last)",
      "Cell \u001b[1;32mIn[44], line 5\u001b[0m\n\u001b[0;32m      1\u001b[0m \u001b[39mdef\u001b[39;00m \u001b[39mmagnitud_region\u001b[39m(pais):\n\u001b[0;32m      3\u001b[0m     \u001b[39mreturn\u001b[39;00m sns\u001b[39m.\u001b[39mdisplot(pais, x\u001b[39m=\u001b[39m\u001b[39m\"\u001b[39m\u001b[39mmagnitude\u001b[39m\u001b[39m\"\u001b[39m,hue\u001b[39m=\u001b[39m\u001b[39m'\u001b[39m\u001b[39mplace\u001b[39m\u001b[39m'\u001b[39m,multiple\u001b[39m=\u001b[39m\u001b[39m\"\u001b[39m\u001b[39mstack\u001b[39m\u001b[39m\"\u001b[39m,kde\u001b[39m=\u001b[39m\u001b[39mTrue\u001b[39;00m,palette\u001b[39m=\u001b[39msns\u001b[39m.\u001b[39mcolor_palette(\u001b[39m'\u001b[39m\u001b[39mbright\u001b[39m\u001b[39m'\u001b[39m)[:\u001b[39m13\u001b[39m])\n\u001b[1;32m----> 5\u001b[0m magnitud_region(eeuu)\n",
      "Cell \u001b[1;32mIn[44], line 3\u001b[0m, in \u001b[0;36mmagnitud_region\u001b[1;34m(pais)\u001b[0m\n\u001b[0;32m      1\u001b[0m \u001b[39mdef\u001b[39;00m \u001b[39mmagnitud_region\u001b[39m(pais):\n\u001b[1;32m----> 3\u001b[0m     \u001b[39mreturn\u001b[39;00m sns\u001b[39m.\u001b[39;49mdisplot(pais, x\u001b[39m=\u001b[39;49m\u001b[39m\"\u001b[39;49m\u001b[39mmagnitude\u001b[39;49m\u001b[39m\"\u001b[39;49m,hue\u001b[39m=\u001b[39;49m\u001b[39m'\u001b[39;49m\u001b[39mplace\u001b[39;49m\u001b[39m'\u001b[39;49m,multiple\u001b[39m=\u001b[39;49m\u001b[39m\"\u001b[39;49m\u001b[39mstack\u001b[39;49m\u001b[39m\"\u001b[39;49m,kde\u001b[39m=\u001b[39;49m\u001b[39mTrue\u001b[39;49;00m,palette\u001b[39m=\u001b[39;49msns\u001b[39m.\u001b[39;49mcolor_palette(\u001b[39m'\u001b[39;49m\u001b[39mbright\u001b[39;49m\u001b[39m'\u001b[39;49m)[:\u001b[39m13\u001b[39;49m])\n",
      "File \u001b[1;32mc:\\Users\\Edwar\\OneDrive\\Educacion\\Soy Henry\\Proyecto Final\\proyecto_final_henry\\Lib\\site-packages\\seaborn\\distributions.py:2210\u001b[0m, in \u001b[0;36mdisplot\u001b[1;34m(data, x, y, hue, row, col, weights, kind, rug, rug_kws, log_scale, legend, palette, hue_order, hue_norm, color, col_wrap, row_order, col_order, height, aspect, facet_kws, **kwargs)\u001b[0m\n\u001b[0;32m   2207\u001b[0m \u001b[39mif\u001b[39;00m p\u001b[39m.\u001b[39munivariate:\n\u001b[0;32m   2209\u001b[0m     _assign_default_kwargs(hist_kws, p\u001b[39m.\u001b[39mplot_univariate_histogram, histplot)\n\u001b[1;32m-> 2210\u001b[0m     p\u001b[39m.\u001b[39;49mplot_univariate_histogram(\u001b[39m*\u001b[39;49m\u001b[39m*\u001b[39;49mhist_kws)\n\u001b[0;32m   2212\u001b[0m \u001b[39melse\u001b[39;00m:\n\u001b[0;32m   2214\u001b[0m     _assign_default_kwargs(hist_kws, p\u001b[39m.\u001b[39mplot_bivariate_histogram, histplot)\n",
      "File \u001b[1;32mc:\\Users\\Edwar\\OneDrive\\Educacion\\Soy Henry\\Proyecto Final\\proyecto_final_henry\\Lib\\site-packages\\seaborn\\distributions.py:498\u001b[0m, in \u001b[0;36m_DistributionPlotter.plot_univariate_histogram\u001b[1;34m(self, multiple, element, fill, common_norm, common_bins, shrink, kde, kde_kws, color, legend, line_kws, estimate_kws, **plot_kws)\u001b[0m\n\u001b[0;32m    496\u001b[0m edges \u001b[39m=\u001b[39m edges \u001b[39m+\u001b[39m (\u001b[39m1\u001b[39m \u001b[39m-\u001b[39m shrink) \u001b[39m/\u001b[39m \u001b[39m2\u001b[39m \u001b[39m*\u001b[39m widths\n\u001b[0;32m    497\u001b[0m widths \u001b[39m*\u001b[39m\u001b[39m=\u001b[39m shrink\n\u001b[1;32m--> 498\u001b[0m index \u001b[39m=\u001b[39m pd\u001b[39m.\u001b[39;49mMultiIndex\u001b[39m.\u001b[39;49mfrom_arrays([\n\u001b[0;32m    499\u001b[0m     pd\u001b[39m.\u001b[39;49mIndex(edges, name\u001b[39m=\u001b[39;49m\u001b[39m\"\u001b[39;49m\u001b[39medges\u001b[39;49m\u001b[39m\"\u001b[39;49m),\n\u001b[0;32m    500\u001b[0m     pd\u001b[39m.\u001b[39;49mIndex(widths, name\u001b[39m=\u001b[39;49m\u001b[39m\"\u001b[39;49m\u001b[39mwidths\u001b[39;49m\u001b[39m\"\u001b[39;49m),\n\u001b[0;32m    501\u001b[0m ])\n\u001b[0;32m    502\u001b[0m hist \u001b[39m=\u001b[39m pd\u001b[39m.\u001b[39mSeries(heights, index\u001b[39m=\u001b[39mindex, name\u001b[39m=\u001b[39m\u001b[39m\"\u001b[39m\u001b[39mheights\u001b[39m\u001b[39m\"\u001b[39m)\n\u001b[0;32m    504\u001b[0m \u001b[39m# Apply scaling to normalize across groups\u001b[39;00m\n",
      "File \u001b[1;32mc:\\Users\\Edwar\\OneDrive\\Educacion\\Soy Henry\\Proyecto Final\\proyecto_final_henry\\Lib\\site-packages\\pandas\\core\\indexes\\multi.py:506\u001b[0m, in \u001b[0;36mMultiIndex.from_arrays\u001b[1;34m(cls, arrays, sortorder, names)\u001b[0m\n\u001b[0;32m    503\u001b[0m     \u001b[39mif\u001b[39;00m \u001b[39mlen\u001b[39m(arrays[i]) \u001b[39m!=\u001b[39m \u001b[39mlen\u001b[39m(arrays[i \u001b[39m-\u001b[39m \u001b[39m1\u001b[39m]):\n\u001b[0;32m    504\u001b[0m         \u001b[39mraise\u001b[39;00m \u001b[39mValueError\u001b[39;00m(\u001b[39m\"\u001b[39m\u001b[39mall arrays must be same length\u001b[39m\u001b[39m\"\u001b[39m)\n\u001b[1;32m--> 506\u001b[0m codes, levels \u001b[39m=\u001b[39m factorize_from_iterables(arrays)\n\u001b[0;32m    507\u001b[0m \u001b[39mif\u001b[39;00m names \u001b[39mis\u001b[39;00m lib\u001b[39m.\u001b[39mno_default:\n\u001b[0;32m    508\u001b[0m     names \u001b[39m=\u001b[39m [\u001b[39mgetattr\u001b[39m(arr, \u001b[39m\"\u001b[39m\u001b[39mname\u001b[39m\u001b[39m\"\u001b[39m, \u001b[39mNone\u001b[39;00m) \u001b[39mfor\u001b[39;00m arr \u001b[39min\u001b[39;00m arrays]\n",
      "File \u001b[1;32mc:\\Users\\Edwar\\OneDrive\\Educacion\\Soy Henry\\Proyecto Final\\proyecto_final_henry\\Lib\\site-packages\\pandas\\core\\arrays\\categorical.py:2603\u001b[0m, in \u001b[0;36mfactorize_from_iterables\u001b[1;34m(iterables)\u001b[0m\n\u001b[0;32m   2599\u001b[0m \u001b[39mif\u001b[39;00m \u001b[39mlen\u001b[39m(iterables) \u001b[39m==\u001b[39m \u001b[39m0\u001b[39m:\n\u001b[0;32m   2600\u001b[0m     \u001b[39m# For consistency, it should return two empty lists.\u001b[39;00m\n\u001b[0;32m   2601\u001b[0m     \u001b[39mreturn\u001b[39;00m [], []\n\u001b[1;32m-> 2603\u001b[0m codes, categories \u001b[39m=\u001b[39m \u001b[39mzip\u001b[39;49m(\u001b[39m*\u001b[39;49m(factorize_from_iterable(it) \u001b[39mfor\u001b[39;49;00m it \u001b[39min\u001b[39;49;00m iterables))\n\u001b[0;32m   2604\u001b[0m \u001b[39mreturn\u001b[39;00m \u001b[39mlist\u001b[39m(codes), \u001b[39mlist\u001b[39m(categories)\n",
      "File \u001b[1;32mc:\\Users\\Edwar\\OneDrive\\Educacion\\Soy Henry\\Proyecto Final\\proyecto_final_henry\\Lib\\site-packages\\pandas\\core\\arrays\\categorical.py:2603\u001b[0m, in \u001b[0;36m<genexpr>\u001b[1;34m(.0)\u001b[0m\n\u001b[0;32m   2599\u001b[0m \u001b[39mif\u001b[39;00m \u001b[39mlen\u001b[39m(iterables) \u001b[39m==\u001b[39m \u001b[39m0\u001b[39m:\n\u001b[0;32m   2600\u001b[0m     \u001b[39m# For consistency, it should return two empty lists.\u001b[39;00m\n\u001b[0;32m   2601\u001b[0m     \u001b[39mreturn\u001b[39;00m [], []\n\u001b[1;32m-> 2603\u001b[0m codes, categories \u001b[39m=\u001b[39m \u001b[39mzip\u001b[39m(\u001b[39m*\u001b[39m(factorize_from_iterable(it) \u001b[39mfor\u001b[39;00m it \u001b[39min\u001b[39;00m iterables))\n\u001b[0;32m   2604\u001b[0m \u001b[39mreturn\u001b[39;00m \u001b[39mlist\u001b[39m(codes), \u001b[39mlist\u001b[39m(categories)\n",
      "File \u001b[1;32mc:\\Users\\Edwar\\OneDrive\\Educacion\\Soy Henry\\Proyecto Final\\proyecto_final_henry\\Lib\\site-packages\\pandas\\core\\arrays\\categorical.py:2576\u001b[0m, in \u001b[0;36mfactorize_from_iterable\u001b[1;34m(values)\u001b[0m\n\u001b[0;32m   2571\u001b[0m     codes \u001b[39m=\u001b[39m values\u001b[39m.\u001b[39mcodes\n\u001b[0;32m   2572\u001b[0m \u001b[39melse\u001b[39;00m:\n\u001b[0;32m   2573\u001b[0m     \u001b[39m# The value of ordered is irrelevant since we don't use cat as such,\u001b[39;00m\n\u001b[0;32m   2574\u001b[0m     \u001b[39m# but only the resulting categories, the order of which is independent\u001b[39;00m\n\u001b[0;32m   2575\u001b[0m     \u001b[39m# from ordered. Set ordered to False as default. See GH #15457\u001b[39;00m\n\u001b[1;32m-> 2576\u001b[0m     cat \u001b[39m=\u001b[39m Categorical(values, ordered\u001b[39m=\u001b[39;49m\u001b[39mFalse\u001b[39;49;00m)\n\u001b[0;32m   2577\u001b[0m     categories \u001b[39m=\u001b[39m cat\u001b[39m.\u001b[39mcategories\n\u001b[0;32m   2578\u001b[0m     codes \u001b[39m=\u001b[39m cat\u001b[39m.\u001b[39mcodes\n",
      "File \u001b[1;32mc:\\Users\\Edwar\\OneDrive\\Educacion\\Soy Henry\\Proyecto Final\\proyecto_final_henry\\Lib\\site-packages\\pandas\\core\\arrays\\categorical.py:425\u001b[0m, in \u001b[0;36mCategorical.__init__\u001b[1;34m(self, values, categories, ordered, dtype, fastpath, copy)\u001b[0m\n\u001b[0;32m    423\u001b[0m \u001b[39mif\u001b[39;00m dtype\u001b[39m.\u001b[39mcategories \u001b[39mis\u001b[39;00m \u001b[39mNone\u001b[39;00m:\n\u001b[0;32m    424\u001b[0m     \u001b[39mtry\u001b[39;00m:\n\u001b[1;32m--> 425\u001b[0m         codes, categories \u001b[39m=\u001b[39m factorize(values, sort\u001b[39m=\u001b[39;49m\u001b[39mTrue\u001b[39;49;00m)\n\u001b[0;32m    426\u001b[0m     \u001b[39mexcept\u001b[39;00m \u001b[39mTypeError\u001b[39;00m \u001b[39mas\u001b[39;00m err:\n\u001b[0;32m    427\u001b[0m         codes, categories \u001b[39m=\u001b[39m factorize(values, sort\u001b[39m=\u001b[39m\u001b[39mFalse\u001b[39;00m)\n",
      "File \u001b[1;32mc:\\Users\\Edwar\\OneDrive\\Educacion\\Soy Henry\\Proyecto Final\\proyecto_final_henry\\Lib\\site-packages\\pandas\\core\\algorithms.py:747\u001b[0m, in \u001b[0;36mfactorize\u001b[1;34m(values, sort, use_na_sentinel, size_hint)\u001b[0m\n\u001b[0;32m    738\u001b[0m \u001b[39m# Implementation notes: This method is responsible for 3 things\u001b[39;00m\n\u001b[0;32m    739\u001b[0m \u001b[39m# 1.) coercing data to array-like (ndarray, Index, extension array)\u001b[39;00m\n\u001b[0;32m    740\u001b[0m \u001b[39m# 2.) factorizing codes and uniques\u001b[39;00m\n\u001b[1;32m   (...)\u001b[0m\n\u001b[0;32m    744\u001b[0m \u001b[39m# responsible only for factorization. All data coercion, sorting and boxing\u001b[39;00m\n\u001b[0;32m    745\u001b[0m \u001b[39m# should happen here.\u001b[39;00m\n\u001b[0;32m    746\u001b[0m \u001b[39mif\u001b[39;00m \u001b[39misinstance\u001b[39m(values, (ABCIndex, ABCSeries)):\n\u001b[1;32m--> 747\u001b[0m     \u001b[39mreturn\u001b[39;00m values\u001b[39m.\u001b[39;49mfactorize(sort\u001b[39m=\u001b[39;49msort, use_na_sentinel\u001b[39m=\u001b[39;49muse_na_sentinel)\n\u001b[0;32m    749\u001b[0m values \u001b[39m=\u001b[39m _ensure_arraylike(values)\n\u001b[0;32m    750\u001b[0m original \u001b[39m=\u001b[39m values\n",
      "File \u001b[1;32mc:\\Users\\Edwar\\OneDrive\\Educacion\\Soy Henry\\Proyecto Final\\proyecto_final_henry\\Lib\\site-packages\\pandas\\core\\base.py:1164\u001b[0m, in \u001b[0;36mIndexOpsMixin.factorize\u001b[1;34m(self, sort, use_na_sentinel)\u001b[0m\n\u001b[0;32m   1146\u001b[0m \u001b[39m@doc\u001b[39m(\n\u001b[0;32m   1147\u001b[0m     algorithms\u001b[39m.\u001b[39mfactorize,\n\u001b[0;32m   1148\u001b[0m     values\u001b[39m=\u001b[39m\u001b[39m\"\u001b[39m\u001b[39m\"\u001b[39m,\n\u001b[1;32m   (...)\u001b[0m\n\u001b[0;32m   1162\u001b[0m     use_na_sentinel: \u001b[39mbool\u001b[39m \u001b[39m=\u001b[39m \u001b[39mTrue\u001b[39;00m,\n\u001b[0;32m   1163\u001b[0m ) \u001b[39m-\u001b[39m\u001b[39m>\u001b[39m \u001b[39mtuple\u001b[39m[npt\u001b[39m.\u001b[39mNDArray[np\u001b[39m.\u001b[39mintp], Index]:\n\u001b[1;32m-> 1164\u001b[0m     codes, uniques \u001b[39m=\u001b[39m algorithms\u001b[39m.\u001b[39;49mfactorize(\n\u001b[0;32m   1165\u001b[0m         \u001b[39mself\u001b[39;49m\u001b[39m.\u001b[39;49m_values, sort\u001b[39m=\u001b[39;49msort, use_na_sentinel\u001b[39m=\u001b[39;49muse_na_sentinel\n\u001b[0;32m   1166\u001b[0m     )\n\u001b[0;32m   1167\u001b[0m     \u001b[39mif\u001b[39;00m uniques\u001b[39m.\u001b[39mdtype \u001b[39m==\u001b[39m np\u001b[39m.\u001b[39mfloat16:\n\u001b[0;32m   1168\u001b[0m         uniques \u001b[39m=\u001b[39m uniques\u001b[39m.\u001b[39mastype(np\u001b[39m.\u001b[39mfloat32)\n",
      "File \u001b[1;32mc:\\Users\\Edwar\\OneDrive\\Educacion\\Soy Henry\\Proyecto Final\\proyecto_final_henry\\Lib\\site-packages\\pandas\\core\\algorithms.py:779\u001b[0m, in \u001b[0;36mfactorize\u001b[1;34m(values, sort, use_na_sentinel, size_hint)\u001b[0m\n\u001b[0;32m    776\u001b[0m             \u001b[39m# Don't modify (potentially user-provided) array\u001b[39;00m\n\u001b[0;32m    777\u001b[0m             values \u001b[39m=\u001b[39m np\u001b[39m.\u001b[39mwhere(null_mask, na_value, values)\n\u001b[1;32m--> 779\u001b[0m     codes, uniques \u001b[39m=\u001b[39m factorize_array(\n\u001b[0;32m    780\u001b[0m         values,\n\u001b[0;32m    781\u001b[0m         use_na_sentinel\u001b[39m=\u001b[39;49muse_na_sentinel,\n\u001b[0;32m    782\u001b[0m         size_hint\u001b[39m=\u001b[39;49msize_hint,\n\u001b[0;32m    783\u001b[0m     )\n\u001b[0;32m    785\u001b[0m \u001b[39mif\u001b[39;00m sort \u001b[39mand\u001b[39;00m \u001b[39mlen\u001b[39m(uniques) \u001b[39m>\u001b[39m \u001b[39m0\u001b[39m:\n\u001b[0;32m    786\u001b[0m     uniques, codes \u001b[39m=\u001b[39m safe_sort(\n\u001b[0;32m    787\u001b[0m         uniques,\n\u001b[0;32m    788\u001b[0m         codes,\n\u001b[1;32m   (...)\u001b[0m\n\u001b[0;32m    791\u001b[0m         verify\u001b[39m=\u001b[39m\u001b[39mFalse\u001b[39;00m,\n\u001b[0;32m    792\u001b[0m     )\n",
      "File \u001b[1;32mc:\\Users\\Edwar\\OneDrive\\Educacion\\Soy Henry\\Proyecto Final\\proyecto_final_henry\\Lib\\site-packages\\pandas\\core\\algorithms.py:580\u001b[0m, in \u001b[0;36mfactorize_array\u001b[1;34m(values, use_na_sentinel, size_hint, na_value, mask)\u001b[0m\n\u001b[0;32m    577\u001b[0m hash_klass, values \u001b[39m=\u001b[39m _get_hashtable_algo(values)\n\u001b[0;32m    579\u001b[0m table \u001b[39m=\u001b[39m hash_klass(size_hint \u001b[39mor\u001b[39;00m \u001b[39mlen\u001b[39m(values))\n\u001b[1;32m--> 580\u001b[0m uniques, codes \u001b[39m=\u001b[39m table\u001b[39m.\u001b[39;49mfactorize(\n\u001b[0;32m    581\u001b[0m     values,\n\u001b[0;32m    582\u001b[0m     na_sentinel\u001b[39m=\u001b[39;49m\u001b[39m-\u001b[39;49m\u001b[39m1\u001b[39;49m,\n\u001b[0;32m    583\u001b[0m     na_value\u001b[39m=\u001b[39;49mna_value,\n\u001b[0;32m    584\u001b[0m     mask\u001b[39m=\u001b[39;49mmask,\n\u001b[0;32m    585\u001b[0m     ignore_na\u001b[39m=\u001b[39;49muse_na_sentinel,\n\u001b[0;32m    586\u001b[0m )\n\u001b[0;32m    588\u001b[0m \u001b[39m# re-cast e.g. i8->dt64/td64, uint8->bool\u001b[39;00m\n\u001b[0;32m    589\u001b[0m uniques \u001b[39m=\u001b[39m _reconstruct_data(uniques, original\u001b[39m.\u001b[39mdtype, original)\n",
      "\u001b[1;31mKeyboardInterrupt\u001b[0m: "
     ]
    },
    {
     "data": {
      "image/png": "[encoded data removed]",
      "text/plain": [
       "<Figure size 500x500 with 1 Axes>"
      ]
     },
     "metadata": {},
     "output_type": "display_data"
    }
   ],
   "source": [
    "\n",
    "def magnitud_region(pais):\n",
    "    \n",
    "    return sns.displot(pais, x=\"magnitude\",hue='place',multiple=\"stack\",kde=True,palette=sns.color_palette('bright')[:13])\n",
    "\n",
    "magnitud_region(eeuu)"
   ]
  },
  {
   "attachments": {},
   "cell_type": "markdown",
   "metadata": {},
   "source": [
    "Eliminar variable __place__."
   ]
  },
  {
   "cell_type": "code",
   "execution_count": 67,
   "metadata": {},
   "outputs": [],
   "source": [
    "eeuu.drop('place', axis='columns', inplace=True)"
   ]
  },
  {
   "attachments": {},
   "cell_type": "markdown",
   "metadata": {},
   "source": [
    "Ordenar variables."
   ]
  },
  {
   "cell_type": "code",
   "execution_count": 68,
   "metadata": {},
   "outputs": [],
   "source": [
    "def ordenar_vaiables(pais):\n",
    "\n",
    "    pais = pais[['date','time',\t'magnitude','depth','latitude','longitude']]\n",
    "    return pais\n",
    "\n",
    "eeuu = ordenar_vaiables(eeuu)"
   ]
  },
  {
   "cell_type": "code",
   "execution_count": 69,
   "metadata": {},
   "outputs": [
    {
     "data": {
      "text/html": [
       "<div>\n",
       "<style scoped>\n",
       "    .dataframe tbody tr th:only-of-type {\n",
       "        vertical-align: middle;\n",
       "    }\n",
       "\n",
       "    .dataframe tbody tr th {\n",
       "        vertical-align: top;\n",
       "    }\n",
       "\n",
       "    .dataframe thead th {\n",
       "        text-align: right;\n",
       "    }\n",
       "</style>\n",
       "<table border=\"1\" class=\"dataframe\">\n",
       "  <thead>\n",
       "    <tr style=\"text-align: right;\">\n",
       "      <th></th>\n",
       "      <th>date</th>\n",
       "      <th>time</th>\n",
       "      <th>magnitude</th>\n",
       "      <th>depth</th>\n",
       "      <th>latitude</th>\n",
       "      <th>longitude</th>\n",
       "    </tr>\n",
       "  </thead>\n",
       "  <tbody>\n",
       "    <tr>\n",
       "      <th>10947</th>\n",
       "      <td>2023-05-11</td>\n",
       "      <td>20:30:17</td>\n",
       "      <td>2.57</td>\n",
       "      <td>6.64</td>\n",
       "      <td>40.212500</td>\n",
       "      <td>-121.086500</td>\n",
       "    </tr>\n",
       "    <tr>\n",
       "      <th>10948</th>\n",
       "      <td>2023-05-11</td>\n",
       "      <td>20:34:53</td>\n",
       "      <td>2.43</td>\n",
       "      <td>3.36</td>\n",
       "      <td>40.205667</td>\n",
       "      <td>-121.117500</td>\n",
       "    </tr>\n",
       "    <tr>\n",
       "      <th>10949</th>\n",
       "      <td>2023-05-11</td>\n",
       "      <td>20:38:30</td>\n",
       "      <td>2.66</td>\n",
       "      <td>7.39</td>\n",
       "      <td>40.204167</td>\n",
       "      <td>-121.106167</td>\n",
       "    </tr>\n",
       "    <tr>\n",
       "      <th>10950</th>\n",
       "      <td>2023-05-11</td>\n",
       "      <td>20:45:15</td>\n",
       "      <td>2.51</td>\n",
       "      <td>5.58</td>\n",
       "      <td>40.222000</td>\n",
       "      <td>-121.161833</td>\n",
       "    </tr>\n",
       "    <tr>\n",
       "      <th>10951</th>\n",
       "      <td>2023-05-11</td>\n",
       "      <td>20:49:15</td>\n",
       "      <td>2.20</td>\n",
       "      <td>6.04</td>\n",
       "      <td>37.990000</td>\n",
       "      <td>-118.663833</td>\n",
       "    </tr>\n",
       "  </tbody>\n",
       "</table>\n",
       "</div>"
      ],
      "text/plain": [
       "             date      time  magnitude  depth   latitude   longitude\n",
       "10947  2023-05-11  20:30:17       2.57   6.64  40.212500 -121.086500\n",
       "10948  2023-05-11  20:34:53       2.43   3.36  40.205667 -121.117500\n",
       "10949  2023-05-11  20:38:30       2.66   7.39  40.204167 -121.106167\n",
       "10950  2023-05-11  20:45:15       2.51   5.58  40.222000 -121.161833\n",
       "10951  2023-05-11  20:49:15       2.20   6.04  37.990000 -118.663833"
      ]
     },
     "execution_count": 69,
     "metadata": {},
     "output_type": "execute_result"
    }
   ],
   "source": [
    "eeuu.tail()"
   ]
  },
  {
   "attachments": {},
   "cell_type": "markdown",
   "metadata": {},
   "source": [
    "Convertir data frame a json."
   ]
  },
  {
   "attachments": {},
   "cell_type": "markdown",
   "metadata": {},
   "source": [
    "Formatear __date__ a strange."
   ]
  },
  {
   "cell_type": "code",
   "execution_count": 70,
   "metadata": {},
   "outputs": [
    {
     "data": {
      "text/html": [
       "<div>\n",
       "<style scoped>\n",
       "    .dataframe tbody tr th:only-of-type {\n",
       "        vertical-align: middle;\n",
       "    }\n",
       "\n",
       "    .dataframe tbody tr th {\n",
       "        vertical-align: top;\n",
       "    }\n",
       "\n",
       "    .dataframe thead th {\n",
       "        text-align: right;\n",
       "    }\n",
       "</style>\n",
       "<table border=\"1\" class=\"dataframe\">\n",
       "  <thead>\n",
       "    <tr style=\"text-align: right;\">\n",
       "      <th></th>\n",
       "      <th>date</th>\n",
       "      <th>time</th>\n",
       "      <th>magnitude</th>\n",
       "      <th>depth</th>\n",
       "      <th>latitude</th>\n",
       "      <th>longitude</th>\n",
       "    </tr>\n",
       "  </thead>\n",
       "  <tbody>\n",
       "    <tr>\n",
       "      <th>0</th>\n",
       "      <td>2022-12-31</td>\n",
       "      <td>22:00:24</td>\n",
       "      <td>1.93</td>\n",
       "      <td>6.66</td>\n",
       "      <td>34.401500</td>\n",
       "      <td>-118.712500</td>\n",
       "    </tr>\n",
       "    <tr>\n",
       "      <th>1</th>\n",
       "      <td>2022-12-31</td>\n",
       "      <td>23:10:25</td>\n",
       "      <td>1.00</td>\n",
       "      <td>6.70</td>\n",
       "      <td>33.012833</td>\n",
       "      <td>-116.428667</td>\n",
       "    </tr>\n",
       "    <tr>\n",
       "      <th>2</th>\n",
       "      <td>2022-12-31</td>\n",
       "      <td>23:12:57</td>\n",
       "      <td>2.50</td>\n",
       "      <td>10.00</td>\n",
       "      <td>44.369500</td>\n",
       "      <td>-115.200800</td>\n",
       "    </tr>\n",
       "    <tr>\n",
       "      <th>3</th>\n",
       "      <td>2022-12-31</td>\n",
       "      <td>23:18:25</td>\n",
       "      <td>1.18</td>\n",
       "      <td>3.63</td>\n",
       "      <td>33.400500</td>\n",
       "      <td>-116.384500</td>\n",
       "    </tr>\n",
       "    <tr>\n",
       "      <th>4</th>\n",
       "      <td>2023-01-01</td>\n",
       "      <td>00:01:30</td>\n",
       "      <td>1.04</td>\n",
       "      <td>2.51</td>\n",
       "      <td>38.789001</td>\n",
       "      <td>-122.761498</td>\n",
       "    </tr>\n",
       "    <tr>\n",
       "      <th>...</th>\n",
       "      <td>...</td>\n",
       "      <td>...</td>\n",
       "      <td>...</td>\n",
       "      <td>...</td>\n",
       "      <td>...</td>\n",
       "      <td>...</td>\n",
       "    </tr>\n",
       "    <tr>\n",
       "      <th>10947</th>\n",
       "      <td>2023-05-11</td>\n",
       "      <td>20:30:17</td>\n",
       "      <td>2.57</td>\n",
       "      <td>6.64</td>\n",
       "      <td>40.212500</td>\n",
       "      <td>-121.086500</td>\n",
       "    </tr>\n",
       "    <tr>\n",
       "      <th>10948</th>\n",
       "      <td>2023-05-11</td>\n",
       "      <td>20:34:53</td>\n",
       "      <td>2.43</td>\n",
       "      <td>3.36</td>\n",
       "      <td>40.205667</td>\n",
       "      <td>-121.117500</td>\n",
       "    </tr>\n",
       "    <tr>\n",
       "      <th>10949</th>\n",
       "      <td>2023-05-11</td>\n",
       "      <td>20:38:30</td>\n",
       "      <td>2.66</td>\n",
       "      <td>7.39</td>\n",
       "      <td>40.204167</td>\n",
       "      <td>-121.106167</td>\n",
       "    </tr>\n",
       "    <tr>\n",
       "      <th>10950</th>\n",
       "      <td>2023-05-11</td>\n",
       "      <td>20:45:15</td>\n",
       "      <td>2.51</td>\n",
       "      <td>5.58</td>\n",
       "      <td>40.222000</td>\n",
       "      <td>-121.161833</td>\n",
       "    </tr>\n",
       "    <tr>\n",
       "      <th>10951</th>\n",
       "      <td>2023-05-11</td>\n",
       "      <td>20:49:15</td>\n",
       "      <td>2.20</td>\n",
       "      <td>6.04</td>\n",
       "      <td>37.990000</td>\n",
       "      <td>-118.663833</td>\n",
       "    </tr>\n",
       "  </tbody>\n",
       "</table>\n",
       "<p>10952 rows × 6 columns</p>\n",
       "</div>"
      ],
      "text/plain": [
       "             date      time  magnitude  depth   latitude   longitude\n",
       "0      2022-12-31  22:00:24       1.93   6.66  34.401500 -118.712500\n",
       "1      2022-12-31  23:10:25       1.00   6.70  33.012833 -116.428667\n",
       "2      2022-12-31  23:12:57       2.50  10.00  44.369500 -115.200800\n",
       "3      2022-12-31  23:18:25       1.18   3.63  33.400500 -116.384500\n",
       "4      2023-01-01  00:01:30       1.04   2.51  38.789001 -122.761498\n",
       "...           ...       ...        ...    ...        ...         ...\n",
       "10947  2023-05-11  20:30:17       2.57   6.64  40.212500 -121.086500\n",
       "10948  2023-05-11  20:34:53       2.43   3.36  40.205667 -121.117500\n",
       "10949  2023-05-11  20:38:30       2.66   7.39  40.204167 -121.106167\n",
       "10950  2023-05-11  20:45:15       2.51   5.58  40.222000 -121.161833\n",
       "10951  2023-05-11  20:49:15       2.20   6.04  37.990000 -118.663833\n",
       "\n",
       "[10952 rows x 6 columns]"
      ]
     },
     "execution_count": 70,
     "metadata": {},
     "output_type": "execute_result"
    }
   ],
   "source": [
    "def crear_variables_time(pais):\n",
    "    \n",
    "    \n",
    "    pais['date'] = pais['date'].apply(lambda x: str(x))\n",
    "\n",
    "    return pais\n",
    "\n",
    "crear_variables_time(eeuu)"
   ]
  },
  {
   "cell_type": "code",
   "execution_count": 71,
   "metadata": {},
   "outputs": [],
   "source": [
    "eeuu_json = eeuu.to_json(orient = 'records')"
   ]
  },
  {
   "attachments": {},
   "cell_type": "markdown",
   "metadata": {},
   "source": [
    "Guardar datos en un archivo json."
   ]
  },
  {
   "cell_type": "code",
   "execution_count": 72,
   "metadata": {},
   "outputs": [],
   "source": [
    "with open('datos_eeuu.json', 'w') as f:\n",
    "    f.write(eeuu_json)"
   ]
  }
 ],
 "metadata": {
  "kernelspec": {
   "display_name": "proyecto_final_henry",
   "language": "python",
   "name": "python3"
  },
  "language_info": {
   "codemirror_mode": {
    "name": "ipython",
    "version": 3
   },
   "file_extension": ".py",
   "mimetype": "text/x-python",
   "name": "python",
   "nbconvert_exporter": "python",
   "pygments_lexer": "ipython3",
   "version": "3.11.1"
  },
  "orig_nbformat": 4
 },
 "nbformat": 4,
 "nbformat_minor": 2
}
