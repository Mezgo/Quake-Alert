{
 "cells": [
  {
   "attachments": {},
   "cell_type": "markdown",
   "metadata": {},
   "source": [
    "Importar librerias."
   ]
  },
  {
   "cell_type": "code",
   "execution_count": 2,
   "metadata": {},
   "outputs": [
    {
     "data": {
      "text/plain": [
       "'from selenium import webdriver\\nfrom bs4 import BeautifulSoup\\nfrom selenium import webdriver\\nfrom selenium.webdriver.common.by import By\\nfrom selenium.webdriver.support.ui import WebDriverWait\\nfrom selenium.webdriver.support import expected_conditions as EC'"
      ]
     },
     "execution_count": 2,
     "metadata": {},
     "output_type": "execute_result"
    }
   ],
   "source": [
    "import pandas as pd\n",
    "import time\n",
    "\"\"\"from selenium import webdriver\n",
    "from bs4 import BeautifulSoup\n",
    "from selenium import webdriver\n",
    "from selenium.webdriver.common.by import By\n",
    "from selenium.webdriver.support.ui import WebDriverWait\n",
    "from selenium.webdriver.support import expected_conditions as EC\"\"\""
   ]
  },
  {
   "attachments": {},
   "cell_type": "markdown",
   "metadata": {},
   "source": [
    "## \"Estados Unidos.\""
   ]
  },
  {
   "attachments": {},
   "cell_type": "markdown",
   "metadata": {},
   "source": [
    "Los datos demograficos se descargaron a través de [geo_ref](http://www.geo-ref.net/sp/chl.htm)."
   ]
  },
  {
   "cell_type": "code",
   "execution_count": 12,
   "metadata": {},
   "outputs": [],
   "source": [
    "eeuu = pd.read_csv(r'datos_demograficos_eeuu.csv')"
   ]
  },
  {
   "attachments": {},
   "cell_type": "markdown",
   "metadata": {},
   "source": [
    "Visualizar tabla. No existen datos faltantes, valores nulos."
   ]
  },
  {
   "cell_type": "code",
   "execution_count": 13,
   "metadata": {},
   "outputs": [
    {
     "data": {
      "text/html": [
       "<div>\n",
       "<style scoped>\n",
       "    .dataframe tbody tr th:only-of-type {\n",
       "        vertical-align: middle;\n",
       "    }\n",
       "\n",
       "    .dataframe tbody tr th {\n",
       "        vertical-align: top;\n",
       "    }\n",
       "\n",
       "    .dataframe thead th {\n",
       "        text-align: right;\n",
       "    }\n",
       "</style>\n",
       "<table border=\"1\" class=\"dataframe\">\n",
       "  <thead>\n",
       "    <tr style=\"text-align: right;\">\n",
       "      <th></th>\n",
       "      <th>region</th>\n",
       "      <th>codigo_region</th>\n",
       "      <th>capital</th>\n",
       "      <th>area</th>\n",
       "      <th>poblacion</th>\n",
       "      <th>densidad_poblacion</th>\n",
       "    </tr>\n",
       "  </thead>\n",
       "  <tbody>\n",
       "    <tr>\n",
       "      <th>0</th>\n",
       "      <td>Alabama</td>\n",
       "      <td>US-AL</td>\n",
       "      <td>Montgomery</td>\n",
       "      <td>135 767</td>\n",
       "      <td>5 039 877</td>\n",
       "      <td>37,1</td>\n",
       "    </tr>\n",
       "    <tr>\n",
       "      <th>1</th>\n",
       "      <td>Alaska</td>\n",
       "      <td>US-AK</td>\n",
       "      <td>Juneau</td>\n",
       "      <td>1 723 337</td>\n",
       "      <td>732 673</td>\n",
       "      <td>0,4</td>\n",
       "    </tr>\n",
       "    <tr>\n",
       "      <th>2</th>\n",
       "      <td>Arizona</td>\n",
       "      <td>US-AZ</td>\n",
       "      <td>Phoenix</td>\n",
       "      <td>295 234</td>\n",
       "      <td>7 276 316</td>\n",
       "      <td>24,6</td>\n",
       "    </tr>\n",
       "    <tr>\n",
       "      <th>3</th>\n",
       "      <td>Arkansas</td>\n",
       "      <td>US-AR</td>\n",
       "      <td>Little Rock</td>\n",
       "      <td>137 732</td>\n",
       "      <td>3 025 891</td>\n",
       "      <td>22,0</td>\n",
       "    </tr>\n",
       "    <tr>\n",
       "      <th>4</th>\n",
       "      <td>California</td>\n",
       "      <td>US-CA</td>\n",
       "      <td>Sacramento</td>\n",
       "      <td>423 967</td>\n",
       "      <td>39 237 836</td>\n",
       "      <td>92,5</td>\n",
       "    </tr>\n",
       "    <tr>\n",
       "      <th>5</th>\n",
       "      <td>Colorado</td>\n",
       "      <td>US-CO</td>\n",
       "      <td>Denver</td>\n",
       "      <td>269 601</td>\n",
       "      <td>5 812 069</td>\n",
       "      <td>21,6</td>\n",
       "    </tr>\n",
       "    <tr>\n",
       "      <th>6</th>\n",
       "      <td>Connecticut</td>\n",
       "      <td>US-CT</td>\n",
       "      <td>Hartford</td>\n",
       "      <td>14 357</td>\n",
       "      <td>3 605 597</td>\n",
       "      <td>251,1</td>\n",
       "    </tr>\n",
       "    <tr>\n",
       "      <th>7</th>\n",
       "      <td>Delaware</td>\n",
       "      <td>US-DE</td>\n",
       "      <td>Dover</td>\n",
       "      <td>6 446</td>\n",
       "      <td>1 003 384</td>\n",
       "      <td>155,7</td>\n",
       "    </tr>\n",
       "    <tr>\n",
       "      <th>8</th>\n",
       "      <td>District of Columbia</td>\n",
       "      <td>US-DC</td>\n",
       "      <td>Washington</td>\n",
       "      <td>158,4</td>\n",
       "      <td>670 050</td>\n",
       "      <td>4 230,1</td>\n",
       "    </tr>\n",
       "    <tr>\n",
       "      <th>9</th>\n",
       "      <td>Florida</td>\n",
       "      <td>US-FL</td>\n",
       "      <td>Tallahassee</td>\n",
       "      <td>170 312</td>\n",
       "      <td>21 781 128</td>\n",
       "      <td>127,9</td>\n",
       "    </tr>\n",
       "    <tr>\n",
       "      <th>10</th>\n",
       "      <td>Georgia</td>\n",
       "      <td>US-GA</td>\n",
       "      <td>Atlanta</td>\n",
       "      <td>153 910</td>\n",
       "      <td>10 799 566</td>\n",
       "      <td>70,2</td>\n",
       "    </tr>\n",
       "    <tr>\n",
       "      <th>11</th>\n",
       "      <td>Hawaii</td>\n",
       "      <td>US-HI</td>\n",
       "      <td>Honolulu</td>\n",
       "      <td>28 313</td>\n",
       "      <td>1 441 553</td>\n",
       "      <td>50,9</td>\n",
       "    </tr>\n",
       "    <tr>\n",
       "      <th>12</th>\n",
       "      <td>Idaho</td>\n",
       "      <td>US-ID</td>\n",
       "      <td>Boise</td>\n",
       "      <td>216 643</td>\n",
       "      <td>1 900 923</td>\n",
       "      <td>8,8</td>\n",
       "    </tr>\n",
       "    <tr>\n",
       "      <th>13</th>\n",
       "      <td>Illinois</td>\n",
       "      <td>US-IL</td>\n",
       "      <td>Springfield</td>\n",
       "      <td>149 995</td>\n",
       "      <td>12 671 469</td>\n",
       "      <td>84,5</td>\n",
       "    </tr>\n",
       "    <tr>\n",
       "      <th>14</th>\n",
       "      <td>Indiana</td>\n",
       "      <td>US-IN</td>\n",
       "      <td>Indianapolis</td>\n",
       "      <td>94 326</td>\n",
       "      <td>6 805 985</td>\n",
       "      <td>72,2</td>\n",
       "    </tr>\n",
       "    <tr>\n",
       "      <th>15</th>\n",
       "      <td>Iowa</td>\n",
       "      <td>US-IA</td>\n",
       "      <td>Des Moines</td>\n",
       "      <td>145 746</td>\n",
       "      <td>3 193 079</td>\n",
       "      <td>21,9</td>\n",
       "    </tr>\n",
       "    <tr>\n",
       "      <th>16</th>\n",
       "      <td>Kansas</td>\n",
       "      <td>US-KS</td>\n",
       "      <td>Topeka</td>\n",
       "      <td>213 100</td>\n",
       "      <td>2 934 582</td>\n",
       "      <td>13,8</td>\n",
       "    </tr>\n",
       "    <tr>\n",
       "      <th>17</th>\n",
       "      <td>Kentucky</td>\n",
       "      <td>US-KY</td>\n",
       "      <td>Frankfort</td>\n",
       "      <td>104 656</td>\n",
       "      <td>4 509 394</td>\n",
       "      <td>43,1</td>\n",
       "    </tr>\n",
       "    <tr>\n",
       "      <th>18</th>\n",
       "      <td>Louisiana</td>\n",
       "      <td>US-LA</td>\n",
       "      <td>Baton Rouge</td>\n",
       "      <td>135 659</td>\n",
       "      <td>4 624 047</td>\n",
       "      <td>34,1</td>\n",
       "    </tr>\n",
       "    <tr>\n",
       "      <th>19</th>\n",
       "      <td>Maine</td>\n",
       "      <td>US-ME</td>\n",
       "      <td>Augusta</td>\n",
       "      <td>91 633</td>\n",
       "      <td>1 372 247</td>\n",
       "      <td>15,0</td>\n",
       "    </tr>\n",
       "  </tbody>\n",
       "</table>\n",
       "</div>"
      ],
      "text/plain": [
       "                  region codigo_region       capital       area   poblacion   \n",
       "0                Alabama         US-AL    Montgomery    135 767   5 039 877  \\\n",
       "1                 Alaska         US-AK        Juneau  1 723 337     732 673   \n",
       "2                Arizona         US-AZ       Phoenix    295 234   7 276 316   \n",
       "3               Arkansas         US-AR   Little Rock    137 732   3 025 891   \n",
       "4             California         US-CA    Sacramento    423 967  39 237 836   \n",
       "5               Colorado         US-CO        Denver    269 601   5 812 069   \n",
       "6            Connecticut         US-CT      Hartford     14 357   3 605 597   \n",
       "7               Delaware         US-DE         Dover      6 446   1 003 384   \n",
       "8   District of Columbia         US-DC    Washington      158,4     670 050   \n",
       "9                Florida         US-FL   Tallahassee    170 312  21 781 128   \n",
       "10               Georgia         US-GA       Atlanta    153 910  10 799 566   \n",
       "11                Hawaii         US-HI      Honolulu     28 313   1 441 553   \n",
       "12                 Idaho         US-ID         Boise    216 643   1 900 923   \n",
       "13              Illinois         US-IL   Springfield    149 995  12 671 469   \n",
       "14               Indiana         US-IN  Indianapolis     94 326   6 805 985   \n",
       "15                  Iowa         US-IA    Des Moines    145 746   3 193 079   \n",
       "16                Kansas         US-KS        Topeka    213 100   2 934 582   \n",
       "17              Kentucky         US-KY     Frankfort    104 656   4 509 394   \n",
       "18             Louisiana         US-LA   Baton Rouge    135 659   4 624 047   \n",
       "19                 Maine         US-ME       Augusta     91 633   1 372 247   \n",
       "\n",
       "   densidad_poblacion  \n",
       "0                37,1  \n",
       "1                 0,4  \n",
       "2                24,6  \n",
       "3                22,0  \n",
       "4                92,5  \n",
       "5                21,6  \n",
       "6               251,1  \n",
       "7               155,7  \n",
       "8             4 230,1  \n",
       "9               127,9  \n",
       "10               70,2  \n",
       "11               50,9  \n",
       "12                8,8  \n",
       "13               84,5  \n",
       "14               72,2  \n",
       "15               21,9  \n",
       "16               13,8  \n",
       "17               43,1  \n",
       "18               34,1  \n",
       "19               15,0  "
      ]
     },
     "execution_count": 13,
     "metadata": {},
     "output_type": "execute_result"
    }
   ],
   "source": [
    "eeuu.head(20)"
   ]
  },
  {
   "attachments": {},
   "cell_type": "markdown",
   "metadata": {},
   "source": [
    "_Transformacion_."
   ]
  },
  {
   "attachments": {},
   "cell_type": "markdown",
   "metadata": {},
   "source": [
    "Reemplazar puntos y comas en las variables __area__, __poblacion__ y __densidad__."
   ]
  },
  {
   "cell_type": "code",
   "execution_count": 14,
   "metadata": {},
   "outputs": [],
   "source": [
    "eeuu['area'] = eeuu.area.str.replace(' ','')\n",
    "eeuu['poblacion'] = eeuu.poblacion.str.replace(' ','')\n",
    "eeuu['densidad_poblacion'] = eeuu.densidad_poblacion.str.replace(',','.')\n",
    "eeuu['area'] = eeuu.area.str.replace(',','.')\n",
    "eeuu['densidad_poblacion'] = eeuu.densidad_poblacion.str.replace(' ','')"
   ]
  },
  {
   "attachments": {},
   "cell_type": "markdown",
   "metadata": {},
   "source": [
    "Analizar formato."
   ]
  },
  {
   "cell_type": "code",
   "execution_count": 17,
   "metadata": {},
   "outputs": [
    {
     "name": "stdout",
     "output_type": "stream",
     "text": [
      "<class 'pandas.core.frame.DataFrame'>\n",
      "RangeIndex: 51 entries, 0 to 50\n",
      "Data columns (total 6 columns):\n",
      " #   Column              Non-Null Count  Dtype  \n",
      "---  ------              --------------  -----  \n",
      " 0   region              51 non-null     object \n",
      " 1   codigo_region       51 non-null     object \n",
      " 2   capital             51 non-null     object \n",
      " 3   area                51 non-null     float64\n",
      " 4   poblacion           51 non-null     int64  \n",
      " 5   densidad_poblacion  51 non-null     float64\n",
      "dtypes: float64(2), int64(1), object(3)\n",
      "memory usage: 2.5+ KB\n"
     ]
    }
   ],
   "source": [
    "eeuu.info()"
   ]
  },
  {
   "attachments": {},
   "cell_type": "markdown",
   "metadata": {},
   "source": [
    "Cambiar formato."
   ]
  },
  {
   "cell_type": "code",
   "execution_count": 16,
   "metadata": {},
   "outputs": [],
   "source": [
    "def cambiar_formato(pais):\n",
    "    \n",
    "    pais['area'] = pais['area'].apply(lambda x: float(x))\n",
    "    pais['poblacion'] = pais['poblacion'].apply(lambda x: int(x))\n",
    "    pais['densidad_poblacion'] = pais['densidad_poblacion'].apply(lambda x: float(x))\n",
    "\n",
    "    return pais\n",
    "\n",
    "eeuu = cambiar_formato(eeuu)"
   ]
  },
  {
   "attachments": {},
   "cell_type": "markdown",
   "metadata": {},
   "source": [
    "Guardar datos en un archivo json."
   ]
  },
  {
   "cell_type": "code",
   "execution_count": 19,
   "metadata": {},
   "outputs": [],
   "source": [
    "eeuu_json = eeuu.to_json(orient = 'records')\n",
    "with open('datos_demograficos_eeuu_etl.json', 'w') as f:\n",
    "    f.write(eeuu_json)"
   ]
  }
 ],
 "metadata": {
  "kernelspec": {
   "display_name": "proyecto_final_henry",
   "language": "python",
   "name": "python3"
  },
  "language_info": {
   "codemirror_mode": {
    "name": "ipython",
    "version": 3
   },
   "file_extension": ".py",
   "mimetype": "text/x-python",
   "name": "python",
   "nbconvert_exporter": "python",
   "pygments_lexer": "ipython3",
   "version": "3.11.1"
  },
  "orig_nbformat": 4
 },
 "nbformat": 4,
 "nbformat_minor": 2
}
