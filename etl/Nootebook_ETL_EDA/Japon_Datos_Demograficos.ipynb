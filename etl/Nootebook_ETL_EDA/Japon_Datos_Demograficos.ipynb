{
 "cells": [
  {
   "attachments": {},
   "cell_type": "markdown",
   "metadata": {},
   "source": [
    "Importar librerias."
   ]
  },
  {
   "attachments": {},
   "cell_type": "markdown",
   "metadata": {},
   "source": [
    "## \"Japón.\""
   ]
  },
  {
   "cell_type": "code",
   "execution_count": 1,
   "metadata": {},
   "outputs": [
    {
     "data": {
      "text/plain": [
       "'from selenium import webdriver\\nfrom bs4 import BeautifulSoup\\nfrom selenium import webdriver\\nfrom selenium.webdriver.common.by import By\\nfrom selenium.webdriver.support.ui import WebDriverWait\\nfrom selenium.webdriver.support import expected_conditions as EC'"
      ]
     },
     "execution_count": 1,
     "metadata": {},
     "output_type": "execute_result"
    }
   ],
   "source": [
    "import pandas as pd\n",
    "import time\n",
    "\"\"\"from selenium import webdriver\n",
    "from bs4 import BeautifulSoup\n",
    "from selenium import webdriver\n",
    "from selenium.webdriver.common.by import By\n",
    "from selenium.webdriver.support.ui import WebDriverWait\n",
    "from selenium.webdriver.support import expected_conditions as EC\"\"\""
   ]
  },
  {
   "attachments": {},
   "cell_type": "markdown",
   "metadata": {},
   "source": [
    "Los datos demograficos se descargaron a través de [geo_ref](http://www.geo-ref.net/sp/chl.htm)."
   ]
  },
  {
   "cell_type": "code",
   "execution_count": 2,
   "metadata": {},
   "outputs": [],
   "source": [
    "japon = pd.read_csv(r'datos_demograficos_japon.csv')"
   ]
  },
  {
   "attachments": {},
   "cell_type": "markdown",
   "metadata": {},
   "source": [
    "Visualizar tabla. No existen datos faltantes, valores nulos."
   ]
  },
  {
   "cell_type": "code",
   "execution_count": 3,
   "metadata": {},
   "outputs": [
    {
     "data": {
      "text/html": [
       "<div>\n",
       "<style scoped>\n",
       "    .dataframe tbody tr th:only-of-type {\n",
       "        vertical-align: middle;\n",
       "    }\n",
       "\n",
       "    .dataframe tbody tr th {\n",
       "        vertical-align: top;\n",
       "    }\n",
       "\n",
       "    .dataframe thead th {\n",
       "        text-align: right;\n",
       "    }\n",
       "</style>\n",
       "<table border=\"1\" class=\"dataframe\">\n",
       "  <thead>\n",
       "    <tr style=\"text-align: right;\">\n",
       "      <th></th>\n",
       "      <th>prefectura</th>\n",
       "      <th>codigo_region</th>\n",
       "      <th>region</th>\n",
       "      <th>capital</th>\n",
       "      <th>area</th>\n",
       "      <th>poblacion</th>\n",
       "      <th>densidad_poblacion</th>\n",
       "    </tr>\n",
       "  </thead>\n",
       "  <tbody>\n",
       "    <tr>\n",
       "      <th>0</th>\n",
       "      <td>Aichi</td>\n",
       "      <td>JP-23</td>\n",
       "      <td>Chubu</td>\n",
       "      <td>Nagoya</td>\n",
       "      <td>5 153,8</td>\n",
       "      <td>7 542 415</td>\n",
       "      <td>1 463,5</td>\n",
       "    </tr>\n",
       "    <tr>\n",
       "      <th>1</th>\n",
       "      <td>Akita</td>\n",
       "      <td>JP-05</td>\n",
       "      <td>Tohoku</td>\n",
       "      <td>Akita (city)</td>\n",
       "      <td>11 612,2</td>\n",
       "      <td>959 502</td>\n",
       "      <td>82,6</td>\n",
       "    </tr>\n",
       "    <tr>\n",
       "      <th>2</th>\n",
       "      <td>Aomori</td>\n",
       "      <td>JP-02</td>\n",
       "      <td>Tohoku</td>\n",
       "      <td>Aomori (city)</td>\n",
       "      <td>9 606,3</td>\n",
       "      <td>1 237 984</td>\n",
       "      <td>128,9</td>\n",
       "    </tr>\n",
       "    <tr>\n",
       "      <th>3</th>\n",
       "      <td>Chiba</td>\n",
       "      <td>JP-12</td>\n",
       "      <td>Kanto</td>\n",
       "      <td>Chiba</td>\n",
       "      <td>5 156,2</td>\n",
       "      <td>6 284 480</td>\n",
       "      <td>1 218,8</td>\n",
       "    </tr>\n",
       "    <tr>\n",
       "      <th>4</th>\n",
       "      <td>Ehime</td>\n",
       "      <td>JP-38</td>\n",
       "      <td>Shikoku</td>\n",
       "      <td>Matsuyama</td>\n",
       "      <td>5 676,4</td>\n",
       "      <td>1 334 841</td>\n",
       "      <td>235,2</td>\n",
       "    </tr>\n",
       "    <tr>\n",
       "      <th>5</th>\n",
       "      <td>Fukui</td>\n",
       "      <td>JP-18</td>\n",
       "      <td>Chubu</td>\n",
       "      <td>Fukui</td>\n",
       "      <td>4 189,0</td>\n",
       "      <td>766 863</td>\n",
       "      <td>183,1</td>\n",
       "    </tr>\n",
       "    <tr>\n",
       "      <th>6</th>\n",
       "      <td>Fukuoka</td>\n",
       "      <td>JP-40</td>\n",
       "      <td>Kyushu</td>\n",
       "      <td>Fukuoka</td>\n",
       "      <td>4 971,0</td>\n",
       "      <td>5 135 214</td>\n",
       "      <td>1 033,0</td>\n",
       "    </tr>\n",
       "    <tr>\n",
       "      <th>7</th>\n",
       "      <td>Fukushima</td>\n",
       "      <td>JP-07</td>\n",
       "      <td>Tohoku</td>\n",
       "      <td>Fukushima (city)</td>\n",
       "      <td>13 782,5</td>\n",
       "      <td>1 833 152</td>\n",
       "      <td>133,0</td>\n",
       "    </tr>\n",
       "    <tr>\n",
       "      <th>8</th>\n",
       "      <td>Gifu</td>\n",
       "      <td>JP-21</td>\n",
       "      <td>Chubu</td>\n",
       "      <td>Gifu</td>\n",
       "      <td>10 621,2</td>\n",
       "      <td>1 978 742</td>\n",
       "      <td>186,3</td>\n",
       "    </tr>\n",
       "    <tr>\n",
       "      <th>9</th>\n",
       "      <td>Gunma</td>\n",
       "      <td>JP-10</td>\n",
       "      <td>Kanto</td>\n",
       "      <td>Maebashi</td>\n",
       "      <td>6 363,2</td>\n",
       "      <td>1 939 110</td>\n",
       "      <td>304,7</td>\n",
       "    </tr>\n",
       "    <tr>\n",
       "      <th>10</th>\n",
       "      <td>Hiroshima</td>\n",
       "      <td>JP-34</td>\n",
       "      <td>Chugoku</td>\n",
       "      <td>Hiroshima</td>\n",
       "      <td>8 477,0</td>\n",
       "      <td>2 799 702</td>\n",
       "      <td>330,3</td>\n",
       "    </tr>\n",
       "    <tr>\n",
       "      <th>11</th>\n",
       "      <td>Hokkaido</td>\n",
       "      <td>JP-01</td>\n",
       "      <td>Hokkaido</td>\n",
       "      <td>Sapporo</td>\n",
       "      <td>83 453,6</td>\n",
       "      <td>5 224 614</td>\n",
       "      <td>62,6</td>\n",
       "    </tr>\n",
       "    <tr>\n",
       "      <th>12</th>\n",
       "      <td>Hyogo</td>\n",
       "      <td>JP-28</td>\n",
       "      <td>Kansai</td>\n",
       "      <td>Kobe</td>\n",
       "      <td>8 396,1</td>\n",
       "      <td>5 465 002</td>\n",
       "      <td>650,9</td>\n",
       "    </tr>\n",
       "    <tr>\n",
       "      <th>13</th>\n",
       "      <td>Ibaraki</td>\n",
       "      <td>JP-08</td>\n",
       "      <td>Kanto</td>\n",
       "      <td>Mito</td>\n",
       "      <td>6 095,6</td>\n",
       "      <td>2 867 009</td>\n",
       "      <td>470,3</td>\n",
       "    </tr>\n",
       "    <tr>\n",
       "      <th>14</th>\n",
       "      <td>Ishikawa</td>\n",
       "      <td>JP-17</td>\n",
       "      <td>Chubu, Hokuriku</td>\n",
       "      <td>Kanazawa</td>\n",
       "      <td>4 185,2</td>\n",
       "      <td>1 132 526</td>\n",
       "      <td>270,6</td>\n",
       "    </tr>\n",
       "    <tr>\n",
       "      <th>15</th>\n",
       "      <td>Iwate</td>\n",
       "      <td>JP-03</td>\n",
       "      <td>Tohoku</td>\n",
       "      <td>Morioka</td>\n",
       "      <td>15 278,4</td>\n",
       "      <td>1 210 534</td>\n",
       "      <td>79,2</td>\n",
       "    </tr>\n",
       "    <tr>\n",
       "      <th>16</th>\n",
       "      <td>Kagawa</td>\n",
       "      <td>JP-37</td>\n",
       "      <td>Shikoku</td>\n",
       "      <td>Takamatsu</td>\n",
       "      <td>1 861,7</td>\n",
       "      <td>950 244</td>\n",
       "      <td>510,4</td>\n",
       "    </tr>\n",
       "    <tr>\n",
       "      <th>17</th>\n",
       "      <td>Kagoshima</td>\n",
       "      <td>JP-46</td>\n",
       "      <td>Kyushu</td>\n",
       "      <td>Kagoshima</td>\n",
       "      <td>9 132,4</td>\n",
       "      <td>1 588 256</td>\n",
       "      <td>173,9</td>\n",
       "    </tr>\n",
       "    <tr>\n",
       "      <th>18</th>\n",
       "      <td>Kanagawa</td>\n",
       "      <td>JP-14</td>\n",
       "      <td>Kanto</td>\n",
       "      <td>Yokohama</td>\n",
       "      <td>2 415,8</td>\n",
       "      <td>9 237 337</td>\n",
       "      <td>3 823,7</td>\n",
       "    </tr>\n",
       "    <tr>\n",
       "      <th>19</th>\n",
       "      <td>Kochi</td>\n",
       "      <td>JP-39</td>\n",
       "      <td>Shikoku</td>\n",
       "      <td>Kochi</td>\n",
       "      <td>7 104,9</td>\n",
       "      <td>691 527</td>\n",
       "      <td>97,3</td>\n",
       "    </tr>\n",
       "  </tbody>\n",
       "</table>\n",
       "</div>"
      ],
      "text/plain": [
       "    prefectura codigo_region           region           capital      area   \n",
       "0        Aichi         JP-23            Chubu            Nagoya   5 153,8  \\\n",
       "1        Akita         JP-05           Tohoku      Akita (city)  11 612,2   \n",
       "2      Aomori          JP-02           Tohoku     Aomori (city)   9 606,3   \n",
       "3        Chiba         JP-12            Kanto             Chiba   5 156,2   \n",
       "4       Ehime          JP-38          Shikoku         Matsuyama   5 676,4   \n",
       "5        Fukui         JP-18            Chubu             Fukui   4 189,0   \n",
       "6      Fukuoka         JP-40           Kyushu           Fukuoka   4 971,0   \n",
       "7   Fukushima          JP-07           Tohoku  Fukushima (city)  13 782,5   \n",
       "8         Gifu         JP-21            Chubu              Gifu  10 621,2   \n",
       "9        Gunma         JP-10            Kanto          Maebashi   6 363,2   \n",
       "10  Hiroshima          JP-34          Chugoku         Hiroshima   8 477,0   \n",
       "11    Hokkaido         JP-01         Hokkaido           Sapporo  83 453,6   \n",
       "12       Hyogo         JP-28           Kansai              Kobe   8 396,1   \n",
       "13     Ibaraki         JP-08            Kanto              Mito   6 095,6   \n",
       "14    Ishikawa         JP-17  Chubu, Hokuriku          Kanazawa   4 185,2   \n",
       "15       Iwate         JP-03           Tohoku           Morioka  15 278,4   \n",
       "16      Kagawa         JP-37          Shikoku         Takamatsu   1 861,7   \n",
       "17  Kagoshima          JP-46           Kyushu         Kagoshima   9 132,4   \n",
       "18   Kanagawa          JP-14            Kanto          Yokohama   2 415,8   \n",
       "19      Kochi          JP-39          Shikoku             Kochi   7 104,9   \n",
       "\n",
       "    poblacion densidad_poblacion  \n",
       "0   7 542 415            1 463,5  \n",
       "1     959 502               82,6  \n",
       "2   1 237 984              128,9  \n",
       "3   6 284 480            1 218,8  \n",
       "4   1 334 841              235,2  \n",
       "5     766 863              183,1  \n",
       "6   5 135 214            1 033,0  \n",
       "7   1 833 152              133,0  \n",
       "8   1 978 742              186,3  \n",
       "9   1 939 110              304,7  \n",
       "10  2 799 702              330,3  \n",
       "11  5 224 614               62,6  \n",
       "12  5 465 002              650,9  \n",
       "13  2 867 009              470,3  \n",
       "14  1 132 526              270,6  \n",
       "15  1 210 534               79,2  \n",
       "16    950 244              510,4  \n",
       "17  1 588 256              173,9  \n",
       "18  9 237 337            3 823,7  \n",
       "19    691 527               97,3  "
      ]
     },
     "execution_count": 3,
     "metadata": {},
     "output_type": "execute_result"
    }
   ],
   "source": [
    "japon.head(20)"
   ]
  },
  {
   "attachments": {},
   "cell_type": "markdown",
   "metadata": {},
   "source": [
    "_Transformacion_."
   ]
  },
  {
   "attachments": {},
   "cell_type": "markdown",
   "metadata": {},
   "source": [
    "Reemplazar puntos y comas en las variables __area__, __poblacion__ y __densidad__."
   ]
  },
  {
   "cell_type": "code",
   "execution_count": 4,
   "metadata": {},
   "outputs": [],
   "source": [
    "japon['area'] = japon.area.str.replace(' ','')\n",
    "japon['poblacion'] = japon.poblacion.str.replace(' ','')\n",
    "japon['densidad_poblacion'] = japon.densidad_poblacion.str.replace(',','.')\n",
    "japon['area'] = japon.area.str.replace(',','.')\n",
    "japon['densidad_poblacion'] = japon.densidad_poblacion.str.replace(' ','')"
   ]
  },
  {
   "attachments": {},
   "cell_type": "markdown",
   "metadata": {},
   "source": [
    "Analizar formato."
   ]
  },
  {
   "cell_type": "code",
   "execution_count": 7,
   "metadata": {},
   "outputs": [
    {
     "name": "stdout",
     "output_type": "stream",
     "text": [
      "<class 'pandas.core.frame.DataFrame'>\n",
      "RangeIndex: 47 entries, 0 to 46\n",
      "Data columns (total 7 columns):\n",
      " #   Column              Non-Null Count  Dtype  \n",
      "---  ------              --------------  -----  \n",
      " 0   prefectura          47 non-null     object \n",
      " 1   codigo_region       47 non-null     object \n",
      " 2   region              47 non-null     object \n",
      " 3   capital             47 non-null     object \n",
      " 4   area                47 non-null     float64\n",
      " 5   poblacion           47 non-null     int64  \n",
      " 6   densidad_poblacion  47 non-null     float64\n",
      "dtypes: float64(2), int64(1), object(4)\n",
      "memory usage: 2.7+ KB\n"
     ]
    }
   ],
   "source": [
    "japon.info()"
   ]
  },
  {
   "attachments": {},
   "cell_type": "markdown",
   "metadata": {},
   "source": [
    "Cambiar formato."
   ]
  },
  {
   "cell_type": "code",
   "execution_count": 8,
   "metadata": {},
   "outputs": [],
   "source": [
    "def cambiar_formato(pais):\n",
    "    \n",
    "    pais['area'] = pais['area'].apply(lambda x: float(x))\n",
    "    pais['poblacion'] = pais['poblacion'].apply(lambda x: int(x))\n",
    "    pais['densidad_poblacion'] = pais['densidad_poblacion'].apply(lambda x: float(x))\n",
    "\n",
    "    return pais\n",
    "\n",
    "japon = cambiar_formato(japon)"
   ]
  },
  {
   "attachments": {},
   "cell_type": "markdown",
   "metadata": {},
   "source": [
    "Guardar datos en un archivo json."
   ]
  },
  {
   "cell_type": "code",
   "execution_count": 9,
   "metadata": {},
   "outputs": [],
   "source": [
    "japon_json = japon.to_json(orient = 'records')\n",
    "with open('datos_demograficos_japon_etl.json', 'w') as f:\n",
    "    f.write(japon_json)"
   ]
  }
 ],
 "metadata": {
  "kernelspec": {
   "display_name": "proyecto_final_henry",
   "language": "python",
   "name": "python3"
  },
  "language_info": {
   "codemirror_mode": {
    "name": "ipython",
    "version": 3
   },
   "file_extension": ".py",
   "mimetype": "text/x-python",
   "name": "python",
   "nbconvert_exporter": "python",
   "pygments_lexer": "ipython3",
   "version": "3.11.1"
  },
  "orig_nbformat": 4
 },
 "nbformat": 4,
 "nbformat_minor": 2
}
