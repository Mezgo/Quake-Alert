{
 "cells": [
  {
   "attachments": {},
   "cell_type": "markdown",
   "metadata": {},
   "source": [
    "Importar librerias."
   ]
  },
  {
   "cell_type": "code",
   "execution_count": 6,
   "metadata": {},
   "outputs": [],
   "source": [
    "import pandas as pd\n",
    "import time\n",
    "\"\"\"from selenium import webdriver\n",
    "from bs4 import BeautifulSoup\n",
    "from selenium import webdriver\n",
    "from selenium.webdriver.common.by import By\n",
    "from selenium.webdriver.support.ui import WebDriverWait\n",
    "from selenium.webdriver.support import expected_conditions as EC\"\"\""
   ]
  },
  {
   "attachments": {},
   "cell_type": "markdown",
   "metadata": {},
   "source": [
    "## \"Chile.\""
   ]
  },
  {
   "attachments": {},
   "cell_type": "markdown",
   "metadata": {},
   "source": [
    "Los datos demograficos se descargaron a través de [geo_ref](http://www.geo-ref.net/sp/chl.htm)."
   ]
  },
  {
   "cell_type": "code",
   "execution_count": 41,
   "metadata": {},
   "outputs": [],
   "source": [
    "chile = pd.read_csv(r'datos_demograficos_chile.csv')"
   ]
  },
  {
   "attachments": {},
   "cell_type": "markdown",
   "metadata": {},
   "source": [
    "Visualizar tabla. No existen datos faltantes, valores nulos."
   ]
  },
  {
   "cell_type": "code",
   "execution_count": 42,
   "metadata": {},
   "outputs": [
    {
     "data": {
      "text/html": [
       "<div>\n",
       "<style scoped>\n",
       "    .dataframe tbody tr th:only-of-type {\n",
       "        vertical-align: middle;\n",
       "    }\n",
       "\n",
       "    .dataframe tbody tr th {\n",
       "        vertical-align: top;\n",
       "    }\n",
       "\n",
       "    .dataframe thead th {\n",
       "        text-align: right;\n",
       "    }\n",
       "</style>\n",
       "<table border=\"1\" class=\"dataframe\">\n",
       "  <thead>\n",
       "    <tr style=\"text-align: right;\">\n",
       "      <th></th>\n",
       "      <th>region</th>\n",
       "      <th>codigo_region</th>\n",
       "      <th>capital</th>\n",
       "      <th>area</th>\n",
       "      <th>poblacion</th>\n",
       "      <th>densidad_poblacion</th>\n",
       "    </tr>\n",
       "  </thead>\n",
       "  <tbody>\n",
       "    <tr>\n",
       "      <th>0</th>\n",
       "      <td>Araucania</td>\n",
       "      <td>CL-AR</td>\n",
       "      <td>Temuco</td>\n",
       "      <td>31 842</td>\n",
       "      <td>1 024 029</td>\n",
       "      <td>32,16</td>\n",
       "    </tr>\n",
       "    <tr>\n",
       "      <th>1</th>\n",
       "      <td>Arica y Parinacota</td>\n",
       "      <td>CL-AP</td>\n",
       "      <td>Arica</td>\n",
       "      <td>16 873</td>\n",
       "      <td>257 722</td>\n",
       "      <td>15,27</td>\n",
       "    </tr>\n",
       "    <tr>\n",
       "      <th>2</th>\n",
       "      <td>Atacama</td>\n",
       "      <td>CL-AT</td>\n",
       "      <td>Copiapo</td>\n",
       "      <td>75 177</td>\n",
       "      <td>318 004</td>\n",
       "      <td>4,23</td>\n",
       "    </tr>\n",
       "    <tr>\n",
       "      <th>3</th>\n",
       "      <td>Aysen</td>\n",
       "      <td>CL-AI</td>\n",
       "      <td>Coihaique</td>\n",
       "      <td>108 496</td>\n",
       "      <td>108 047</td>\n",
       "      <td>1</td>\n",
       "    </tr>\n",
       "    <tr>\n",
       "      <th>4</th>\n",
       "      <td>Bernardo O'Higgins</td>\n",
       "      <td>CL-LI</td>\n",
       "      <td>Rancagua</td>\n",
       "      <td>16 387</td>\n",
       "      <td>1 009 552</td>\n",
       "      <td>61,61</td>\n",
       "    </tr>\n",
       "    <tr>\n",
       "      <th>5</th>\n",
       "      <td>Biobio</td>\n",
       "      <td>CL-BI</td>\n",
       "      <td>Concepcion</td>\n",
       "      <td>23 890</td>\n",
       "      <td>1 676 269</td>\n",
       "      <td>70,17</td>\n",
       "    </tr>\n",
       "    <tr>\n",
       "      <th>6</th>\n",
       "      <td>Coquimbo</td>\n",
       "      <td>CL-CO</td>\n",
       "      <td>La Serena</td>\n",
       "      <td>40 580</td>\n",
       "      <td>858 769</td>\n",
       "      <td>21,16</td>\n",
       "    </tr>\n",
       "    <tr>\n",
       "      <th>7</th>\n",
       "      <td>Los Lagos</td>\n",
       "      <td>CL-LL</td>\n",
       "      <td>Puerto Montt</td>\n",
       "      <td>48 539</td>\n",
       "      <td>902 510</td>\n",
       "      <td>18,59</td>\n",
       "    </tr>\n",
       "    <tr>\n",
       "      <th>8</th>\n",
       "      <td>Los Rios</td>\n",
       "      <td>CL-LR</td>\n",
       "      <td>Valdivia</td>\n",
       "      <td>18 429</td>\n",
       "      <td>409 559</td>\n",
       "      <td>22,22</td>\n",
       "    </tr>\n",
       "    <tr>\n",
       "      <th>9</th>\n",
       "      <td>Magallanes</td>\n",
       "      <td>CL-MA</td>\n",
       "      <td>Punta Arenas</td>\n",
       "      <td>116 438</td>\n",
       "      <td>181 143</td>\n",
       "      <td>1,56</td>\n",
       "    </tr>\n",
       "    <tr>\n",
       "      <th>10</th>\n",
       "      <td>Maule</td>\n",
       "      <td>CL-ML</td>\n",
       "      <td>Talca</td>\n",
       "      <td>30 296</td>\n",
       "      <td>1 153 043</td>\n",
       "      <td>38,06</td>\n",
       "    </tr>\n",
       "    <tr>\n",
       "      <th>11</th>\n",
       "      <td>Nuble</td>\n",
       "      <td>CL-NU</td>\n",
       "      <td>Chillan</td>\n",
       "      <td>12 610</td>\n",
       "      <td>517 060</td>\n",
       "      <td>41</td>\n",
       "    </tr>\n",
       "    <tr>\n",
       "      <th>12</th>\n",
       "      <td>Region Metropolitana Santiago</td>\n",
       "      <td>CL-RM</td>\n",
       "      <td>Santiago</td>\n",
       "      <td>15 403</td>\n",
       "      <td>8 310 984</td>\n",
       "      <td>539,57</td>\n",
       "    </tr>\n",
       "    <tr>\n",
       "      <th>13</th>\n",
       "      <td>Tarapaca</td>\n",
       "      <td>CL-TA</td>\n",
       "      <td>Iquique</td>\n",
       "      <td>42 226</td>\n",
       "      <td>396 697</td>\n",
       "      <td>9,39</td>\n",
       "    </tr>\n",
       "    <tr>\n",
       "      <th>14</th>\n",
       "      <td>Valparaiso</td>\n",
       "      <td>CL-VS</td>\n",
       "      <td>Valparaiso</td>\n",
       "      <td>16 417</td>\n",
       "      <td>1 995 538</td>\n",
       "      <td>121,55</td>\n",
       "    </tr>\n",
       "  </tbody>\n",
       "</table>\n",
       "</div>"
      ],
      "text/plain": [
       "                           region codigo_region       capital     area   \n",
       "0                       Araucania         CL-AR        Temuco   31 842  \\\n",
       "1              Arica y Parinacota         CL-AP         Arica   16 873   \n",
       "2                         Atacama         CL-AT       Copiapo   75 177   \n",
       "3                           Aysen         CL-AI     Coihaique  108 496   \n",
       "4              Bernardo O'Higgins         CL-LI      Rancagua   16 387   \n",
       "5                          Biobio         CL-BI    Concepcion   23 890   \n",
       "6                        Coquimbo         CL-CO     La Serena   40 580   \n",
       "7                       Los Lagos         CL-LL  Puerto Montt   48 539   \n",
       "8                        Los Rios         CL-LR      Valdivia   18 429   \n",
       "9                      Magallanes         CL-MA  Punta Arenas  116 438   \n",
       "10                          Maule         CL-ML         Talca   30 296   \n",
       "11                          Nuble         CL-NU       Chillan   12 610   \n",
       "12  Region Metropolitana Santiago         CL-RM      Santiago   15 403   \n",
       "13                       Tarapaca         CL-TA       Iquique   42 226   \n",
       "14                     Valparaiso         CL-VS    Valparaiso   16 417   \n",
       "\n",
       "    poblacion densidad_poblacion  \n",
       "0   1 024 029              32,16  \n",
       "1     257 722              15,27  \n",
       "2     318 004               4,23  \n",
       "3     108 047                  1  \n",
       "4   1 009 552              61,61  \n",
       "5   1 676 269              70,17  \n",
       "6     858 769              21,16  \n",
       "7     902 510              18,59  \n",
       "8     409 559              22,22  \n",
       "9     181 143               1,56  \n",
       "10  1 153 043              38,06  \n",
       "11    517 060                 41  \n",
       "12  8 310 984             539,57  \n",
       "13    396 697               9,39  \n",
       "14  1 995 538             121,55  "
      ]
     },
     "execution_count": 42,
     "metadata": {},
     "output_type": "execute_result"
    }
   ],
   "source": [
    "chile.head(20)"
   ]
  },
  {
   "attachments": {},
   "cell_type": "markdown",
   "metadata": {},
   "source": [
    "_Transformacion_."
   ]
  },
  {
   "attachments": {},
   "cell_type": "markdown",
   "metadata": {},
   "source": [
    "Reemplazar puntos y comas en las variables __area__, __poblacion__ y __densidad__."
   ]
  },
  {
   "cell_type": "code",
   "execution_count": 43,
   "metadata": {},
   "outputs": [],
   "source": [
    "chile['area'] = chile.area.str.replace(' ','')\n",
    "chile['poblacion'] = chile.poblacion.str.replace(' ','')\n",
    "chile['densidad_poblacion'] = chile.densidad_poblacion.str.replace(',','.')"
   ]
  },
  {
   "attachments": {},
   "cell_type": "markdown",
   "metadata": {},
   "source": [
    "Analizar formato."
   ]
  },
  {
   "cell_type": "code",
   "execution_count": 44,
   "metadata": {},
   "outputs": [
    {
     "name": "stdout",
     "output_type": "stream",
     "text": [
      "<class 'pandas.core.frame.DataFrame'>\n",
      "RangeIndex: 15 entries, 0 to 14\n",
      "Data columns (total 6 columns):\n",
      " #   Column              Non-Null Count  Dtype \n",
      "---  ------              --------------  ----- \n",
      " 0   region              15 non-null     object\n",
      " 1   codigo_region       15 non-null     object\n",
      " 2   capital             15 non-null     object\n",
      " 3   area                15 non-null     object\n",
      " 4   poblacion           15 non-null     object\n",
      " 5   densidad_poblacion  15 non-null     object\n",
      "dtypes: object(6)\n",
      "memory usage: 848.0+ bytes\n"
     ]
    }
   ],
   "source": [
    "chile.info()"
   ]
  },
  {
   "attachments": {},
   "cell_type": "markdown",
   "metadata": {},
   "source": [
    "Cambiar formato."
   ]
  },
  {
   "cell_type": "code",
   "execution_count": 45,
   "metadata": {},
   "outputs": [],
   "source": [
    "def cambiar_formato(pais):\n",
    "    \n",
    "    pais['area'] = pais['area'].apply(lambda x: int(x))\n",
    "    pais['poblacion'] = pais['poblacion'].apply(lambda x: int(x))\n",
    "    pais['densidad_poblacion'] = pais['densidad_poblacion'].apply(lambda x: float(x))\n",
    "\n",
    "    return pais\n",
    "\n",
    "chile = cambiar_formato(chile)"
   ]
  },
  {
   "attachments": {},
   "cell_type": "markdown",
   "metadata": {},
   "source": [
    "Guardar datos en un archivo json."
   ]
  },
  {
   "cell_type": "code",
   "execution_count": 46,
   "metadata": {},
   "outputs": [],
   "source": [
    "chile_json = chile.to_json(orient = 'records')\n",
    "with open('datos_demograficos_chile_etl.json', 'w') as f:\n",
    "    f.write(chile_json)"
   ]
  }
 ],
 "metadata": {
  "kernelspec": {
   "display_name": "proyecto_final_henry",
   "language": "python",
   "name": "python3"
  },
  "language_info": {
   "codemirror_mode": {
    "name": "ipython",
    "version": 3
   },
   "file_extension": ".py",
   "mimetype": "text/x-python",
   "name": "python",
   "nbconvert_exporter": "python",
   "pygments_lexer": "ipython3",
   "version": "3.11.1"
  },
  "orig_nbformat": 4
 },
 "nbformat": 4,
 "nbformat_minor": 2
}
