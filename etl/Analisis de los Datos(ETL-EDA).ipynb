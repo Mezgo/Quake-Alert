{
 "cells": [
  {
   "cell_type": "code",
   "execution_count": 33,
   "metadata": {},
   "outputs": [],
   "source": [
    "# Importar librerias\n",
    "import requests                    \n",
    "import pandas as pd                 \n",
    "import matplotlib.pyplot as plt    \n",
    "import seaborn as sns               \n",
    "import numpy as np                  \n",
    "import datetime\n",
    "import json\n",
    "from pandas_geojson import to_geojson"
   ]
  },
  {
   "attachments": {},
   "cell_type": "markdown",
   "metadata": {},
   "source": [
    "## \"Japón.\""
   ]
  },
  {
   "attachments": {},
   "cell_type": "markdown",
   "metadata": {},
   "source": [
    "Los datos sísmicos se descargaron a través del sistema IRIS Web Services (https://service.iris.edu/)."
   ]
  },
  {
   "cell_type": "code",
   "execution_count": 25,
   "metadata": {},
   "outputs": [
    {
     "data": {
      "text/html": [
       "<div>\n",
       "<style scoped>\n",
       "    .dataframe tbody tr th:only-of-type {\n",
       "        vertical-align: middle;\n",
       "    }\n",
       "\n",
       "    .dataframe tbody tr th {\n",
       "        vertical-align: top;\n",
       "    }\n",
       "\n",
       "    .dataframe thead th {\n",
       "        text-align: right;\n",
       "    }\n",
       "</style>\n",
       "<table border=\"1\" class=\"dataframe\">\n",
       "  <thead>\n",
       "    <tr style=\"text-align: right;\">\n",
       "      <th></th>\n",
       "      <th>EventID</th>\n",
       "      <th>Time</th>\n",
       "      <th>Latitude</th>\n",
       "      <th>Longitude</th>\n",
       "      <th>Depth</th>\n",
       "      <th>Author</th>\n",
       "      <th>Catalog</th>\n",
       "      <th>Contributor</th>\n",
       "      <th>ContributorID</th>\n",
       "      <th>MagType</th>\n",
       "      <th>Magnitude</th>\n",
       "      <th>MagAuthor</th>\n",
       "      <th>EventLocationName</th>\n",
       "    </tr>\n",
       "  </thead>\n",
       "  <tbody>\n",
       "    <tr>\n",
       "      <th>0</th>\n",
       "      <td>11694723</td>\n",
       "      <td>2023-05-11T09:52:44Z</td>\n",
       "      <td>42.3324</td>\n",
       "      <td>142.9855</td>\n",
       "      <td>63.921</td>\n",
       "      <td>us</td>\n",
       "      <td>NEIC PDE</td>\n",
       "      <td>us</td>\n",
       "      <td>us6000kb2d</td>\n",
       "      <td>Mww</td>\n",
       "      <td>5.2</td>\n",
       "      <td>us</td>\n",
       "      <td>HOKKAIDO, JAPAN REGION</td>\n",
       "    </tr>\n",
       "    <tr>\n",
       "      <th>1</th>\n",
       "      <td>11694572</td>\n",
       "      <td>2023-05-10T21:04:24Z</td>\n",
       "      <td>31.4516</td>\n",
       "      <td>138.4022</td>\n",
       "      <td>363.835</td>\n",
       "      <td>us</td>\n",
       "      <td>NEIC PDE</td>\n",
       "      <td>us</td>\n",
       "      <td>us6000kazb</td>\n",
       "      <td>mb</td>\n",
       "      <td>4.1</td>\n",
       "      <td>us</td>\n",
       "      <td>SOUTHEAST OF HONSHU, JAPAN</td>\n",
       "    </tr>\n",
       "    <tr>\n",
       "      <th>2</th>\n",
       "      <td>11694590</td>\n",
       "      <td>2023-05-10T19:16:41Z</td>\n",
       "      <td>35.1122</td>\n",
       "      <td>140.2223</td>\n",
       "      <td>35.875</td>\n",
       "      <td>us</td>\n",
       "      <td>NEIC PDE</td>\n",
       "      <td>us</td>\n",
       "      <td>us6000kayd</td>\n",
       "      <td>Mwr</td>\n",
       "      <td>5.2</td>\n",
       "      <td>us</td>\n",
       "      <td>NEAR EAST COAST OF HONSHU, JAPAN</td>\n",
       "    </tr>\n",
       "    <tr>\n",
       "      <th>3</th>\n",
       "      <td>11694222</td>\n",
       "      <td>2023-05-10T12:54:48Z</td>\n",
       "      <td>37.5782</td>\n",
       "      <td>137.3084</td>\n",
       "      <td>10.000</td>\n",
       "      <td>us</td>\n",
       "      <td>NEIC PDE</td>\n",
       "      <td>us</td>\n",
       "      <td>us6000kau6</td>\n",
       "      <td>mb</td>\n",
       "      <td>5.0</td>\n",
       "      <td>us</td>\n",
       "      <td>NEAR WEST COAST OF HONSHU, JAPAN</td>\n",
       "    </tr>\n",
       "    <tr>\n",
       "      <th>4</th>\n",
       "      <td>11694022</td>\n",
       "      <td>2023-05-09T23:42:02Z</td>\n",
       "      <td>39.8745</td>\n",
       "      <td>140.5307</td>\n",
       "      <td>155.215</td>\n",
       "      <td>us</td>\n",
       "      <td>NEIC PDE</td>\n",
       "      <td>us</td>\n",
       "      <td>us6000karh</td>\n",
       "      <td>mb</td>\n",
       "      <td>4.0</td>\n",
       "      <td>us</td>\n",
       "      <td>EASTERN HONSHU, JAPAN</td>\n",
       "    </tr>\n",
       "  </tbody>\n",
       "</table>\n",
       "</div>"
      ],
      "text/plain": [
       "    EventID                  Time  Latitude  Longitude    Depth Author   \n",
       "0  11694723  2023-05-11T09:52:44Z   42.3324   142.9855   63.921     us  \\\n",
       "1  11694572  2023-05-10T21:04:24Z   31.4516   138.4022  363.835     us   \n",
       "2  11694590  2023-05-10T19:16:41Z   35.1122   140.2223   35.875     us   \n",
       "3  11694222  2023-05-10T12:54:48Z   37.5782   137.3084   10.000     us   \n",
       "4  11694022  2023-05-09T23:42:02Z   39.8745   140.5307  155.215     us   \n",
       "\n",
       "    Catalog Contributor ContributorID MagType  Magnitude MagAuthor   \n",
       "0  NEIC PDE          us    us6000kb2d     Mww        5.2        us  \\\n",
       "1  NEIC PDE          us    us6000kazb      mb        4.1        us   \n",
       "2  NEIC PDE          us    us6000kayd     Mwr        5.2        us   \n",
       "3  NEIC PDE          us    us6000kau6      mb        5.0        us   \n",
       "4  NEIC PDE          us    us6000karh      mb        4.0        us   \n",
       "\n",
       "                  EventLocationName  \n",
       "0            HOKKAIDO, JAPAN REGION  \n",
       "1        SOUTHEAST OF HONSHU, JAPAN  \n",
       "2  NEAR EAST COAST OF HONSHU, JAPAN  \n",
       "3  NEAR WEST COAST OF HONSHU, JAPAN  \n",
       "4             EASTERN HONSHU, JAPAN  "
      ]
     },
     "execution_count": 25,
     "metadata": {},
     "output_type": "execute_result"
    }
   ],
   "source": [
    "url = \"https://service.iris.edu/fdsnws/event/1/query?starttime=2023-01-01T00:00:00&orderby=time&format=geocsv&maxlat=47.587&minlon=128.288&maxlon=157.029&minlat=30.234&nodata=404\"\n",
    "japon = pd.read_csv(url, sep='|', skiprows=4)\n",
    "japon = japon[japon.EventLocationName.str.contains('JAPAN')]\n",
    "japon.head()"
   ]
  },
  {
   "attachments": {},
   "cell_type": "markdown",
   "metadata": {},
   "source": [
    "Convertir data frame a json."
   ]
  },
  {
   "cell_type": "code",
   "execution_count": 27,
   "metadata": {},
   "outputs": [],
   "source": [
    "japon_json = japon.to_json(orient = 'records')"
   ]
  },
  {
   "cell_type": "code",
   "execution_count": 34,
   "metadata": {},
   "outputs": [
    {
     "name": "stdout",
     "output_type": "stream",
     "text": [
      "{'type': 'FeatureCollection', 'features': [{'type': 'Feature', 'properties': {'Magnitude': 5.2, 'Depth': 63.921}, 'geometry': {'type': 'Point', 'coordinates': [142.9855, 42.3324]}}, {'type': 'Feature', 'properties': {'Magnitude': 4.1, 'Depth': 363.835}, 'geometry': {'type': 'Point', 'coordinates': [138.4022, 31.4516]}}, {'type': 'Feature', 'properties': {'Magnitude': 5.2, 'Depth': 35.875}, 'geometry': {'type': 'Point', 'coordinates': [140.2223, 35.1122]}}, {'type': 'Feature', 'properties': {'Magnitude': 5.0, 'Depth': 10.0}, 'geometry': {'type': 'Point', 'coordinates': [137.3084, 37.5782]}}, {'type': 'Feature', 'properties': {'Magnitude': 4.0, 'Depth': 155.215}, 'geometry': {'type': 'Point', 'coordinates': [140.5307, 39.8745]}}, {'type': 'Feature', 'properties': {'Magnitude': 4.8, 'Depth': 6.693}, 'geometry': {'type': 'Point', 'coordinates': [137.2572, 37.54]}}, {'type': 'Feature', 'properties': {'Magnitude': 4.4, 'Depth': 53.826}, 'geometry': {'type': 'Point', 'coordinates': [142.144, 39.969]}}, {'type': 'Feature', 'properties': {'Magnitude': 4.5, 'Depth': 10.0}, 'geometry': {'type': 'Point', 'coordinates': [137.3966, 37.5191]}}, {'type': 'Feature', 'properties': {'Magnitude': 4.9, 'Depth': 8.798}, 'geometry': {'type': 'Point', 'coordinates': [137.3632, 37.4546]}}, {'type': 'Feature', 'properties': {'Magnitude': 4.3, 'Depth': 127.564}, 'geometry': {'type': 'Point', 'coordinates': [139.8529, 37.2274]}}, {'type': 'Feature', 'properties': {'Magnitude': 5.9, 'Depth': 62.297}, 'geometry': {'type': 'Point', 'coordinates': [141.9956, 41.5046]}}, {'type': 'Feature', 'properties': {'Magnitude': 4.5, 'Depth': 35.64}, 'geometry': {'type': 'Point', 'coordinates': [146.1596, 42.8976]}}, {'type': 'Feature', 'properties': {'Magnitude': 4.4, 'Depth': 10.59}, 'geometry': {'type': 'Point', 'coordinates': [137.2217, 37.5061]}}, {'type': 'Feature', 'properties': {'Magnitude': 5.6, 'Depth': 8.222}, 'geometry': {'type': 'Point', 'coordinates': [137.2783, 37.4932]}}, {'type': 'Feature', 'properties': {'Magnitude': 4.7, 'Depth': 61.848}, 'geometry': {'type': 'Point', 'coordinates': [141.9658, 39.4271]}}, {'type': 'Feature', 'properties': {'Magnitude': 4.6, 'Depth': 10.0}, 'geometry': {'type': 'Point', 'coordinates': [137.396, 37.4766]}}, {'type': 'Feature', 'properties': {'Magnitude': 6.2, 'Depth': 8.712}, 'geometry': {'type': 'Point', 'coordinates': [137.3053, 37.5402]}}, {'type': 'Feature', 'properties': {'Magnitude': 4.3, 'Depth': 129.066}, 'geometry': {'type': 'Point', 'coordinates': [140.967, 42.105]}}, {'type': 'Feature', 'properties': {'Magnitude': 4.5, 'Depth': 31.034}, 'geometry': {'type': 'Point', 'coordinates': [144.3003, 41.7029]}}, {'type': 'Feature', 'properties': {'Magnitude': 4.1, 'Depth': 258.978}, 'geometry': {'type': 'Point', 'coordinates': [141.3335, 44.7588]}}, {'type': 'Feature', 'properties': {'Magnitude': 4.2, 'Depth': 50.391}, 'geometry': {'type': 'Point', 'coordinates': [141.8161, 37.8458]}}, {'type': 'Feature', 'properties': {'Magnitude': 4.5, 'Depth': 71.928}, 'geometry': {'type': 'Point', 'coordinates': [142.5182, 42.0419]}}, {'type': 'Feature', 'properties': {'Magnitude': 4.5, 'Depth': 48.059}, 'geometry': {'type': 'Point', 'coordinates': [140.8155, 36.5775]}}, {'type': 'Feature', 'properties': {'Magnitude': 4.4, 'Depth': 69.006}, 'geometry': {'type': 'Point', 'coordinates': [140.6199, 36.4347]}}, {'type': 'Feature', 'properties': {'Magnitude': 4.3, 'Depth': 36.345}, 'geometry': {'type': 'Point', 'coordinates': [141.3201, 35.4626]}}, {'type': 'Feature', 'properties': {'Magnitude': 4.4, 'Depth': 55.788}, 'geometry': {'type': 'Point', 'coordinates': [140.6372, 33.6899]}}, {'type': 'Feature', 'properties': {'Magnitude': 4.4, 'Depth': 63.311}, 'geometry': {'type': 'Point', 'coordinates': [142.6398, 42.0108]}}, {'type': 'Feature', 'properties': {'Magnitude': 4.5, 'Depth': 66.601}, 'geometry': {'type': 'Point', 'coordinates': [140.8457, 32.043]}}, {'type': 'Feature', 'properties': {'Magnitude': 4.3, 'Depth': 64.1}, 'geometry': {'type': 'Point', 'coordinates': [141.0486, 37.1158]}}, {'type': 'Feature', 'properties': {'Magnitude': 4.5, 'Depth': 55.318}, 'geometry': {'type': 'Point', 'coordinates': [141.8009, 37.7082]}}, {'type': 'Feature', 'properties': {'Magnitude': 4.4, 'Depth': 57.995}, 'geometry': {'type': 'Point', 'coordinates': [141.8156, 40.0764]}}, {'type': 'Feature', 'properties': {'Magnitude': 4.3, 'Depth': 14.194}, 'geometry': {'type': 'Point', 'coordinates': [132.4042, 30.5878]}}, {'type': 'Feature', 'properties': {'Magnitude': 4.4, 'Depth': 48.89}, 'geometry': {'type': 'Point', 'coordinates': [141.2384, 37.3471]}}, {'type': 'Feature', 'properties': {'Magnitude': 4.8, 'Depth': 12.69}, 'geometry': {'type': 'Point', 'coordinates': [132.3882, 30.6284]}}, {'type': 'Feature', 'properties': {'Magnitude': 4.8, 'Depth': 10.0}, 'geometry': {'type': 'Point', 'coordinates': [132.4274, 30.6298]}}, {'type': 'Feature', 'properties': {'Magnitude': 4.3, 'Depth': 10.0}, 'geometry': {'type': 'Point', 'coordinates': [132.3846, 30.5012]}}, {'type': 'Feature', 'properties': {'Magnitude': 4.6, 'Depth': 10.0}, 'geometry': {'type': 'Point', 'coordinates': [132.3499, 30.6799]}}, {'type': 'Feature', 'properties': {'Magnitude': 4.2, 'Depth': 46.33}, 'geometry': {'type': 'Point', 'coordinates': [142.3185, 40.3631]}}, {'type': 'Feature', 'properties': {'Magnitude': 4.0, 'Depth': 10.0}, 'geometry': {'type': 'Point', 'coordinates': [132.3651, 30.602]}}, {'type': 'Feature', 'properties': {'Magnitude': 4.5, 'Depth': 10.0}, 'geometry': {'type': 'Point', 'coordinates': [132.3406, 30.6773]}}, {'type': 'Feature', 'properties': {'Magnitude': 4.2, 'Depth': 167.003}, 'geometry': {'type': 'Point', 'coordinates': [130.3113, 31.242]}}, {'type': 'Feature', 'properties': {'Magnitude': 4.5, 'Depth': 10.0}, 'geometry': {'type': 'Point', 'coordinates': [132.3235, 30.5552]}}, {'type': 'Feature', 'properties': {'Magnitude': 4.1, 'Depth': 12.904}, 'geometry': {'type': 'Point', 'coordinates': [132.4598, 30.5707]}}, {'type': 'Feature', 'properties': {'Magnitude': 4.7, 'Depth': 16.679}, 'geometry': {'type': 'Point', 'coordinates': [132.4145, 30.6226]}}, {'type': 'Feature', 'properties': {'Magnitude': 4.6, 'Depth': 10.0}, 'geometry': {'type': 'Point', 'coordinates': [132.3872, 30.6153]}}, {'type': 'Feature', 'properties': {'Magnitude': 4.6, 'Depth': 82.819}, 'geometry': {'type': 'Point', 'coordinates': [140.7721, 31.7845]}}, {'type': 'Feature', 'properties': {'Magnitude': 4.3, 'Depth': 42.953}, 'geometry': {'type': 'Point', 'coordinates': [141.4325, 37.1899]}}, {'type': 'Feature', 'properties': {'Magnitude': 4.4, 'Depth': 55.085}, 'geometry': {'type': 'Point', 'coordinates': [142.4061, 39.2516]}}, {'type': 'Feature', 'properties': {'Magnitude': 4.4, 'Depth': 26.32}, 'geometry': {'type': 'Point', 'coordinates': [142.5675, 37.4421]}}, {'type': 'Feature', 'properties': {'Magnitude': 4.3, 'Depth': 101.411}, 'geometry': {'type': 'Point', 'coordinates': [145.7574, 43.5428]}}, {'type': 'Feature', 'properties': {'Magnitude': 3.9, 'Depth': 264.782}, 'geometry': {'type': 'Point', 'coordinates': [137.1557, 37.0523]}}, {'type': 'Feature', 'properties': {'Magnitude': 4.3, 'Depth': 60.834}, 'geometry': {'type': 'Point', 'coordinates': [140.2589, 35.5656]}}, {'type': 'Feature', 'properties': {'Magnitude': 4.6, 'Depth': 101.142}, 'geometry': {'type': 'Point', 'coordinates': [143.6978, 42.6258]}}, {'type': 'Feature', 'properties': {'Magnitude': 4.4, 'Depth': 28.975}, 'geometry': {'type': 'Point', 'coordinates': [141.4874, 36.2269]}}, {'type': 'Feature', 'properties': {'Magnitude': 4.0, 'Depth': 36.319}, 'geometry': {'type': 'Point', 'coordinates': [141.3865, 36.3005]}}, {'type': 'Feature', 'properties': {'Magnitude': 4.2, 'Depth': 69.216}, 'geometry': {'type': 'Point', 'coordinates': [142.9919, 42.2553]}}, {'type': 'Feature', 'properties': {'Magnitude': 4.0, 'Depth': 61.277}, 'geometry': {'type': 'Point', 'coordinates': [139.5358, 36.0445]}}, {'type': 'Feature', 'properties': {'Magnitude': 4.1, 'Depth': 75.385}, 'geometry': {'type': 'Point', 'coordinates': [141.4873, 36.7558]}}, {'type': 'Feature', 'properties': {'Magnitude': 4.2, 'Depth': 42.089}, 'geometry': {'type': 'Point', 'coordinates': [137.2091, 35.1178]}}, {'type': 'Feature', 'properties': {'Magnitude': 4.6, 'Depth': 73.955}, 'geometry': {'type': 'Point', 'coordinates': [144.9347, 42.8125]}}, {'type': 'Feature', 'properties': {'Magnitude': 4.3, 'Depth': 43.858}, 'geometry': {'type': 'Point', 'coordinates': [131.1001, 30.5969]}}, {'type': 'Feature', 'properties': {'Magnitude': 4.0, 'Depth': 82.838}, 'geometry': {'type': 'Point', 'coordinates': [140.6022, 36.1027]}}, {'type': 'Feature', 'properties': {'Magnitude': 4.2, 'Depth': 64.665}, 'geometry': {'type': 'Point', 'coordinates': [140.5643, 36.45]}}, {'type': 'Feature', 'properties': {'Magnitude': 4.4, 'Depth': 31.127}, 'geometry': {'type': 'Point', 'coordinates': [141.5262, 36.2852]}}, {'type': 'Feature', 'properties': {'Magnitude': 4.0, 'Depth': 172.649}, 'geometry': {'type': 'Point', 'coordinates': [139.5407, 33.359]}}, {'type': 'Feature', 'properties': {'Magnitude': 4.8, 'Depth': 16.945}, 'geometry': {'type': 'Point', 'coordinates': [138.7706, 38.2893]}}, {'type': 'Feature', 'properties': {'Magnitude': 4.3, 'Depth': 56.656}, 'geometry': {'type': 'Point', 'coordinates': [142.0457, 38.6985]}}, {'type': 'Feature', 'properties': {'Magnitude': 4.9, 'Depth': 50.336}, 'geometry': {'type': 'Point', 'coordinates': [142.7896, 41.1562]}}, {'type': 'Feature', 'properties': {'Magnitude': 4.1, 'Depth': 144.155}, 'geometry': {'type': 'Point', 'coordinates': [140.2713, 30.8465]}}, {'type': 'Feature', 'properties': {'Magnitude': 4.1, 'Depth': 10.0}, 'geometry': {'type': 'Point', 'coordinates': [142.4286, 30.9813]}}, {'type': 'Feature', 'properties': {'Magnitude': 4.2, 'Depth': 40.118}, 'geometry': {'type': 'Point', 'coordinates': [144.9584, 42.2589]}}, {'type': 'Feature', 'properties': {'Magnitude': 4.1, 'Depth': 254.661}, 'geometry': {'type': 'Point', 'coordinates': [137.0943, 36.0301]}}, {'type': 'Feature', 'properties': {'Magnitude': 3.9, 'Depth': 133.562}, 'geometry': {'type': 'Point', 'coordinates': [139.5527, 36.3306]}}, {'type': 'Feature', 'properties': {'Magnitude': 4.2, 'Depth': 2.976}, 'geometry': {'type': 'Point', 'coordinates': [137.2608, 37.5022]}}, {'type': 'Feature', 'properties': {'Magnitude': 6.0, 'Depth': 34.0}, 'geometry': {'type': 'Point', 'coordinates': [142.805, 41.148]}}, {'type': 'Feature', 'properties': {'Magnitude': 4.3, 'Depth': 10.0}, 'geometry': {'type': 'Point', 'coordinates': [142.4931, 35.0129]}}, {'type': 'Feature', 'properties': {'Magnitude': 4.9, 'Depth': 66.151}, 'geometry': {'type': 'Point', 'coordinates': [141.6339, 38.3491]}}, {'type': 'Feature', 'properties': {'Magnitude': 4.5, 'Depth': 62.482}, 'geometry': {'type': 'Point', 'coordinates': [141.7148, 38.3329]}}, {'type': 'Feature', 'properties': {'Magnitude': 4.7, 'Depth': 83.707}, 'geometry': {'type': 'Point', 'coordinates': [140.3434, 36.4058]}}, {'type': 'Feature', 'properties': {'Magnitude': 4.3, 'Depth': 42.804}, 'geometry': {'type': 'Point', 'coordinates': [142.9516, 40.2909]}}, {'type': 'Feature', 'properties': {'Magnitude': 4.4, 'Depth': 38.265}, 'geometry': {'type': 'Point', 'coordinates': [142.9504, 40.3731]}}, {'type': 'Feature', 'properties': {'Magnitude': 5.6, 'Depth': 22.0}, 'geometry': {'type': 'Point', 'coordinates': [143.189, 40.2567]}}, {'type': 'Feature', 'properties': {'Magnitude': 4.2, 'Depth': 342.921}, 'geometry': {'type': 'Point', 'coordinates': [137.7945, 33.2959]}}, {'type': 'Feature', 'properties': {'Magnitude': 4.5, 'Depth': 84.777}, 'geometry': {'type': 'Point', 'coordinates': [142.9042, 42.2981]}}, {'type': 'Feature', 'properties': {'Magnitude': 4.6, 'Depth': 10.0}, 'geometry': {'type': 'Point', 'coordinates': [142.3012, 36.0825]}}, {'type': 'Feature', 'properties': {'Magnitude': 4.6, 'Depth': 31.285}, 'geometry': {'type': 'Point', 'coordinates': [140.9403, 35.455]}}, {'type': 'Feature', 'properties': {'Magnitude': 4.2, 'Depth': 64.834}, 'geometry': {'type': 'Point', 'coordinates': [140.2166, 35.4658]}}, {'type': 'Feature', 'properties': {'Magnitude': 4.3, 'Depth': 67.95}, 'geometry': {'type': 'Point', 'coordinates': [139.7601, 36.0485]}}, {'type': 'Feature', 'properties': {'Magnitude': 4.3, 'Depth': 50.0}, 'geometry': {'type': 'Point', 'coordinates': [141.9044, 37.9164]}}, {'type': 'Feature', 'properties': {'Magnitude': 4.3, 'Depth': 68.142}, 'geometry': {'type': 'Point', 'coordinates': [141.7168, 39.8224]}}, {'type': 'Feature', 'properties': {'Magnitude': 4.2, 'Depth': 88.63}, 'geometry': {'type': 'Point', 'coordinates': [142.3764, 39.5736]}}, {'type': 'Feature', 'properties': {'Magnitude': 4.1, 'Depth': 134.304}, 'geometry': {'type': 'Point', 'coordinates': [145.103, 43.5116]}}, {'type': 'Feature', 'properties': {'Magnitude': 4.0, 'Depth': 117.062}, 'geometry': {'type': 'Point', 'coordinates': [140.5604, 37.9532]}}, {'type': 'Feature', 'properties': {'Magnitude': 4.2, 'Depth': 10.0}, 'geometry': {'type': 'Point', 'coordinates': [141.749, 31.3442]}}, {'type': 'Feature', 'properties': {'Magnitude': 5.2, 'Depth': 10.0}, 'geometry': {'type': 'Point', 'coordinates': [141.7435, 31.3687]}}, {'type': 'Feature', 'properties': {'Magnitude': 4.6, 'Depth': 53.717}, 'geometry': {'type': 'Point', 'coordinates': [140.1093, 35.7034]}}, {'type': 'Feature', 'properties': {'Magnitude': 4.8, 'Depth': 58.269}, 'geometry': {'type': 'Point', 'coordinates': [142.9465, 42.182]}}, {'type': 'Feature', 'properties': {'Magnitude': 4.6, 'Depth': 34.036}, 'geometry': {'type': 'Point', 'coordinates': [141.3716, 34.628]}}, {'type': 'Feature', 'properties': {'Magnitude': 3.9, 'Depth': 271.807}, 'geometry': {'type': 'Point', 'coordinates': [141.4391, 44.8952]}}, {'type': 'Feature', 'properties': {'Magnitude': 4.5, 'Depth': 56.674}, 'geometry': {'type': 'Point', 'coordinates': [140.4492, 36.3756]}}, {'type': 'Feature', 'properties': {'Magnitude': 4.1, 'Depth': 10.0}, 'geometry': {'type': 'Point', 'coordinates': [142.6568, 36.3674]}}, {'type': 'Feature', 'properties': {'Magnitude': 5.2, 'Depth': 41.152}, 'geometry': {'type': 'Point', 'coordinates': [144.5598, 42.3233]}}, {'type': 'Feature', 'properties': {'Magnitude': 4.5, 'Depth': 126.71}, 'geometry': {'type': 'Point', 'coordinates': [141.764, 42.3499]}}, {'type': 'Feature', 'properties': {'Magnitude': 4.0, 'Depth': 339.681}, 'geometry': {'type': 'Point', 'coordinates': [136.9453, 34.3536]}}, {'type': 'Feature', 'properties': {'Magnitude': 4.4, 'Depth': 8.396}, 'geometry': {'type': 'Point', 'coordinates': [139.4492, 33.266]}}, {'type': 'Feature', 'properties': {'Magnitude': 4.5, 'Depth': 9.613}, 'geometry': {'type': 'Point', 'coordinates': [135.7364, 32.4914]}}, {'type': 'Feature', 'properties': {'Magnitude': 5.0, 'Depth': 18.235}, 'geometry': {'type': 'Point', 'coordinates': [139.5226, 33.2865]}}, {'type': 'Feature', 'properties': {'Magnitude': 4.5, 'Depth': 73.258}, 'geometry': {'type': 'Point', 'coordinates': [140.835, 35.8903]}}, {'type': 'Feature', 'properties': {'Magnitude': 4.2, 'Depth': 300.763}, 'geometry': {'type': 'Point', 'coordinates': [136.7977, 35.3309]}}, {'type': 'Feature', 'properties': {'Magnitude': 4.5, 'Depth': 44.173}, 'geometry': {'type': 'Point', 'coordinates': [140.7378, 35.6758]}}, {'type': 'Feature', 'properties': {'Magnitude': 5.2, 'Depth': 10.0}, 'geometry': {'type': 'Point', 'coordinates': [141.6939, 32.9764]}}, {'type': 'Feature', 'properties': {'Magnitude': 4.7, 'Depth': 44.433}, 'geometry': {'type': 'Point', 'coordinates': [140.9826, 35.8736]}}, {'type': 'Feature', 'properties': {'Magnitude': 4.6, 'Depth': 56.039}, 'geometry': {'type': 'Point', 'coordinates': [142.0511, 38.5684]}}, {'type': 'Feature', 'properties': {'Magnitude': 4.2, 'Depth': 10.0}, 'geometry': {'type': 'Point', 'coordinates': [146.5158, 42.2682]}}, {'type': 'Feature', 'properties': {'Magnitude': 4.2, 'Depth': 46.468}, 'geometry': {'type': 'Point', 'coordinates': [141.5225, 37.4449]}}, {'type': 'Feature', 'properties': {'Magnitude': 6.0, 'Depth': 51.762}, 'geometry': {'type': 'Point', 'coordinates': [144.9973, 42.8417]}}, {'type': 'Feature', 'properties': {'Magnitude': 4.6, 'Depth': 68.259}, 'geometry': {'type': 'Point', 'coordinates': [140.0785, 34.898]}}, {'type': 'Feature', 'properties': {'Magnitude': 4.1, 'Depth': 64.17}, 'geometry': {'type': 'Point', 'coordinates': [141.8127, 39.0723]}}, {'type': 'Feature', 'properties': {'Magnitude': 4.1, 'Depth': 193.754}, 'geometry': {'type': 'Point', 'coordinates': [139.4892, 40.5628]}}, {'type': 'Feature', 'properties': {'Magnitude': 4.3, 'Depth': 55.009}, 'geometry': {'type': 'Point', 'coordinates': [142.0799, 39.6657]}}, {'type': 'Feature', 'properties': {'Magnitude': 5.0, 'Depth': 132.287}, 'geometry': {'type': 'Point', 'coordinates': [143.121, 42.7956]}}, {'type': 'Feature', 'properties': {'Magnitude': 4.2, 'Depth': 10.0}, 'geometry': {'type': 'Point', 'coordinates': [142.7037, 32.1979]}}, {'type': 'Feature', 'properties': {'Magnitude': 4.4, 'Depth': 10.0}, 'geometry': {'type': 'Point', 'coordinates': [130.3436, 34.0395]}}, {'type': 'Feature', 'properties': {'Magnitude': 4.3, 'Depth': 10.0}, 'geometry': {'type': 'Point', 'coordinates': [141.9862, 31.1444]}}, {'type': 'Feature', 'properties': {'Magnitude': 4.5, 'Depth': 10.0}, 'geometry': {'type': 'Point', 'coordinates': [144.4771, 37.8906]}}, {'type': 'Feature', 'properties': {'Magnitude': 4.8, 'Depth': 29.312}, 'geometry': {'type': 'Point', 'coordinates': [145.0971, 42.4829]}}, {'type': 'Feature', 'properties': {'Magnitude': 4.6, 'Depth': 57.976}, 'geometry': {'type': 'Point', 'coordinates': [141.6575, 37.695]}}, {'type': 'Feature', 'properties': {'Magnitude': 4.3, 'Depth': 105.85}, 'geometry': {'type': 'Point', 'coordinates': [141.6773, 40.4167]}}, {'type': 'Feature', 'properties': {'Magnitude': 4.5, 'Depth': 21.323}, 'geometry': {'type': 'Point', 'coordinates': [141.994, 32.7786]}}, {'type': 'Feature', 'properties': {'Magnitude': 4.2, 'Depth': 337.97}, 'geometry': {'type': 'Point', 'coordinates': [137.3979, 33.5051]}}, {'type': 'Feature', 'properties': {'Magnitude': 4.3, 'Depth': 122.288}, 'geometry': {'type': 'Point', 'coordinates': [141.3567, 42.7082]}}, {'type': 'Feature', 'properties': {'Magnitude': 4.3, 'Depth': 10.0}, 'geometry': {'type': 'Point', 'coordinates': [141.6154, 31.0515]}}, {'type': 'Feature', 'properties': {'Magnitude': 4.5, 'Depth': 279.74}, 'geometry': {'type': 'Point', 'coordinates': [141.6443, 45.0572]}}, {'type': 'Feature', 'properties': {'Magnitude': 4.2, 'Depth': 46.997}, 'geometry': {'type': 'Point', 'coordinates': [142.7736, 41.0242]}}, {'type': 'Feature', 'properties': {'Magnitude': 4.4, 'Depth': 53.335}, 'geometry': {'type': 'Point', 'coordinates': [145.3592, 42.9888]}}, {'type': 'Feature', 'properties': {'Magnitude': 4.0, 'Depth': 436.08}, 'geometry': {'type': 'Point', 'coordinates': [138.3287, 30.3303]}}, {'type': 'Feature', 'properties': {'Magnitude': 4.2, 'Depth': 355.629}, 'geometry': {'type': 'Point', 'coordinates': [137.2662, 33.6464]}}, {'type': 'Feature', 'properties': {'Magnitude': 4.4, 'Depth': 10.0}, 'geometry': {'type': 'Point', 'coordinates': [141.9484, 32.5112]}}, {'type': 'Feature', 'properties': {'Magnitude': 4.4, 'Depth': 10.0}, 'geometry': {'type': 'Point', 'coordinates': [142.6431, 33.8956]}}, {'type': 'Feature', 'properties': {'Magnitude': 4.4, 'Depth': 90.659}, 'geometry': {'type': 'Point', 'coordinates': [139.8597, 35.9252]}}, {'type': 'Feature', 'properties': {'Magnitude': 4.0, 'Depth': 492.186}, 'geometry': {'type': 'Point', 'coordinates': [137.64, 30.5602]}}, {'type': 'Feature', 'properties': {'Magnitude': 4.4, 'Depth': 10.0}, 'geometry': {'type': 'Point', 'coordinates': [141.7512, 32.7725]}}, {'type': 'Feature', 'properties': {'Magnitude': 5.8, 'Depth': 11.0}, 'geometry': {'type': 'Point', 'coordinates': [141.6605, 32.655]}}, {'type': 'Feature', 'properties': {'Magnitude': 4.1, 'Depth': 54.658}, 'geometry': {'type': 'Point', 'coordinates': [142.041, 38.622]}}, {'type': 'Feature', 'properties': {'Magnitude': 4.1, 'Depth': 23.202}, 'geometry': {'type': 'Point', 'coordinates': [141.7094, 32.6047]}}, {'type': 'Feature', 'properties': {'Magnitude': 4.3, 'Depth': 40.663}, 'geometry': {'type': 'Point', 'coordinates': [142.9521, 38.7397]}}, {'type': 'Feature', 'properties': {'Magnitude': 4.5, 'Depth': 29.746}, 'geometry': {'type': 'Point', 'coordinates': [142.1019, 37.8418]}}, {'type': 'Feature', 'properties': {'Magnitude': 4.3, 'Depth': 79.539}, 'geometry': {'type': 'Point', 'coordinates': [139.8797, 36.3618]}}, {'type': 'Feature', 'properties': {'Magnitude': 3.9, 'Depth': 348.535}, 'geometry': {'type': 'Point', 'coordinates': [136.129, 43.2091]}}, {'type': 'Feature', 'properties': {'Magnitude': 4.7, 'Depth': 146.936}, 'geometry': {'type': 'Point', 'coordinates': [139.2937, 35.3532]}}, {'type': 'Feature', 'properties': {'Magnitude': 4.2, 'Depth': 59.34}, 'geometry': {'type': 'Point', 'coordinates': [141.6833, 37.8662]}}, {'type': 'Feature', 'properties': {'Magnitude': 4.5, 'Depth': 480.991}, 'geometry': {'type': 'Point', 'coordinates': [137.5483, 30.5315]}}, {'type': 'Feature', 'properties': {'Magnitude': 4.8, 'Depth': 51.252}, 'geometry': {'type': 'Point', 'coordinates': [141.6868, 37.5889]}}, {'type': 'Feature', 'properties': {'Magnitude': 4.1, 'Depth': 332.997}, 'geometry': {'type': 'Point', 'coordinates': [143.2519, 45.8392]}}, {'type': 'Feature', 'properties': {'Magnitude': 4.4, 'Depth': 22.831}, 'geometry': {'type': 'Point', 'coordinates': [146.6294, 42.5955]}}, {'type': 'Feature', 'properties': {'Magnitude': 4.3, 'Depth': 44.118}, 'geometry': {'type': 'Point', 'coordinates': [141.5525, 37.1807]}}, {'type': 'Feature', 'properties': {'Magnitude': 4.5, 'Depth': 61.691}, 'geometry': {'type': 'Point', 'coordinates': [141.566, 37.7473]}}, {'type': 'Feature', 'properties': {'Magnitude': 4.3, 'Depth': 10.0}, 'geometry': {'type': 'Point', 'coordinates': [141.7096, 34.4397]}}, {'type': 'Feature', 'properties': {'Magnitude': 5.0, 'Depth': 47.894}, 'geometry': {'type': 'Point', 'coordinates': [142.1003, 38.9239]}}, {'type': 'Feature', 'properties': {'Magnitude': 4.3, 'Depth': 43.544}, 'geometry': {'type': 'Point', 'coordinates': [142.5275, 41.3097]}}, {'type': 'Feature', 'properties': {'Magnitude': 4.5, 'Depth': 14.259}, 'geometry': {'type': 'Point', 'coordinates': [137.2728, 33.7326]}}, {'type': 'Feature', 'properties': {'Magnitude': 4.1, 'Depth': 120.209}, 'geometry': {'type': 'Point', 'coordinates': [142.2161, 43.0811]}}, {'type': 'Feature', 'properties': {'Magnitude': 4.4, 'Depth': 17.246}, 'geometry': {'type': 'Point', 'coordinates': [142.3783, 44.0272]}}, {'type': 'Feature', 'properties': {'Magnitude': 4.3, 'Depth': 129.565}, 'geometry': {'type': 'Point', 'coordinates': [144.4407, 43.2947]}}, {'type': 'Feature', 'properties': {'Magnitude': 4.2, 'Depth': 399.856}, 'geometry': {'type': 'Point', 'coordinates': [138.5131, 30.5014]}}, {'type': 'Feature', 'properties': {'Magnitude': 4.8, 'Depth': 56.74}, 'geometry': {'type': 'Point', 'coordinates': [142.3275, 41.165]}}, {'type': 'Feature', 'properties': {'Magnitude': 4.5, 'Depth': 31.152}, 'geometry': {'type': 'Point', 'coordinates': [143.0784, 39.8623]}}, {'type': 'Feature', 'properties': {'Magnitude': 4.2, 'Depth': 364.209}, 'geometry': {'type': 'Point', 'coordinates': [138.0176, 31.9508]}}, {'type': 'Feature', 'properties': {'Magnitude': 4.0, 'Depth': 10.0}, 'geometry': {'type': 'Point', 'coordinates': [137.3514, 37.5026]}}, {'type': 'Feature', 'properties': {'Magnitude': 4.3, 'Depth': 113.791}, 'geometry': {'type': 'Point', 'coordinates': [141.2351, 42.1865]}}, {'type': 'Feature', 'properties': {'Magnitude': 4.9, 'Depth': 25.83}, 'geometry': {'type': 'Point', 'coordinates': [141.0673, 35.3383]}}, {'type': 'Feature', 'properties': {'Magnitude': 4.4, 'Depth': 22.345}, 'geometry': {'type': 'Point', 'coordinates': [139.1944, 35.4403]}}, {'type': 'Feature', 'properties': {'Magnitude': 4.3, 'Depth': 10.0}, 'geometry': {'type': 'Point', 'coordinates': [142.0726, 33.4215]}}, {'type': 'Feature', 'properties': {'Magnitude': 4.2, 'Depth': 37.415}, 'geometry': {'type': 'Point', 'coordinates': [143.4023, 41.6731]}}, {'type': 'Feature', 'properties': {'Magnitude': 4.6, 'Depth': 42.747}, 'geometry': {'type': 'Point', 'coordinates': [141.4075, 37.0889]}}, {'type': 'Feature', 'properties': {'Magnitude': 4.5, 'Depth': 10.0}, 'geometry': {'type': 'Point', 'coordinates': [143.0013, 36.2404]}}, {'type': 'Feature', 'properties': {'Magnitude': 4.7, 'Depth': 47.681}, 'geometry': {'type': 'Point', 'coordinates': [141.643, 37.48]}}, {'type': 'Feature', 'properties': {'Magnitude': 4.5, 'Depth': 35.0}, 'geometry': {'type': 'Point', 'coordinates': [145.0107, 42.1708]}}, {'type': 'Feature', 'properties': {'Magnitude': 4.8, 'Depth': 10.0}, 'geometry': {'type': 'Point', 'coordinates': [137.1761, 37.4215]}}, {'type': 'Feature', 'properties': {'Magnitude': 4.3, 'Depth': 106.023}, 'geometry': {'type': 'Point', 'coordinates': [142.0984, 42.1538]}}, {'type': 'Feature', 'properties': {'Magnitude': 4.2, 'Depth': 150.971}, 'geometry': {'type': 'Point', 'coordinates': [140.8293, 42.7635]}}, {'type': 'Feature', 'properties': {'Magnitude': 5.1, 'Depth': 51.933}, 'geometry': {'type': 'Point', 'coordinates': [142.5712, 40.2347]}}, {'type': 'Feature', 'properties': {'Magnitude': 5.2, 'Depth': 10.0}, 'geometry': {'type': 'Point', 'coordinates': [141.825, 31.1635]}}, {'type': 'Feature', 'properties': {'Magnitude': 4.4, 'Depth': 102.909}, 'geometry': {'type': 'Point', 'coordinates': [139.8384, 36.0239]}}, {'type': 'Feature', 'properties': {'Magnitude': 4.5, 'Depth': 25.237}, 'geometry': {'type': 'Point', 'coordinates': [142.4842, 36.5797]}}, {'type': 'Feature', 'properties': {'Magnitude': 4.2, 'Depth': 47.985}, 'geometry': {'type': 'Point', 'coordinates': [131.5447, 31.8534]}}, {'type': 'Feature', 'properties': {'Magnitude': 4.1, 'Depth': 153.502}, 'geometry': {'type': 'Point', 'coordinates': [140.2131, 41.1992]}}, {'type': 'Feature', 'properties': {'Magnitude': 4.4, 'Depth': 70.086}, 'geometry': {'type': 'Point', 'coordinates': [142.5841, 41.9421]}}, {'type': 'Feature', 'properties': {'Magnitude': 4.3, 'Depth': 368.953}, 'geometry': {'type': 'Point', 'coordinates': [135.2338, 37.0501]}}, {'type': 'Feature', 'properties': {'Magnitude': 4.5, 'Depth': 56.524}, 'geometry': {'type': 'Point', 'coordinates': [140.9507, 31.3366]}}]}\n"
     ]
    }
   ],
   "source": [
    "japan_geojson = to_geojson(df=japon, lat='Latitude', lon='Longitude',\n",
    "                 properties=['Magnitude','Depth'])\n",
    "print(japan_geojson)"
   ]
  },
  {
   "attachments": {},
   "cell_type": "markdown",
   "metadata": {},
   "source": [
    "## \"Estados Unidos.\""
   ]
  }
 ],
 "metadata": {
  "kernelspec": {
   "display_name": "proyecto_final_henry",
   "language": "python",
   "name": "python3"
  },
  "language_info": {
   "codemirror_mode": {
    "name": "ipython",
    "version": 3
   },
   "file_extension": ".py",
   "mimetype": "text/x-python",
   "name": "python",
   "nbconvert_exporter": "python",
   "pygments_lexer": "ipython3",
   "version": "3.11.1"
  },
  "orig_nbformat": 4
 },
 "nbformat": 4,
 "nbformat_minor": 2
}
