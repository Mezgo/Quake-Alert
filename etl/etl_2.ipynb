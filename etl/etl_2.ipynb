{
 "cells": [
  {
   "attachments": {},
   "cell_type": "markdown",
   "metadata": {},
   "source": [
    "$$\n",
    "ETL\n",
    "$$"
   ]
  },
  {
   "cell_type": "code",
   "execution_count": 45,
   "metadata": {},
   "outputs": [],
   "source": [
    "import pandas as pd\n",
    "from datetime import datetime\n",
    "import time\n",
    "from bs4 import BeautifulSoup\n",
    "from selenium  import webdriver\n",
    "import numpy as np\n",
    "import seaborn as sns\n",
    "import matplotlib.pyplot as plt\n",
    "import requests\n",
    "import io\n",
    "import seaborn as sns\n",
    "import numpy as np"
   ]
  },
  {
   "cell_type": "code",
   "execution_count": 57,
   "metadata": {},
   "outputs": [],
   "source": [
    "class Extraccion_Url:\n",
    "    def __init__(self,url):\n",
    "        \n",
    "        ''' \n",
    "        Este código utiliza Selenium para abrir la página web especificada en la variable url y esperar a que se cargue la tabla dinámica.\n",
    "        Luego, se extrae el código HTML de la página y se usa BeautifulSoup y pandas para extraer la tabla y guardarla en un DataFrame\n",
    "        '''\n",
    "        # Url de Agencia Meteorologia de japon. Información de Terremotos dinamica\n",
    "        self.url = url\n",
    "\n",
    "        # Configura el driver de Selenium (en este caso, se usa Chrome)\n",
    "        options = webdriver.ChromeOptions()\n",
    "        options.add_argument('--headless') # Ejecuta el navegador en modo headless (sin interfaz gráfica)\n",
    "        driver = webdriver.Chrome(options=options)\n",
    "\n",
    "        # Abre la página web con Selenium\n",
    "        driver.get(self.url)\n",
    "\n",
    "        # Espera a que se cargue la tabla dinámica (ajusta el tiempo según sea necesario)\n",
    "        time.sleep(5)\n",
    "\n",
    "        # Extrae el código HTML de la página\n",
    "        html = driver.page_source\n",
    "\n",
    "        # Usa BeautifulSoup y pandas para extraer la tabla\n",
    "        soup = BeautifulSoup(html, 'html.parser')\n",
    "        table = soup.find_all('table')[0]\n",
    "        self.df = pd.read_html(str(table))[0]\n",
    "        \n",
    "        \n",
    "        # Cierra el driver de Selenium\n",
    "        driver.quit()\n",
    "\n",
    "    def informacion_6_datos(self,p):\n",
    "\n",
    "        if p==1: \n",
    "            print('Visualizar Data Frame.')\n",
    "            return self.df.head(5)\n",
    "        elif p==2:\n",
    "            print('Tamaño del Data Frame.')\n",
    "            return self.df.shape\n",
    "        elif p==3:\n",
    "            print('Resumen estadistico del Data Frame.')\n",
    "            return self.df.describe()\n",
    "        elif p==4:\n",
    "            print('Hallar valores nulos en el Data Frame.')\n",
    "            return self.df.isnull().sum()\n",
    "        elif p==5:\n",
    "            print('Informacion sobre el tipo de datos y cantidad de valores no nulos del Data Frame.')\n",
    "            return self.df.info()\n",
    "        elif p==6:\n",
    "            print('Resumen estadistico del Data Frame que excluye los numeros.')\n",
    "            return self.df.describe(exclude='number')\n",
    "\n",
    "    def matriz_correlacion(self,pais,variables):\n",
    "        #grafico para ver la relación entre las variable\n",
    "        # Seleccionar las columnas a incluir en la matriz de correlación\n",
    "        cols = variables\n",
    "\n",
    "        # Crear la matriz de correlación\n",
    "        corr = self.df[cols].corr()\n",
    "\n",
    "        # Crear el gráfico de correlación utilizando la biblioteca Seaborn\n",
    "        sns.set(style=\"white\")\n",
    "        mask = np.triu(np.ones_like(corr, dtype=np.bool_))\n",
    "        fig, ax = plt.subplots(figsize=(10, 8))\n",
    "        cmap = sns.diverging_palette(220, 10, as_cmap=True)\n",
    "        sns.heatmap(corr, mask=mask, cmap=cmap, vmax=.3, center=0,\n",
    "        square=True, linewidths=.5, cbar_kws={\"shrink\": .5})\n",
    "        plt.title('Matriz de correlación de los datos de sismos en '+pais)\n",
    "        return plt.show()"
   ]
  },
  {
   "attachments": {},
   "cell_type": "markdown",
   "metadata": {},
   "source": [
    "$$\n",
    "JAPON\n",
    "$$"
   ]
  },
  {
   "cell_type": "code",
   "execution_count": 46,
   "metadata": {},
   "outputs": [],
   "source": [
    "Japon =  Extraccion_Url('http://ds.iris.edu/ieb/evtable.phtml?caller=IEB&st=1970-01-01&et=2025-01-01&minmag=6&maxmag=10&orderby=time-desc&src=usgs&limit=5000&maxlat=56.000&minlat=22.000&maxlon=159.000&minlon=127.000&sbl=1&pbl=1&caller=self&name=Japan%20Region&zm=3&mt=ter&rgn=Japan%20Region&title=IEB%20export%3A%20786%20earthquakes%20as%20a%20sortable%20table.&stitle=from%201970-01-01%20to%20the%20latest%20available%2C%20with%20magnitudes%20from%206%20to%2010%2C%20all%20depths%2C%20with%20priority%20for%20most%20recent%2C%20limited%20to%205000%2C%20%20showing%20data%20from%20USGS%2C%20')"
   ]
  },
  {
   "cell_type": "code",
   "execution_count": 47,
   "metadata": {},
   "outputs": [
    {
     "name": "stdout",
     "output_type": "stream",
     "text": [
      "Visualizar Data Frame.\n"
     ]
    },
    {
     "data": {
      "text/html": [
       "<div>\n",
       "<style scoped>\n",
       "    .dataframe tbody tr th:only-of-type {\n",
       "        vertical-align: middle;\n",
       "    }\n",
       "\n",
       "    .dataframe tbody tr th {\n",
       "        vertical-align: top;\n",
       "    }\n",
       "\n",
       "    .dataframe thead th {\n",
       "        text-align: right;\n",
       "    }\n",
       "</style>\n",
       "<table border=\"1\" class=\"dataframe\">\n",
       "  <thead>\n",
       "    <tr style=\"text-align: right;\">\n",
       "      <th></th>\n",
       "      <th>Year</th>\n",
       "      <th>Month</th>\n",
       "      <th>Day</th>\n",
       "      <th>Time UTC</th>\n",
       "      <th>Mag</th>\n",
       "      <th>Lat</th>\n",
       "      <th>Lon</th>\n",
       "      <th>Depth km</th>\n",
       "      <th>Region</th>\n",
       "      <th>USGS ID</th>\n",
       "      <th>Timestamp</th>\n",
       "    </tr>\n",
       "  </thead>\n",
       "  <tbody>\n",
       "    <tr>\n",
       "      <th>0</th>\n",
       "      <td>2023</td>\n",
       "      <td>5</td>\n",
       "      <td>5</td>\n",
       "      <td>05:42:04</td>\n",
       "      <td>6.2</td>\n",
       "      <td>37.5402</td>\n",
       "      <td>137.3053</td>\n",
       "      <td>8.7</td>\n",
       "      <td>49 km NE of Anamizu, Japan</td>\n",
       "      <td>us6000k9mb</td>\n",
       "      <td>1683265324</td>\n",
       "    </tr>\n",
       "    <tr>\n",
       "      <th>1</th>\n",
       "      <td>2023</td>\n",
       "      <td>4</td>\n",
       "      <td>3</td>\n",
       "      <td>03:06:57</td>\n",
       "      <td>6.5</td>\n",
       "      <td>52.7227</td>\n",
       "      <td>158.4935</td>\n",
       "      <td>101.0</td>\n",
       "      <td>23 km SSE of Vilyuchinsk, Russia</td>\n",
       "      <td>us6000k1mn</td>\n",
       "      <td>1680491217</td>\n",
       "    </tr>\n",
       "    <tr>\n",
       "      <th>2</th>\n",
       "      <td>2023</td>\n",
       "      <td>3</td>\n",
       "      <td>28</td>\n",
       "      <td>09:18:28</td>\n",
       "      <td>6.0</td>\n",
       "      <td>41.1480</td>\n",
       "      <td>142.8050</td>\n",
       "      <td>34.0</td>\n",
       "      <td>129 km ENE of Misawa, Japan</td>\n",
       "      <td>us6000k09q</td>\n",
       "      <td>1679995108</td>\n",
       "    </tr>\n",
       "    <tr>\n",
       "      <th>3</th>\n",
       "      <td>2023</td>\n",
       "      <td>2</td>\n",
       "      <td>25</td>\n",
       "      <td>13:27:43</td>\n",
       "      <td>6.0</td>\n",
       "      <td>42.8417</td>\n",
       "      <td>144.9973</td>\n",
       "      <td>51.8</td>\n",
       "      <td>52 km ESE of Kushiro, Japan</td>\n",
       "      <td>us6000jrjl</td>\n",
       "      <td>1677331663</td>\n",
       "    </tr>\n",
       "    <tr>\n",
       "      <th>4</th>\n",
       "      <td>2023</td>\n",
       "      <td>1</td>\n",
       "      <td>16</td>\n",
       "      <td>04:49:51</td>\n",
       "      <td>6.3</td>\n",
       "      <td>28.9804</td>\n",
       "      <td>139.3452</td>\n",
       "      <td>405.0</td>\n",
       "      <td>Bonin Islands, Japan region</td>\n",
       "      <td>us7000j4mj</td>\n",
       "      <td>1673844591</td>\n",
       "    </tr>\n",
       "  </tbody>\n",
       "</table>\n",
       "</div>"
      ],
      "text/plain": [
       "   Year  Month  Day  Time UTC  Mag      Lat       Lon  Depth km   \n",
       "0  2023      5    5  05:42:04  6.2  37.5402  137.3053       8.7  \\\n",
       "1  2023      4    3  03:06:57  6.5  52.7227  158.4935     101.0   \n",
       "2  2023      3   28  09:18:28  6.0  41.1480  142.8050      34.0   \n",
       "3  2023      2   25  13:27:43  6.0  42.8417  144.9973      51.8   \n",
       "4  2023      1   16  04:49:51  6.3  28.9804  139.3452     405.0   \n",
       "\n",
       "                             Region     USGS ID   Timestamp  \n",
       "0        49 km NE of Anamizu, Japan  us6000k9mb  1683265324  \n",
       "1  23 km SSE of Vilyuchinsk, Russia  us6000k1mn  1680491217  \n",
       "2       129 km ENE of Misawa, Japan  us6000k09q  1679995108  \n",
       "3       52 km ESE of Kushiro, Japan  us6000jrjl  1677331663  \n",
       "4       Bonin Islands, Japan region  us7000j4mj  1673844591  "
      ]
     },
     "execution_count": 47,
     "metadata": {},
     "output_type": "execute_result"
    }
   ],
   "source": [
    "Japon.informacion_6_datos(1)"
   ]
  },
  {
   "cell_type": "code",
   "execution_count": 48,
   "metadata": {},
   "outputs": [
    {
     "name": "stdout",
     "output_type": "stream",
     "text": [
      "Tamaño del Data Frame.\n"
     ]
    },
    {
     "data": {
      "text/plain": [
       "(786, 11)"
      ]
     },
     "execution_count": 48,
     "metadata": {},
     "output_type": "execute_result"
    }
   ],
   "source": [
    "Japon.informacion_6_datos(2)"
   ]
  },
  {
   "cell_type": "code",
   "execution_count": 49,
   "metadata": {},
   "outputs": [
    {
     "name": "stdout",
     "output_type": "stream",
     "text": [
      "Resumen estadistico del Data Frame.\n"
     ]
    },
    {
     "data": {
      "text/html": [
       "<div>\n",
       "<style scoped>\n",
       "    .dataframe tbody tr th:only-of-type {\n",
       "        vertical-align: middle;\n",
       "    }\n",
       "\n",
       "    .dataframe tbody tr th {\n",
       "        vertical-align: top;\n",
       "    }\n",
       "\n",
       "    .dataframe thead th {\n",
       "        text-align: right;\n",
       "    }\n",
       "</style>\n",
       "<table border=\"1\" class=\"dataframe\">\n",
       "  <thead>\n",
       "    <tr style=\"text-align: right;\">\n",
       "      <th></th>\n",
       "      <th>Year</th>\n",
       "      <th>Month</th>\n",
       "      <th>Day</th>\n",
       "      <th>Mag</th>\n",
       "      <th>Lat</th>\n",
       "      <th>Lon</th>\n",
       "      <th>Depth km</th>\n",
       "      <th>Timestamp</th>\n",
       "    </tr>\n",
       "  </thead>\n",
       "  <tbody>\n",
       "    <tr>\n",
       "      <th>count</th>\n",
       "      <td>786.000000</td>\n",
       "      <td>786.000000</td>\n",
       "      <td>786.000000</td>\n",
       "      <td>786.000000</td>\n",
       "      <td>786.000000</td>\n",
       "      <td>786.000000</td>\n",
       "      <td>786.000000</td>\n",
       "      <td>7.860000e+02</td>\n",
       "    </tr>\n",
       "    <tr>\n",
       "      <th>mean</th>\n",
       "      <td>1997.001272</td>\n",
       "      <td>6.468193</td>\n",
       "      <td>15.451654</td>\n",
       "      <td>6.378372</td>\n",
       "      <td>39.620419</td>\n",
       "      <td>143.594432</td>\n",
       "      <td>99.079135</td>\n",
       "      <td>8.676861e+08</td>\n",
       "    </tr>\n",
       "    <tr>\n",
       "      <th>std</th>\n",
       "      <td>14.691087</td>\n",
       "      <td>3.470660</td>\n",
       "      <td>8.369086</td>\n",
       "      <td>0.433578</td>\n",
       "      <td>6.790178</td>\n",
       "      <td>6.864316</td>\n",
       "      <td>154.593090</td>\n",
       "      <td>4.633572e+08</td>\n",
       "    </tr>\n",
       "    <tr>\n",
       "      <th>min</th>\n",
       "      <td>1970.000000</td>\n",
       "      <td>1.000000</td>\n",
       "      <td>1.000000</td>\n",
       "      <td>6.000000</td>\n",
       "      <td>22.013000</td>\n",
       "      <td>127.367400</td>\n",
       "      <td>0.000000</td>\n",
       "      <td>1.704785e+06</td>\n",
       "    </tr>\n",
       "    <tr>\n",
       "      <th>25%</th>\n",
       "      <td>1985.250000</td>\n",
       "      <td>3.000000</td>\n",
       "      <td>9.000000</td>\n",
       "      <td>6.100000</td>\n",
       "      <td>35.384975</td>\n",
       "      <td>140.461000</td>\n",
       "      <td>21.025000</td>\n",
       "      <td>5.022043e+08</td>\n",
       "    </tr>\n",
       "    <tr>\n",
       "      <th>50%</th>\n",
       "      <td>1997.000000</td>\n",
       "      <td>6.000000</td>\n",
       "      <td>15.000000</td>\n",
       "      <td>6.200000</td>\n",
       "      <td>39.823700</td>\n",
       "      <td>142.705500</td>\n",
       "      <td>34.500000</td>\n",
       "      <td>8.661992e+08</td>\n",
       "    </tr>\n",
       "    <tr>\n",
       "      <th>75%</th>\n",
       "      <td>2011.000000</td>\n",
       "      <td>10.000000</td>\n",
       "      <td>22.000000</td>\n",
       "      <td>6.500000</td>\n",
       "      <td>44.438850</td>\n",
       "      <td>148.057000</td>\n",
       "      <td>61.075000</td>\n",
       "      <td>1.299824e+09</td>\n",
       "    </tr>\n",
       "    <tr>\n",
       "      <th>max</th>\n",
       "      <td>2023.000000</td>\n",
       "      <td>12.000000</td>\n",
       "      <td>31.000000</td>\n",
       "      <td>9.100000</td>\n",
       "      <td>55.970400</td>\n",
       "      <td>158.659000</td>\n",
       "      <td>664.000000</td>\n",
       "      <td>1.683265e+09</td>\n",
       "    </tr>\n",
       "  </tbody>\n",
       "</table>\n",
       "</div>"
      ],
      "text/plain": [
       "              Year       Month         Day         Mag         Lat   \n",
       "count   786.000000  786.000000  786.000000  786.000000  786.000000  \\\n",
       "mean   1997.001272    6.468193   15.451654    6.378372   39.620419   \n",
       "std      14.691087    3.470660    8.369086    0.433578    6.790178   \n",
       "min    1970.000000    1.000000    1.000000    6.000000   22.013000   \n",
       "25%    1985.250000    3.000000    9.000000    6.100000   35.384975   \n",
       "50%    1997.000000    6.000000   15.000000    6.200000   39.823700   \n",
       "75%    2011.000000   10.000000   22.000000    6.500000   44.438850   \n",
       "max    2023.000000   12.000000   31.000000    9.100000   55.970400   \n",
       "\n",
       "              Lon    Depth km     Timestamp  \n",
       "count  786.000000  786.000000  7.860000e+02  \n",
       "mean   143.594432   99.079135  8.676861e+08  \n",
       "std      6.864316  154.593090  4.633572e+08  \n",
       "min    127.367400    0.000000  1.704785e+06  \n",
       "25%    140.461000   21.025000  5.022043e+08  \n",
       "50%    142.705500   34.500000  8.661992e+08  \n",
       "75%    148.057000   61.075000  1.299824e+09  \n",
       "max    158.659000  664.000000  1.683265e+09  "
      ]
     },
     "execution_count": 49,
     "metadata": {},
     "output_type": "execute_result"
    }
   ],
   "source": [
    "Japon.informacion_6_datos(3)"
   ]
  },
  {
   "cell_type": "code",
   "execution_count": 50,
   "metadata": {},
   "outputs": [
    {
     "name": "stdout",
     "output_type": "stream",
     "text": [
      "Hallar valores nulos en el Data Frame.\n"
     ]
    },
    {
     "data": {
      "text/plain": [
       "Year         0\n",
       "Month        0\n",
       "Day          0\n",
       "Time UTC     0\n",
       "Mag          0\n",
       "Lat          0\n",
       "Lon          0\n",
       "Depth km     0\n",
       "Region       0\n",
       "USGS ID      0\n",
       "Timestamp    0\n",
       "dtype: int64"
      ]
     },
     "execution_count": 50,
     "metadata": {},
     "output_type": "execute_result"
    }
   ],
   "source": [
    "Japon.informacion_6_datos(4)"
   ]
  },
  {
   "cell_type": "code",
   "execution_count": 42,
   "metadata": {},
   "outputs": [
    {
     "name": "stdout",
     "output_type": "stream",
     "text": [
      "Informacion sobre el tipo de datos y cantidad de valores no nulos del Data Frame.\n",
      "<class 'pandas.core.frame.DataFrame'>\n",
      "RangeIndex: 786 entries, 0 to 785\n",
      "Data columns (total 11 columns):\n",
      " #   Column     Non-Null Count  Dtype  \n",
      "---  ------     --------------  -----  \n",
      " 0   Year       786 non-null    int64  \n",
      " 1   Month      786 non-null    int64  \n",
      " 2   Day        786 non-null    int64  \n",
      " 3   Time UTC   786 non-null    object \n",
      " 4   Mag        786 non-null    float64\n",
      " 5   Lat        786 non-null    float64\n",
      " 6   Lon        786 non-null    float64\n",
      " 7   Depth km   786 non-null    float64\n",
      " 8   Region     786 non-null    object \n",
      " 9   USGS ID    786 non-null    object \n",
      " 10  Timestamp  786 non-null    int64  \n",
      "dtypes: float64(4), int64(4), object(3)\n",
      "memory usage: 67.7+ KB\n"
     ]
    }
   ],
   "source": [
    "Japon.informacion_6_datos(5)"
   ]
  },
  {
   "cell_type": "code",
   "execution_count": 43,
   "metadata": {},
   "outputs": [
    {
     "name": "stdout",
     "output_type": "stream",
     "text": [
      "Resumen estadistico del Data Frame que excluye los numeros.\n"
     ]
    },
    {
     "data": {
      "text/html": [
       "<div>\n",
       "<style scoped>\n",
       "    .dataframe tbody tr th:only-of-type {\n",
       "        vertical-align: middle;\n",
       "    }\n",
       "\n",
       "    .dataframe tbody tr th {\n",
       "        vertical-align: top;\n",
       "    }\n",
       "\n",
       "    .dataframe thead th {\n",
       "        text-align: right;\n",
       "    }\n",
       "</style>\n",
       "<table border=\"1\" class=\"dataframe\">\n",
       "  <thead>\n",
       "    <tr style=\"text-align: right;\">\n",
       "      <th></th>\n",
       "      <th>Time UTC</th>\n",
       "      <th>Region</th>\n",
       "      <th>USGS ID</th>\n",
       "    </tr>\n",
       "  </thead>\n",
       "  <tbody>\n",
       "    <tr>\n",
       "      <th>count</th>\n",
       "      <td>786</td>\n",
       "      <td>786</td>\n",
       "      <td>786</td>\n",
       "    </tr>\n",
       "    <tr>\n",
       "      <th>unique</th>\n",
       "      <td>782</td>\n",
       "      <td>128</td>\n",
       "      <td>786</td>\n",
       "    </tr>\n",
       "    <tr>\n",
       "      <th>top</th>\n",
       "      <td>13:37:03</td>\n",
       "      <td>Kuril Islands</td>\n",
       "      <td>us6000k9mb</td>\n",
       "    </tr>\n",
       "    <tr>\n",
       "      <th>freq</th>\n",
       "      <td>2</td>\n",
       "      <td>162</td>\n",
       "      <td>1</td>\n",
       "    </tr>\n",
       "  </tbody>\n",
       "</table>\n",
       "</div>"
      ],
      "text/plain": [
       "        Time UTC         Region     USGS ID\n",
       "count        786            786         786\n",
       "unique       782            128         786\n",
       "top     13:37:03  Kuril Islands  us6000k9mb\n",
       "freq           2            162           1"
      ]
     },
     "execution_count": 43,
     "metadata": {},
     "output_type": "execute_result"
    }
   ],
   "source": [
    "Japon.informacion_6_datos(6)"
   ]
  },
  {
   "attachments": {},
   "cell_type": "markdown",
   "metadata": {},
   "source": [
    "$$\n",
    "CHILE\n",
    "$$"
   ]
  },
  {
   "cell_type": "code",
   "execution_count": 51,
   "metadata": {},
   "outputs": [],
   "source": [
    "Chile = Extraccion_Url('http://www.csn.uchile.cl/sismologia/grandes-terremotos-en-chile/')"
   ]
  },
  {
   "cell_type": "code",
   "execution_count": 4,
   "metadata": {},
   "outputs": [
    {
     "name": "stdout",
     "output_type": "stream",
     "text": [
      "Visualizar Data Frame.\n"
     ]
    },
    {
     "data": {
      "text/html": [
       "<div>\n",
       "<style scoped>\n",
       "    .dataframe tbody tr th:only-of-type {\n",
       "        vertical-align: middle;\n",
       "    }\n",
       "\n",
       "    .dataframe tbody tr th {\n",
       "        vertical-align: top;\n",
       "    }\n",
       "\n",
       "    .dataframe thead th {\n",
       "        text-align: right;\n",
       "    }\n",
       "</style>\n",
       "<table border=\"1\" class=\"dataframe\">\n",
       "  <thead>\n",
       "    <tr style=\"text-align: right;\">\n",
       "      <th></th>\n",
       "      <th>Fecha local</th>\n",
       "      <th>Hora local</th>\n",
       "      <th>Latitud</th>\n",
       "      <th>Longitud</th>\n",
       "      <th>Magnitud Ms</th>\n",
       "      <th>Magnitud Mw</th>\n",
       "      <th>Profundidad [km]</th>\n",
       "      <th>Efecto</th>\n",
       "    </tr>\n",
       "  </thead>\n",
       "  <tbody>\n",
       "    <tr>\n",
       "      <th>0</th>\n",
       "      <td>08/02/1570</td>\n",
       "      <td>9:00</td>\n",
       "      <td>-36.800</td>\n",
       "      <td>-73.00</td>\n",
       "      <td>8.3</td>\n",
       "      <td>-</td>\n",
       "      <td>-</td>\n",
       "      <td>TD</td>\n",
       "    </tr>\n",
       "    <tr>\n",
       "      <th>1</th>\n",
       "      <td>17/03/1575</td>\n",
       "      <td>10:00</td>\n",
       "      <td>-33.400</td>\n",
       "      <td>-70.60</td>\n",
       "      <td>7.3</td>\n",
       "      <td>-</td>\n",
       "      <td>-</td>\n",
       "      <td>-</td>\n",
       "    </tr>\n",
       "    <tr>\n",
       "      <th>2</th>\n",
       "      <td>16/12/1575</td>\n",
       "      <td>14:30</td>\n",
       "      <td>-39.800</td>\n",
       "      <td>-73.20</td>\n",
       "      <td>8.5</td>\n",
       "      <td>-</td>\n",
       "      <td>-</td>\n",
       "      <td>TD</td>\n",
       "    </tr>\n",
       "    <tr>\n",
       "      <th>3</th>\n",
       "      <td>24/11/1604</td>\n",
       "      <td>12:30</td>\n",
       "      <td>-18.500</td>\n",
       "      <td>-70.40</td>\n",
       "      <td>8.5</td>\n",
       "      <td>-</td>\n",
       "      <td>30</td>\n",
       "      <td>TD</td>\n",
       "    </tr>\n",
       "    <tr>\n",
       "      <th>4</th>\n",
       "      <td>16/09/1615</td>\n",
       "      <td>23:30</td>\n",
       "      <td>-18.500</td>\n",
       "      <td>-70.35</td>\n",
       "      <td>8.8</td>\n",
       "      <td>-</td>\n",
       "      <td>-</td>\n",
       "      <td>TM</td>\n",
       "    </tr>\n",
       "  </tbody>\n",
       "</table>\n",
       "</div>"
      ],
      "text/plain": [
       "  Fecha local Hora local  Latitud  Longitud Magnitud Ms Magnitud Mw   \n",
       "0  08/02/1570       9:00  -36.800    -73.00         8.3           -  \\\n",
       "1  17/03/1575      10:00  -33.400    -70.60         7.3           -   \n",
       "2  16/12/1575      14:30  -39.800    -73.20         8.5           -   \n",
       "3  24/11/1604      12:30  -18.500    -70.40         8.5           -   \n",
       "4  16/09/1615      23:30  -18.500    -70.35         8.8           -   \n",
       "\n",
       "  Profundidad [km] Efecto  \n",
       "0                -     TD  \n",
       "1                -      -  \n",
       "2                -     TD  \n",
       "3               30     TD  \n",
       "4                -     TM  "
      ]
     },
     "execution_count": 4,
     "metadata": {},
     "output_type": "execute_result"
    }
   ],
   "source": [
    "Chile.informacion_6_datos(1)"
   ]
  },
  {
   "cell_type": "code",
   "execution_count": 5,
   "metadata": {},
   "outputs": [
    {
     "name": "stdout",
     "output_type": "stream",
     "text": [
      "Tamaño del Data Frame.\n"
     ]
    },
    {
     "data": {
      "text/plain": [
       "(113, 8)"
      ]
     },
     "execution_count": 5,
     "metadata": {},
     "output_type": "execute_result"
    }
   ],
   "source": [
    "Chile.informacion_6_datos(2)"
   ]
  },
  {
   "cell_type": "code",
   "execution_count": 6,
   "metadata": {},
   "outputs": [
    {
     "name": "stdout",
     "output_type": "stream",
     "text": [
      "Resumen estadistico del Data Frame.\n"
     ]
    },
    {
     "data": {
      "text/html": [
       "<div>\n",
       "<style scoped>\n",
       "    .dataframe tbody tr th:only-of-type {\n",
       "        vertical-align: middle;\n",
       "    }\n",
       "\n",
       "    .dataframe tbody tr th {\n",
       "        vertical-align: top;\n",
       "    }\n",
       "\n",
       "    .dataframe thead th {\n",
       "        text-align: right;\n",
       "    }\n",
       "</style>\n",
       "<table border=\"1\" class=\"dataframe\">\n",
       "  <thead>\n",
       "    <tr style=\"text-align: right;\">\n",
       "      <th></th>\n",
       "      <th>Longitud</th>\n",
       "    </tr>\n",
       "  </thead>\n",
       "  <tbody>\n",
       "    <tr>\n",
       "      <th>count</th>\n",
       "      <td>113.000000</td>\n",
       "    </tr>\n",
       "    <tr>\n",
       "      <th>mean</th>\n",
       "      <td>-1952.617584</td>\n",
       "    </tr>\n",
       "    <tr>\n",
       "      <th>std</th>\n",
       "      <td>11443.207220</td>\n",
       "    </tr>\n",
       "    <tr>\n",
       "      <th>min</th>\n",
       "      <td>-72000.000000</td>\n",
       "    </tr>\n",
       "    <tr>\n",
       "      <th>25%</th>\n",
       "      <td>-73.000000</td>\n",
       "    </tr>\n",
       "    <tr>\n",
       "      <th>50%</th>\n",
       "      <td>-71.180000</td>\n",
       "    </tr>\n",
       "    <tr>\n",
       "      <th>75%</th>\n",
       "      <td>-70.350000</td>\n",
       "    </tr>\n",
       "    <tr>\n",
       "      <th>max</th>\n",
       "      <td>-67.500000</td>\n",
       "    </tr>\n",
       "  </tbody>\n",
       "</table>\n",
       "</div>"
      ],
      "text/plain": [
       "           Longitud\n",
       "count    113.000000\n",
       "mean   -1952.617584\n",
       "std    11443.207220\n",
       "min   -72000.000000\n",
       "25%      -73.000000\n",
       "50%      -71.180000\n",
       "75%      -70.350000\n",
       "max      -67.500000"
      ]
     },
     "execution_count": 6,
     "metadata": {},
     "output_type": "execute_result"
    }
   ],
   "source": [
    "Chile.informacion_6_datos(3)"
   ]
  },
  {
   "cell_type": "code",
   "execution_count": 7,
   "metadata": {},
   "outputs": [
    {
     "name": "stdout",
     "output_type": "stream",
     "text": [
      "Hallar valores nulos en el Data Frame.\n"
     ]
    },
    {
     "data": {
      "text/plain": [
       "Fecha local         0\n",
       "Hora local          0\n",
       "Latitud             0\n",
       "Longitud            0\n",
       "Magnitud Ms         0\n",
       "Magnitud Mw         0\n",
       "Profundidad [km]    0\n",
       "Efecto              0\n",
       "dtype: int64"
      ]
     },
     "execution_count": 7,
     "metadata": {},
     "output_type": "execute_result"
    }
   ],
   "source": [
    "Chile.informacion_6_datos(4)"
   ]
  },
  {
   "cell_type": "code",
   "execution_count": 8,
   "metadata": {},
   "outputs": [
    {
     "name": "stdout",
     "output_type": "stream",
     "text": [
      "Informacion sobre el tipo de datos y cantidad de valores no nulos del Data Frame.\n",
      "<class 'pandas.core.frame.DataFrame'>\n",
      "RangeIndex: 113 entries, 0 to 112\n",
      "Data columns (total 8 columns):\n",
      " #   Column            Non-Null Count  Dtype  \n",
      "---  ------            --------------  -----  \n",
      " 0   Fecha local       113 non-null    object \n",
      " 1   Hora local        113 non-null    object \n",
      " 2   Latitud           113 non-null    object \n",
      " 3   Longitud          113 non-null    float64\n",
      " 4   Magnitud Ms       113 non-null    object \n",
      " 5   Magnitud Mw       113 non-null    object \n",
      " 6   Profundidad [km]  113 non-null    object \n",
      " 7   Efecto            113 non-null    object \n",
      "dtypes: float64(1), object(7)\n",
      "memory usage: 7.2+ KB\n"
     ]
    }
   ],
   "source": [
    "Chile.informacion_6_datos(5)"
   ]
  },
  {
   "cell_type": "code",
   "execution_count": 9,
   "metadata": {},
   "outputs": [
    {
     "name": "stdout",
     "output_type": "stream",
     "text": [
      "Resumen estadistico del Data Frame que excluye los numeros.\n"
     ]
    },
    {
     "data": {
      "text/html": [
       "<div>\n",
       "<style scoped>\n",
       "    .dataframe tbody tr th:only-of-type {\n",
       "        vertical-align: middle;\n",
       "    }\n",
       "\n",
       "    .dataframe tbody tr th {\n",
       "        vertical-align: top;\n",
       "    }\n",
       "\n",
       "    .dataframe thead th {\n",
       "        text-align: right;\n",
       "    }\n",
       "</style>\n",
       "<table border=\"1\" class=\"dataframe\">\n",
       "  <thead>\n",
       "    <tr style=\"text-align: right;\">\n",
       "      <th></th>\n",
       "      <th>Fecha local</th>\n",
       "      <th>Hora local</th>\n",
       "      <th>Latitud</th>\n",
       "      <th>Magnitud Ms</th>\n",
       "      <th>Magnitud Mw</th>\n",
       "      <th>Profundidad [km]</th>\n",
       "      <th>Efecto</th>\n",
       "    </tr>\n",
       "  </thead>\n",
       "  <tbody>\n",
       "    <tr>\n",
       "      <th>count</th>\n",
       "      <td>113</td>\n",
       "      <td>113</td>\n",
       "      <td>113</td>\n",
       "      <td>113</td>\n",
       "      <td>113</td>\n",
       "      <td>113</td>\n",
       "      <td>113</td>\n",
       "    </tr>\n",
       "    <tr>\n",
       "      <th>unique</th>\n",
       "      <td>111</td>\n",
       "      <td>100</td>\n",
       "      <td>84</td>\n",
       "      <td>22</td>\n",
       "      <td>11</td>\n",
       "      <td>37</td>\n",
       "      <td>4</td>\n",
       "    </tr>\n",
       "    <tr>\n",
       "      <th>top</th>\n",
       "      <td>22/05/1960</td>\n",
       "      <td>8:00</td>\n",
       "      <td>-18.500</td>\n",
       "      <td>7.3</td>\n",
       "      <td>-</td>\n",
       "      <td>-</td>\n",
       "      <td>-</td>\n",
       "    </tr>\n",
       "    <tr>\n",
       "      <th>freq</th>\n",
       "      <td>2</td>\n",
       "      <td>3</td>\n",
       "      <td>6</td>\n",
       "      <td>22</td>\n",
       "      <td>100</td>\n",
       "      <td>52</td>\n",
       "      <td>79</td>\n",
       "    </tr>\n",
       "  </tbody>\n",
       "</table>\n",
       "</div>"
      ],
      "text/plain": [
       "       Fecha local Hora local  Latitud Magnitud Ms Magnitud Mw   \n",
       "count          113        113      113         113         113  \\\n",
       "unique         111        100       84          22          11   \n",
       "top     22/05/1960       8:00  -18.500         7.3           -   \n",
       "freq             2          3        6          22         100   \n",
       "\n",
       "       Profundidad [km] Efecto  \n",
       "count               113    113  \n",
       "unique               37      4  \n",
       "top                   -      -  \n",
       "freq                 52     79  "
      ]
     },
     "execution_count": 9,
     "metadata": {},
     "output_type": "execute_result"
    }
   ],
   "source": [
    "Chile.informacion_6_datos(6)"
   ]
  },
  {
   "attachments": {},
   "cell_type": "markdown",
   "metadata": {},
   "source": [
    "$$\n",
    "EEUU\n",
    "$$"
   ]
  },
  {
   "attachments": {},
   "cell_type": "markdown",
   "metadata": {},
   "source": [
    "* Analsis de datos extraidos de USGS (El Servicio Geologico de los Estados Unidos )https://earthquake.usgs.gov/fdsnws/event/1/"
   ]
  },
  {
   "cell_type": "code",
   "execution_count": 19,
   "metadata": {},
   "outputs": [],
   "source": [
    "import requests\n",
    "import json, csv\n",
    "\n",
    "url = 'https://earthquake.usgs.gov/fdsnws/event/1/query?format=geojson&endtime=now'\n",
    "response = requests.get(url)\n"
   ]
  },
  {
   "attachments": {},
   "cell_type": "markdown",
   "metadata": {},
   "source": [
    "Guardar info en archivo .json"
   ]
  },
  {
   "cell_type": "code",
   "execution_count": 53,
   "metadata": {},
   "outputs": [],
   "source": [
    "data = response.text\n",
    "\n",
    "with open('geodatos_usa.json', 'w') as f:\n",
    "    f.write(data)"
   ]
  },
  {
   "attachments": {},
   "cell_type": "markdown",
   "metadata": {},
   "source": [
    "Leer archivo json"
   ]
  },
  {
   "cell_type": "code",
   "execution_count": 54,
   "metadata": {},
   "outputs": [],
   "source": [
    "with open('geodatos_usa.json','r') as f:\n",
    "    data = json.loads(f.read())"
   ]
  },
  {
   "cell_type": "code",
   "execution_count": 55,
   "metadata": {},
   "outputs": [
    {
     "name": "stdout",
     "output_type": "stream",
     "text": [
      "<class 'pandas.core.frame.DataFrame'>\n",
      "RangeIndex: 11967 entries, 0 to 11966\n",
      "Data columns (total 30 columns):\n",
      " #   Column                Non-Null Count  Dtype  \n",
      "---  ------                --------------  -----  \n",
      " 0   type                  11967 non-null  object \n",
      " 1   id                    11967 non-null  object \n",
      " 2   properties.mag        11967 non-null  float64\n",
      " 3   properties.place      11653 non-null  object \n",
      " 4   properties.time       11967 non-null  int64  \n",
      " 5   properties.updated    11967 non-null  int64  \n",
      " 6   properties.tz         0 non-null      object \n",
      " 7   properties.url        11967 non-null  object \n",
      " 8   properties.detail     11967 non-null  object \n",
      " 9   properties.felt       681 non-null    float64\n",
      " 10  properties.cdi        681 non-null    float64\n",
      " 11  properties.mmi        125 non-null    float64\n",
      " 12  properties.alert      58 non-null     object \n",
      " 13  properties.status     11967 non-null  object \n",
      " 14  properties.tsunami    11967 non-null  int64  \n",
      " 15  properties.sig        11967 non-null  int64  \n",
      " 16  properties.net        11967 non-null  object \n",
      " 17  properties.code       11967 non-null  object \n",
      " 18  properties.ids        11967 non-null  object \n",
      " 19  properties.sources    11967 non-null  object \n",
      " 20  properties.types      11967 non-null  object \n",
      " 21  properties.nst        8579 non-null   float64\n",
      " 22  properties.dmin       6303 non-null   float64\n",
      " 23  properties.rms        11967 non-null  float64\n",
      " 24  properties.gap        8579 non-null   float64\n",
      " 25  properties.magType    11967 non-null  object \n",
      " 26  properties.type       11967 non-null  object \n",
      " 27  properties.title      11967 non-null  object \n",
      " 28  geometry.type         11967 non-null  object \n",
      " 29  geometry.coordinates  11967 non-null  object \n",
      "dtypes: float64(8), int64(4), object(18)\n",
      "memory usage: 2.7+ MB\n"
     ]
    }
   ],
   "source": [
    "df = pd.json_normalize(data,\n",
    "                       record_path=['features'])\n",
    "\n",
    "df.info()"
   ]
  },
  {
   "cell_type": "code",
   "execution_count": 56,
   "metadata": {},
   "outputs": [
    {
     "data": {
      "text/plain": [
       "(11967, 30)"
      ]
     },
     "execution_count": 56,
     "metadata": {},
     "output_type": "execute_result"
    }
   ],
   "source": [
    "df.shape"
   ]
  },
  {
   "cell_type": "code",
   "execution_count": 27,
   "metadata": {},
   "outputs": [
    {
     "data": {
      "text/html": [
       "<div>\n",
       "<style scoped>\n",
       "    .dataframe tbody tr th:only-of-type {\n",
       "        vertical-align: middle;\n",
       "    }\n",
       "\n",
       "    .dataframe tbody tr th {\n",
       "        vertical-align: top;\n",
       "    }\n",
       "\n",
       "    .dataframe thead th {\n",
       "        text-align: right;\n",
       "    }\n",
       "</style>\n",
       "<table border=\"1\" class=\"dataframe\">\n",
       "  <thead>\n",
       "    <tr style=\"text-align: right;\">\n",
       "      <th></th>\n",
       "      <th>type</th>\n",
       "      <th>id</th>\n",
       "      <th>properties.mag</th>\n",
       "      <th>properties.place</th>\n",
       "      <th>properties.time</th>\n",
       "      <th>properties.updated</th>\n",
       "      <th>properties.tz</th>\n",
       "      <th>properties.url</th>\n",
       "      <th>properties.detail</th>\n",
       "      <th>properties.felt</th>\n",
       "      <th>...</th>\n",
       "      <th>properties.types</th>\n",
       "      <th>properties.nst</th>\n",
       "      <th>properties.dmin</th>\n",
       "      <th>properties.rms</th>\n",
       "      <th>properties.gap</th>\n",
       "      <th>properties.magType</th>\n",
       "      <th>properties.type</th>\n",
       "      <th>properties.title</th>\n",
       "      <th>geometry.type</th>\n",
       "      <th>geometry.coordinates</th>\n",
       "    </tr>\n",
       "  </thead>\n",
       "  <tbody>\n",
       "    <tr>\n",
       "      <th>0</th>\n",
       "      <td>Feature</td>\n",
       "      <td>hv73397087</td>\n",
       "      <td>2.35</td>\n",
       "      <td>9 km ENE of P?hala, Hawaii</td>\n",
       "      <td>1683842009220</td>\n",
       "      <td>1683842339490</td>\n",
       "      <td>None</td>\n",
       "      <td>https://earthquake.usgs.gov/earthquakes/eventp...</td>\n",
       "      <td>https://earthquake.usgs.gov/fdsnws/event/1/que...</td>\n",
       "      <td>NaN</td>\n",
       "      <td>...</td>\n",
       "      <td>,origin,phase-data,</td>\n",
       "      <td>35.0</td>\n",
       "      <td>NaN</td>\n",
       "      <td>0.25</td>\n",
       "      <td>131.0</td>\n",
       "      <td>ml</td>\n",
       "      <td>earthquake</td>\n",
       "      <td>M 2.4 - 9 km ENE of P?hala, Hawaii</td>\n",
       "      <td>Point</td>\n",
       "      <td>[-155.400161743164, 19.2498340606689, 31.56999...</td>\n",
       "    </tr>\n",
       "    <tr>\n",
       "      <th>1</th>\n",
       "      <td>Feature</td>\n",
       "      <td>hv73397082</td>\n",
       "      <td>2.65</td>\n",
       "      <td>40 km ESE of P?hala, Hawaii</td>\n",
       "      <td>1683841996940</td>\n",
       "      <td>1683842328810</td>\n",
       "      <td>None</td>\n",
       "      <td>https://earthquake.usgs.gov/earthquakes/eventp...</td>\n",
       "      <td>https://earthquake.usgs.gov/fdsnws/event/1/que...</td>\n",
       "      <td>NaN</td>\n",
       "      <td>...</td>\n",
       "      <td>,origin,phase-data,</td>\n",
       "      <td>9.0</td>\n",
       "      <td>NaN</td>\n",
       "      <td>0.33</td>\n",
       "      <td>309.0</td>\n",
       "      <td>ml</td>\n",
       "      <td>earthquake</td>\n",
       "      <td>M 2.7 - 40 km ESE of P?hala, Hawaii</td>\n",
       "      <td>Point</td>\n",
       "      <td>[-155.115005493164, 19.0799999237061, 14.17000...</td>\n",
       "    </tr>\n",
       "  </tbody>\n",
       "</table>\n",
       "<p>2 rows × 30 columns</p>\n",
       "</div>"
      ],
      "text/plain": [
       "      type          id  properties.mag             properties.place   \n",
       "0  Feature  hv73397087            2.35   9 km ENE of P?hala, Hawaii  \\\n",
       "1  Feature  hv73397082            2.65  40 km ESE of P?hala, Hawaii   \n",
       "\n",
       "   properties.time  properties.updated properties.tz   \n",
       "0    1683842009220       1683842339490          None  \\\n",
       "1    1683841996940       1683842328810          None   \n",
       "\n",
       "                                      properties.url   \n",
       "0  https://earthquake.usgs.gov/earthquakes/eventp...  \\\n",
       "1  https://earthquake.usgs.gov/earthquakes/eventp...   \n",
       "\n",
       "                                   properties.detail  properties.felt  ...   \n",
       "0  https://earthquake.usgs.gov/fdsnws/event/1/que...              NaN  ...  \\\n",
       "1  https://earthquake.usgs.gov/fdsnws/event/1/que...              NaN  ...   \n",
       "\n",
       "      properties.types  properties.nst properties.dmin properties.rms   \n",
       "0  ,origin,phase-data,            35.0             NaN           0.25  \\\n",
       "1  ,origin,phase-data,             9.0             NaN           0.33   \n",
       "\n",
       "   properties.gap  properties.magType properties.type   \n",
       "0           131.0                  ml      earthquake  \\\n",
       "1           309.0                  ml      earthquake   \n",
       "\n",
       "                      properties.title geometry.type   \n",
       "0   M 2.4 - 9 km ENE of P?hala, Hawaii         Point  \\\n",
       "1  M 2.7 - 40 km ESE of P?hala, Hawaii         Point   \n",
       "\n",
       "                                geometry.coordinates  \n",
       "0  [-155.400161743164, 19.2498340606689, 31.56999...  \n",
       "1  [-155.115005493164, 19.0799999237061, 14.17000...  \n",
       "\n",
       "[2 rows x 30 columns]"
      ]
     },
     "execution_count": 27,
     "metadata": {},
     "output_type": "execute_result"
    }
   ],
   "source": [
    "df.head(2)"
   ]
  },
  {
   "cell_type": "code",
   "execution_count": 28,
   "metadata": {},
   "outputs": [
    {
     "data": {
      "text/plain": [
       "Index(['type', 'id', 'properties.mag', 'properties.place', 'properties.time',\n",
       "       'properties.updated', 'properties.tz', 'properties.url',\n",
       "       'properties.detail', 'properties.felt', 'properties.cdi',\n",
       "       'properties.mmi', 'properties.alert', 'properties.status',\n",
       "       'properties.tsunami', 'properties.sig', 'properties.net',\n",
       "       'properties.code', 'properties.ids', 'properties.sources',\n",
       "       'properties.types', 'properties.nst', 'properties.dmin',\n",
       "       'properties.rms', 'properties.gap', 'properties.magType',\n",
       "       'properties.type', 'properties.title', 'geometry.type',\n",
       "       'geometry.coordinates'],\n",
       "      dtype='object')"
      ]
     },
     "execution_count": 28,
     "metadata": {},
     "output_type": "execute_result"
    }
   ],
   "source": [
    "df.columns"
   ]
  },
  {
   "attachments": {},
   "cell_type": "markdown",
   "metadata": {},
   "source": [
    "Se evidencia que las siguientes columnas tienen lo que parece un nombre compuesto. Esto se debe al aplanamiento del formato GeoJson para hacer posible su ajuste a _Pandas_. Entiendace a _properties_ como las propiedades del evento sismico y a _geometry_ como la forma de ubicar y graficar dicho evento un mapa.\n",
    "\n",
    "Significado de algunas de sus columnas:\n",
    "\n",
    "1. `type`: es un atributo heredado de la notacion _GeoJson_ que se refiere a la categoria a la que pertence la informacion de la fila.\n",
    "\n",
    "2. `id`: identificador unico del evento sismico registrado.\n",
    "\n",
    "\n",
    "> En adelante se explicaran las columnas pasando por alto (_properties._ y _geometry._).\n",
    "\n",
    "\n",
    "3. `mag`: es la magnitud del sismo, que mide la energía liberada en el evento. La escala más comúnmente utilizada para medir la magnitud es la escala de Richter.\n",
    "\n",
    "4. `place`: es la ubicación geográfica del sismo, que generalmente se expresa en términos de la ciudad o el estado más cercano al epicentro.\n",
    "\n",
    "5. `time`: indica la fecha y hora exacta en que ocurrió el sismo, expresada en _timestamp_.\n",
    "\n",
    "6. `updated`: es la fecha y hora en que se actualizó la información sobre el evento sísmico en la base de datos. Esta información puede actualizarse a medida que se recopilan más datos sobre el sismo. Formato _timestamp_.\n",
    "\n",
    "7. `tz`: abreviado de _timezone_. Zona horaria de la ubicacion del evento.\n",
    "\n",
    "8. `url`: link a la informacion del evento.\n",
    "\n",
    "9. `detail`: link a la descripción del evento.\n",
    "\n",
    "10. `felt`: ubicaciones en las que se sintio el evento.\n",
    "\n",
    "11. `net`: es el código de identificación de la red sísmica que registró el evento. Por ejemplo, la red sísmica de Estados Unidos es la USGS (United States Geological Survey) y su código es \"us\".\n",
    "\n",
    "12. `type`: se refiere al tipo de evento sísmico registrado, que puede ser un sismo, una réplica o una explosión.\n",
    "\n",
    "13. `nst`: se refiere al número de estaciones sismográficas que registraron el evento.\n",
    "\n",
    "14. `dimn`: es la dimensión del evento en kilómetros.\n",
    "\n",
    "15. `rms`: es el error de tiempo de la solución de ubicación del sismo en segundos.\n",
    "\n",
    "16. `gap`:el ángulo de brecha indica la cantidad de información que falta para calcular la ubicación exacta y la magnitud del sismo, debido a que la red de estaciones sismográficas no tiene una cobertura completa del área afectada por el evento sísmico.\n",
    "\n",
    "17. `magType`: indica la escala o método utilizado para calcular la magnitud del sismo, como por ejemplo, la escala de Richter, la escala de magnitud de momento o la escala de magnitud de onda superficial. Los sinificados de sus valores son los siguientes:\n",
    "\n",
    "    - \"md\": se refiere a la magnitud calculada usando la escala de duración, que es una escala de magnitud basada en la duración de la onda sísmica.\n",
    "\n",
    "    - \"ml\": se refiere a la magnitud calculada usando la escala de Richter, que es una escala de magnitud que se basa en la amplitud de las ondas sísmicas registradas en un sismógrafo.\n",
    "\n",
    "\n",
    "    - \"mb\": se refiere a la magnitud calculada usando la escala de onda de cuerpo superficial, que se basa en la amplitud de las ondas sísmicas de cuerpo y superficie.\n",
    "\n",
    "\n",
    "    - \"mww\": se refiere a la magnitud calculada usando la escala de momento sísmico, que es una escala de magnitud basada en la cantidad total de energía liberada durante el sismo.\n",
    "\n",
    "\n",
    "    - \"mlr\": se refiere a la magnitud calculada usando la escala de Richter revisada, que es una versión actualizada y mejorada de la escala de Richter original.\n",
    "\n",
    "\n",
    "    - \"mb_lg\": se refiere a la magnitud calculada usando una combinación de las escalas de onda de cuerpo y superficie (mb) y la escala de Richter (lg).\n",
    "\n",
    "\n",
    "    - \"mw\": se refiere a la magnitud calculada usando la escala de momento sísmico, pero ajustada para tener en cuenta la atenuación de la energía sísmica en el camino desde el epicentro hasta la superficie.\n",
    "\n",
    "\n",
    "    - \"mwr\": se refiere a la magnitud calculada usando una versión modificada de la escala de momento sísmico que tiene en cuenta la orientación de las fallas geológicas.\n",
    "\n",
    "\n",
    "    - \"mlv\": se refiere a la magnitud calculada usando la escala de Richter local, que es una versión adaptada de la escala de Richter para sismos locales.\n",
    "\n",
    "\n",
    "    - \"mh\": se refiere a la magnitud calculada usando la escala de hipocentro, que es una escala de magnitud que tiene en cuenta la profundidad y ubicación del hipocentro del sismo.\n",
    "\n",
    "18. `coordinates`: contiene las coordenadas de la ubicacion geografica en la que ocurrio el evento y su profundidad."
   ]
  },
  {
   "cell_type": "code",
   "execution_count": 11,
   "metadata": {},
   "outputs": [
    {
     "data": {
      "text/html": [
       "<div>\n",
       "<style scoped>\n",
       "    .dataframe tbody tr th:only-of-type {\n",
       "        vertical-align: middle;\n",
       "    }\n",
       "\n",
       "    .dataframe tbody tr th {\n",
       "        vertical-align: top;\n",
       "    }\n",
       "\n",
       "    .dataframe thead th {\n",
       "        text-align: right;\n",
       "    }\n",
       "</style>\n",
       "<table border=\"1\" class=\"dataframe\">\n",
       "  <thead>\n",
       "    <tr style=\"text-align: right;\">\n",
       "      <th></th>\n",
       "      <th>type</th>\n",
       "      <th>id</th>\n",
       "      <th>properties.place</th>\n",
       "      <th>properties.tz</th>\n",
       "      <th>properties.url</th>\n",
       "      <th>properties.detail</th>\n",
       "      <th>properties.alert</th>\n",
       "      <th>properties.status</th>\n",
       "      <th>properties.net</th>\n",
       "      <th>properties.code</th>\n",
       "      <th>properties.ids</th>\n",
       "      <th>properties.sources</th>\n",
       "      <th>properties.types</th>\n",
       "      <th>properties.magType</th>\n",
       "      <th>properties.type</th>\n",
       "      <th>properties.title</th>\n",
       "      <th>geometry.type</th>\n",
       "      <th>geometry.coordinates</th>\n",
       "    </tr>\n",
       "  </thead>\n",
       "  <tbody>\n",
       "    <tr>\n",
       "      <th>count</th>\n",
       "      <td>11967</td>\n",
       "      <td>11967</td>\n",
       "      <td>11653</td>\n",
       "      <td>0</td>\n",
       "      <td>11967</td>\n",
       "      <td>11967</td>\n",
       "      <td>58</td>\n",
       "      <td>11967</td>\n",
       "      <td>11967</td>\n",
       "      <td>11967</td>\n",
       "      <td>11967</td>\n",
       "      <td>11967</td>\n",
       "      <td>11967</td>\n",
       "      <td>11967</td>\n",
       "      <td>11967</td>\n",
       "      <td>11967</td>\n",
       "      <td>11967</td>\n",
       "      <td>11967</td>\n",
       "    </tr>\n",
       "    <tr>\n",
       "      <th>unique</th>\n",
       "      <td>1</td>\n",
       "      <td>11967</td>\n",
       "      <td>5946</td>\n",
       "      <td>0</td>\n",
       "      <td>11967</td>\n",
       "      <td>11967</td>\n",
       "      <td>2</td>\n",
       "      <td>2</td>\n",
       "      <td>15</td>\n",
       "      <td>11967</td>\n",
       "      <td>11967</td>\n",
       "      <td>80</td>\n",
       "      <td>57</td>\n",
       "      <td>11</td>\n",
       "      <td>6</td>\n",
       "      <td>9199</td>\n",
       "      <td>1</td>\n",
       "      <td>11967</td>\n",
       "    </tr>\n",
       "    <tr>\n",
       "      <th>top</th>\n",
       "      <td>Feature</td>\n",
       "      <td>hv73397087</td>\n",
       "      <td>7km NW of The Geysers, CA</td>\n",
       "      <td>NaN</td>\n",
       "      <td>https://earthquake.usgs.gov/earthquakes/eventp...</td>\n",
       "      <td>https://earthquake.usgs.gov/fdsnws/event/1/que...</td>\n",
       "      <td>green</td>\n",
       "      <td>reviewed</td>\n",
       "      <td>ak</td>\n",
       "      <td>73397087</td>\n",
       "      <td>,hv73397087,</td>\n",
       "      <td>,ak,</td>\n",
       "      <td>,origin,phase-data,</td>\n",
       "      <td>ml</td>\n",
       "      <td>earthquake</td>\n",
       "      <td>M 0.8 - 7km NW of The Geysers, CA</td>\n",
       "      <td>Point</td>\n",
       "      <td>[-155.400161743164, 19.2498340606689, 31.56999...</td>\n",
       "    </tr>\n",
       "    <tr>\n",
       "      <th>freq</th>\n",
       "      <td>11967</td>\n",
       "      <td>1</td>\n",
       "      <td>158</td>\n",
       "      <td>NaN</td>\n",
       "      <td>1</td>\n",
       "      <td>1</td>\n",
       "      <td>56</td>\n",
       "      <td>10489</td>\n",
       "      <td>3388</td>\n",
       "      <td>1</td>\n",
       "      <td>1</td>\n",
       "      <td>3028</td>\n",
       "      <td>8340</td>\n",
       "      <td>8121</td>\n",
       "      <td>11694</td>\n",
       "      <td>36</td>\n",
       "      <td>11967</td>\n",
       "      <td>1</td>\n",
       "    </tr>\n",
       "  </tbody>\n",
       "</table>\n",
       "</div>"
      ],
      "text/plain": [
       "           type          id           properties.place properties.tz   \n",
       "count     11967       11967                      11653             0  \\\n",
       "unique        1       11967                       5946             0   \n",
       "top     Feature  hv73397087  7km NW of The Geysers, CA           NaN   \n",
       "freq      11967           1                        158           NaN   \n",
       "\n",
       "                                           properties.url   \n",
       "count                                               11967  \\\n",
       "unique                                              11967   \n",
       "top     https://earthquake.usgs.gov/earthquakes/eventp...   \n",
       "freq                                                    1   \n",
       "\n",
       "                                        properties.detail properties.alert   \n",
       "count                                               11967               58  \\\n",
       "unique                                              11967                2   \n",
       "top     https://earthquake.usgs.gov/fdsnws/event/1/que...            green   \n",
       "freq                                                    1               56   \n",
       "\n",
       "       properties.status properties.net properties.code properties.ids   \n",
       "count              11967          11967           11967          11967  \\\n",
       "unique                 2             15           11967          11967   \n",
       "top             reviewed             ak        73397087   ,hv73397087,   \n",
       "freq               10489           3388               1              1   \n",
       "\n",
       "       properties.sources     properties.types properties.magType   \n",
       "count               11967                11967              11967  \\\n",
       "unique                 80                   57                 11   \n",
       "top                  ,ak,  ,origin,phase-data,                 ml   \n",
       "freq                 3028                 8340               8121   \n",
       "\n",
       "       properties.type                   properties.title geometry.type   \n",
       "count            11967                              11967         11967  \\\n",
       "unique               6                               9199             1   \n",
       "top         earthquake  M 0.8 - 7km NW of The Geysers, CA         Point   \n",
       "freq             11694                                 36         11967   \n",
       "\n",
       "                                     geometry.coordinates  \n",
       "count                                               11967  \n",
       "unique                                              11967  \n",
       "top     [-155.400161743164, 19.2498340606689, 31.56999...  \n",
       "freq                                                    1  "
      ]
     },
     "execution_count": 11,
     "metadata": {},
     "output_type": "execute_result"
    }
   ],
   "source": [
    "df.describe(exclude='number')"
   ]
  },
  {
   "attachments": {},
   "cell_type": "markdown",
   "metadata": {},
   "source": [
    "el ultimo gran sismo 20 de abril 2023, medido en escala de richter, se registro en alaska a 7 kilómetros al noroeste de The Geysers, California.El evento ha sido revisado y confirmado por un sismólogo o un experto en la materia.\"ak\" es la agencia responsable de la detección y registro del evento."
   ]
  },
  {
   "attachments": {},
   "cell_type": "markdown",
   "metadata": {},
   "source": [
    "## Observacion de datos en bruto"
   ]
  },
  {
   "cell_type": "code",
   "execution_count": 29,
   "metadata": {},
   "outputs": [
    {
     "data": {
      "text/plain": [
       "['properties.mag',\n",
       " 'properties.time',\n",
       " 'properties.updated',\n",
       " 'properties.felt',\n",
       " 'properties.cdi',\n",
       " 'properties.mmi',\n",
       " 'properties.tsunami',\n",
       " 'properties.sig',\n",
       " 'properties.nst',\n",
       " 'properties.dmin',\n",
       " 'properties.rms',\n",
       " 'properties.gap']"
      ]
     },
     "execution_count": 29,
     "metadata": {},
     "output_type": "execute_result"
    }
   ],
   "source": [
    "d= df.dtypes\n",
    "vars = []\n",
    "for i, el in enumerate(d):\n",
    "    # print(d.index[i])\n",
    "    # print(el)\n",
    "    if  el != object:\n",
    "        vars.append(d.index[i])\n",
    "vars"
   ]
  },
  {
   "cell_type": "code",
   "execution_count": 30,
   "metadata": {},
   "outputs": [],
   "source": [
    "class Analisis_Grafico:\n",
    "        def __init__(self,df):\n",
    "\n",
    "                self.df = df\n",
    "        def matriz_correlacion(self,pais,variables):\n",
    "                #grafico para ver la relación entre las variable\n",
    "                # Seleccionar las columnas a incluir en la matriz de correlación\n",
    "                cols = variables\n",
    "\n",
    "                # Crear la matriz de correlación\n",
    "                corr = self.df[cols].corr()\n",
    "\n",
    "                # Crear el gráfico de correlación utilizando la biblioteca Seaborn\n",
    "                sns.set(style=\"white\")\n",
    "                mask = np.triu(np.ones_like(corr, dtype=np.bool_))\n",
    "                fig, ax = plt.subplots(figsize=(10, 8))\n",
    "                cmap = sns.diverging_palette(220, 10, as_cmap=True)\n",
    "                sns.heatmap(corr, mask=mask, cmap=cmap, vmax=.3, center=0,\n",
    "                        square=True, linewidths=.5, cbar_kws={\"shrink\": .5})\n",
    "                plt.title('Matriz de correlación de los datos de sismos en '+pais)\n",
    "                return plt.show()\n"
   ]
  },
  {
   "cell_type": "code",
   "execution_count": 31,
   "metadata": {},
   "outputs": [],
   "source": [
    "EEUU = Analisis_Grafico(df)"
   ]
  },
  {
   "cell_type": "code",
   "execution_count": 32,
   "metadata": {},
   "outputs": [
    {
     "data": {
      "image/png": "[encoded data removed]",
      "text/plain": [
       "<Figure size 1000x800 with 2 Axes>"
      ]
     },
     "metadata": {},
     "output_type": "display_data"
    }
   ],
   "source": [
    "EEUU.matriz_correlacion('Estados Unidos',vars)"
   ]
  },
  {
   "cell_type": "code",
   "execution_count": 33,
   "metadata": {},
   "outputs": [
    {
     "data": {
      "image/png": "[encoded data removed]",
      "text/plain": [
       "<Figure size 640x480 with 1 Axes>"
      ]
     },
     "metadata": {},
     "output_type": "display_data"
    },
    {
     "data": {
      "image/png": "[encoded data removed]",
      "text/plain": [
       "<Figure size 640x480 with 1 Axes>"
      ]
     },
     "metadata": {},
     "output_type": "display_data"
    },
    {
     "data": {
      "image/png": "[encoded data removed]",
      "text/plain": [
       "<Figure size 640x480 with 1 Axes>"
      ]
     },
     "metadata": {},
     "output_type": "display_data"
    },
    {
     "data": {
      "image/png": "[encoded data removed]",
      "text/plain": [
       "<Figure size 640x480 with 1 Axes>"
      ]
     },
     "metadata": {},
     "output_type": "display_data"
    },
    {
     "data": {
      "image/png": "[encoded data removed]",
      "text/plain": [
       "<Figure size 640x480 with 1 Axes>"
      ]
     },
     "metadata": {},
     "output_type": "display_data"
    },
    {
     "data": {
      "image/png": "[encoded data removed]",
      "text/plain": [
       "<Figure size 640x480 with 1 Axes>"
      ]
     },
     "metadata": {},
     "output_type": "display_data"
    },
    {
     "data": {
      "image/png": "[encoded data removed]",
      "text/plain": [
       "<Figure size 640x480 with 1 Axes>"
      ]
     },
     "metadata": {},
     "output_type": "display_data"
    },
    {
     "data": {
      "image/png": "[encoded data removed]",
      "text/plain": [
       "<Figure size 640x480 with 1 Axes>"
      ]
     },
     "metadata": {},
     "output_type": "display_data"
    },
    {
     "data": {
      "image/png": "[encoded data removed]",
      "text/plain": [
       "<Figure size 640x480 with 1 Axes>"
      ]
     },
     "metadata": {},
     "output_type": "display_data"
    },
    {
     "data": {
      "image/png": "[encoded data removed]",
      "text/plain": [
       "<Figure size 640x480 with 1 Axes>"
      ]
     },
     "metadata": {},
     "output_type": "display_data"
    },
    {
     "data": {
      "image/png": "[encoded data removed]",
      "text/plain": [
       "<Figure size 640x480 with 1 Axes>"
      ]
     },
     "metadata": {},
     "output_type": "display_data"
    },
    {
     "data": {
      "image/png": "[encoded data removed]",
      "text/plain": [
       "<Figure size 640x480 with 1 Axes>"
      ]
     },
     "metadata": {},
     "output_type": "display_data"
    }
   ],
   "source": [
    "#aca se genera un diagrama de caja para ver los outlier\n",
    "\n",
    "# Crear un diagrama de caja para cada columna utilizando la biblioteca Seaborn\n",
    "for var in vars:\n",
    "    plt.figure()\n",
    "    sns.boxplot(x=df[var])\n",
    "    plt.title('Diagrama de caja para ' + var)\n",
    "    plt.show()\n"
   ]
  },
  {
   "attachments": {},
   "cell_type": "markdown",
   "metadata": {},
   "source": []
  },
  {
   "cell_type": "code",
   "execution_count": 57,
   "metadata": {},
   "outputs": [
    {
     "name": "stdout",
     "output_type": "stream",
     "text": [
      "<class 'pandas.core.frame.DataFrame'>\n",
      "RangeIndex: 11967 entries, 0 to 11966\n",
      "Data columns (total 3 columns):\n",
      " #   Column                Non-Null Count  Dtype  \n",
      "---  ------                --------------  -----  \n",
      " 0   properties.mag        11967 non-null  float64\n",
      " 1   properties.time       11967 non-null  int64  \n",
      " 2   geometry.coordinates  11967 non-null  object \n",
      "dtypes: float64(1), int64(1), object(1)\n",
      "memory usage: 280.6+ KB\n"
     ]
    }
   ],
   "source": [
    "thee_features =['properties.mag', 'properties.time','geometry.coordinates']\n",
    "\n",
    "for col in df.columns:\n",
    "    if col not in thee_features:\n",
    "        del df[col]\n",
    "df.info()"
   ]
  },
  {
   "cell_type": "code",
   "execution_count": 58,
   "metadata": {},
   "outputs": [
    {
     "data": {
      "text/html": [
       "<div>\n",
       "<style scoped>\n",
       "    .dataframe tbody tr th:only-of-type {\n",
       "        vertical-align: middle;\n",
       "    }\n",
       "\n",
       "    .dataframe tbody tr th {\n",
       "        vertical-align: top;\n",
       "    }\n",
       "\n",
       "    .dataframe thead th {\n",
       "        text-align: right;\n",
       "    }\n",
       "</style>\n",
       "<table border=\"1\" class=\"dataframe\">\n",
       "  <thead>\n",
       "    <tr style=\"text-align: right;\">\n",
       "      <th></th>\n",
       "      <th>properties.mag</th>\n",
       "      <th>properties.time</th>\n",
       "      <th>geometry.coordinates</th>\n",
       "    </tr>\n",
       "  </thead>\n",
       "  <tbody>\n",
       "    <tr>\n",
       "      <th>11742</th>\n",
       "      <td>1.8</td>\n",
       "      <td>1681279179806</td>\n",
       "      <td>[-150.46, 62.3562, 63.4]</td>\n",
       "    </tr>\n",
       "  </tbody>\n",
       "</table>\n",
       "</div>"
      ],
      "text/plain": [
       "       properties.mag  properties.time      geometry.coordinates\n",
       "11742             1.8    1681279179806  [-150.46, 62.3562, 63.4]"
      ]
     },
     "execution_count": 58,
     "metadata": {},
     "output_type": "execute_result"
    }
   ],
   "source": [
    "df.sample(1)"
   ]
  },
  {
   "attachments": {},
   "cell_type": "markdown",
   "metadata": {},
   "source": [
    "aca separamos la columna coordenadas en latitud, longitud y profundidad"
   ]
  },
  {
   "cell_type": "code",
   "execution_count": 59,
   "metadata": {},
   "outputs": [],
   "source": [
    "df[['longitud', 'latitud', 'profundidad']] = pd.DataFrame(df['geometry.coordinates'].tolist(), index=df.index)"
   ]
  },
  {
   "cell_type": "code",
   "execution_count": 60,
   "metadata": {},
   "outputs": [],
   "source": [
    "del df['geometry.coordinates']"
   ]
  },
  {
   "cell_type": "code",
   "execution_count": 61,
   "metadata": {},
   "outputs": [
    {
     "data": {
      "text/html": [
       "<div>\n",
       "<style scoped>\n",
       "    .dataframe tbody tr th:only-of-type {\n",
       "        vertical-align: middle;\n",
       "    }\n",
       "\n",
       "    .dataframe tbody tr th {\n",
       "        vertical-align: top;\n",
       "    }\n",
       "\n",
       "    .dataframe thead th {\n",
       "        text-align: right;\n",
       "    }\n",
       "</style>\n",
       "<table border=\"1\" class=\"dataframe\">\n",
       "  <thead>\n",
       "    <tr style=\"text-align: right;\">\n",
       "      <th></th>\n",
       "      <th>properties.mag</th>\n",
       "      <th>properties.time</th>\n",
       "      <th>longitud</th>\n",
       "      <th>latitud</th>\n",
       "      <th>profundidad</th>\n",
       "    </tr>\n",
       "  </thead>\n",
       "  <tbody>\n",
       "    <tr>\n",
       "      <th>1301</th>\n",
       "      <td>2.0</td>\n",
       "      <td>1683471668832</td>\n",
       "      <td>-104.242175</td>\n",
       "      <td>31.62259</td>\n",
       "      <td>4.614795</td>\n",
       "    </tr>\n",
       "  </tbody>\n",
       "</table>\n",
       "</div>"
      ],
      "text/plain": [
       "      properties.mag  properties.time    longitud   latitud  profundidad\n",
       "1301             2.0    1683471668832 -104.242175  31.62259     4.614795"
      ]
     },
     "execution_count": 61,
     "metadata": {},
     "output_type": "execute_result"
    }
   ],
   "source": [
    "df.sample()"
   ]
  },
  {
   "cell_type": "code",
   "execution_count": 64,
   "metadata": {},
   "outputs": [],
   "source": [
    "def tstamp_2_date(t: str):\n",
    "    \"\"\"turns a timestamp into date\"\"\"\n",
    "    return datetime.fromtimestamp(t)"
   ]
  },
  {
   "cell_type": "code",
   "execution_count": 63,
   "metadata": {},
   "outputs": [
    {
     "data": {
      "text/html": [
       "<div>\n",
       "<style scoped>\n",
       "    .dataframe tbody tr th:only-of-type {\n",
       "        vertical-align: middle;\n",
       "    }\n",
       "\n",
       "    .dataframe tbody tr th {\n",
       "        vertical-align: top;\n",
       "    }\n",
       "\n",
       "    .dataframe thead th {\n",
       "        text-align: right;\n",
       "    }\n",
       "</style>\n",
       "<table border=\"1\" class=\"dataframe\">\n",
       "  <thead>\n",
       "    <tr style=\"text-align: right;\">\n",
       "      <th></th>\n",
       "      <th>properties.mag</th>\n",
       "      <th>properties.time</th>\n",
       "      <th>longitud</th>\n",
       "      <th>latitud</th>\n",
       "      <th>profundidad</th>\n",
       "    </tr>\n",
       "  </thead>\n",
       "  <tbody>\n",
       "    <tr>\n",
       "      <th>0</th>\n",
       "      <td>2.35</td>\n",
       "      <td>1970-01-01 00:28:03.842009220</td>\n",
       "      <td>-155.400162</td>\n",
       "      <td>19.249834</td>\n",
       "      <td>31.57</td>\n",
       "    </tr>\n",
       "    <tr>\n",
       "      <th>1</th>\n",
       "      <td>2.65</td>\n",
       "      <td>1970-01-01 00:28:03.841996940</td>\n",
       "      <td>-155.115005</td>\n",
       "      <td>19.080000</td>\n",
       "      <td>14.17</td>\n",
       "    </tr>\n",
       "    <tr>\n",
       "      <th>2</th>\n",
       "      <td>2.19</td>\n",
       "      <td>1970-01-01 00:28:03.841477970</td>\n",
       "      <td>-155.277832</td>\n",
       "      <td>19.410334</td>\n",
       "      <td>0.26</td>\n",
       "    </tr>\n",
       "    <tr>\n",
       "      <th>3</th>\n",
       "      <td>1.72</td>\n",
       "      <td>1970-01-01 00:28:03.840912350</td>\n",
       "      <td>-155.038834</td>\n",
       "      <td>19.384832</td>\n",
       "      <td>3.97</td>\n",
       "    </tr>\n",
       "    <tr>\n",
       "      <th>4</th>\n",
       "      <td>1.49</td>\n",
       "      <td>1970-01-01 00:28:03.840897930</td>\n",
       "      <td>-110.967667</td>\n",
       "      <td>44.759667</td>\n",
       "      <td>5.96</td>\n",
       "    </tr>\n",
       "    <tr>\n",
       "      <th>...</th>\n",
       "      <td>...</td>\n",
       "      <td>...</td>\n",
       "      <td>...</td>\n",
       "      <td>...</td>\n",
       "      <td>...</td>\n",
       "    </tr>\n",
       "    <tr>\n",
       "      <th>11962</th>\n",
       "      <td>2.48</td>\n",
       "      <td>1970-01-01 00:28:01.254357810</td>\n",
       "      <td>-122.847667</td>\n",
       "      <td>39.303167</td>\n",
       "      <td>6.84</td>\n",
       "    </tr>\n",
       "    <tr>\n",
       "      <th>11963</th>\n",
       "      <td>-0.52</td>\n",
       "      <td>1970-01-01 00:28:01.254093620</td>\n",
       "      <td>-155.222833</td>\n",
       "      <td>58.206333</td>\n",
       "      <td>4.76</td>\n",
       "    </tr>\n",
       "    <tr>\n",
       "      <th>11964</th>\n",
       "      <td>0.59</td>\n",
       "      <td>1970-01-01 00:28:01.253849140</td>\n",
       "      <td>-112.176167</td>\n",
       "      <td>41.505833</td>\n",
       "      <td>3.45</td>\n",
       "    </tr>\n",
       "    <tr>\n",
       "      <th>11965</th>\n",
       "      <td>2.08</td>\n",
       "      <td>1970-01-01 00:28:01.253848180</td>\n",
       "      <td>-111.401667</td>\n",
       "      <td>46.012500</td>\n",
       "      <td>10.41</td>\n",
       "    </tr>\n",
       "    <tr>\n",
       "      <th>11966</th>\n",
       "      <td>0.56</td>\n",
       "      <td>1970-01-01 00:28:01.253687380</td>\n",
       "      <td>-121.952000</td>\n",
       "      <td>46.831833</td>\n",
       "      <td>7.83</td>\n",
       "    </tr>\n",
       "  </tbody>\n",
       "</table>\n",
       "<p>11967 rows × 5 columns</p>\n",
       "</div>"
      ],
      "text/plain": [
       "       properties.mag               properties.time    longitud    latitud   \n",
       "0                2.35 1970-01-01 00:28:03.842009220 -155.400162  19.249834  \\\n",
       "1                2.65 1970-01-01 00:28:03.841996940 -155.115005  19.080000   \n",
       "2                2.19 1970-01-01 00:28:03.841477970 -155.277832  19.410334   \n",
       "3                1.72 1970-01-01 00:28:03.840912350 -155.038834  19.384832   \n",
       "4                1.49 1970-01-01 00:28:03.840897930 -110.967667  44.759667   \n",
       "...               ...                           ...         ...        ...   \n",
       "11962            2.48 1970-01-01 00:28:01.254357810 -122.847667  39.303167   \n",
       "11963           -0.52 1970-01-01 00:28:01.254093620 -155.222833  58.206333   \n",
       "11964            0.59 1970-01-01 00:28:01.253849140 -112.176167  41.505833   \n",
       "11965            2.08 1970-01-01 00:28:01.253848180 -111.401667  46.012500   \n",
       "11966            0.56 1970-01-01 00:28:01.253687380 -121.952000  46.831833   \n",
       "\n",
       "       profundidad  \n",
       "0            31.57  \n",
       "1            14.17  \n",
       "2             0.26  \n",
       "3             3.97  \n",
       "4             5.96  \n",
       "...            ...  \n",
       "11962         6.84  \n",
       "11963         4.76  \n",
       "11964         3.45  \n",
       "11965        10.41  \n",
       "11966         7.83  \n",
       "\n",
       "[11967 rows x 5 columns]"
      ]
     },
     "execution_count": 63,
     "metadata": {},
     "output_type": "execute_result"
    }
   ],
   "source": [
    "df['properties.time'] = pd.to_datetime(df['properties.time'])\n",
    "df"
   ]
  },
  {
   "cell_type": "code",
   "execution_count": 65,
   "metadata": {},
   "outputs": [
    {
     "ename": "TypeError",
     "evalue": "'Timestamp' object cannot be interpreted as an integer",
     "output_type": "error",
     "traceback": [
      "\u001b[0;31m---------------------------------------------------------------------------\u001b[0m",
      "\u001b[0;31mTypeError\u001b[0m                                 Traceback (most recent call last)",
      "Cell \u001b[0;32mIn[65], line 1\u001b[0m\n\u001b[0;32m----> 1\u001b[0m tstamp_2_date(df[\u001b[39m'\u001b[39;49m\u001b[39mproperties.time\u001b[39;49m\u001b[39m'\u001b[39;49m][\u001b[39m0\u001b[39;49m])\n",
      "Cell \u001b[0;32mIn[64], line 3\u001b[0m, in \u001b[0;36mtstamp_2_date\u001b[0;34m(t)\u001b[0m\n\u001b[1;32m      1\u001b[0m \u001b[39mdef\u001b[39;00m \u001b[39mtstamp_2_date\u001b[39m(t: \u001b[39mstr\u001b[39m):\n\u001b[1;32m      2\u001b[0m \u001b[39m    \u001b[39m\u001b[39m\"\"\"turns a timestamp into date\"\"\"\u001b[39;00m\n\u001b[0;32m----> 3\u001b[0m     \u001b[39mreturn\u001b[39;00m datetime\u001b[39m.\u001b[39;49mfromtimestamp(t)\n",
      "\u001b[0;31mTypeError\u001b[0m: 'Timestamp' object cannot be interpreted as an integer"
     ]
    }
   ],
   "source": [
    "tstamp_2_date(df['properties.time'][0])"
   ]
  }
 ],
 "metadata": {
  "kernelspec": {
   "display_name": "Python 3",
   "language": "python",
   "name": "python3"
  },
  "language_info": {
   "codemirror_mode": {
    "name": "ipython",
    "version": 3
   },
   "file_extension": ".py",
   "mimetype": "text/x-python",
   "name": "python",
   "nbconvert_exporter": "python",
   "pygments_lexer": "ipython3",
   "version": "3.10.6"
  },
  "orig_nbformat": 4
 },
 "nbformat": 4,
 "nbformat_minor": 2
}
